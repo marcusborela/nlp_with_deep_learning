{
  "cells": [
    {
      "cell_type": "markdown",
      "metadata": {
        "id": "9A4HuVIYGgXg"
      },
      "source": [
        "# Notebook Processo Seletivo Aluno Especial IA-024 1S2024 FEEC-UNICAMP\n",
        "versão 5 de fevereiro de 2024, 19h\n",
        "\n",
        "\n",
        "versão 8 de fevereiro de 2024, 20h - ajuste variável vocab_size"
      ]
    },
    {
      "cell_type": "markdown",
      "metadata": {
        "id": "Ii3zUrw757xB"
      },
      "source": [
        "Aluno: Marcus Vinícius Borela de Castro"
      ]
    },
    {
      "cell_type": "markdown",
      "metadata": {
        "id": "VuhzQ0jv57xB"
      },
      "source": [
        "**Observações**:\n",
        "1. com a indisponibilidade da gpu T4 para mim no google colab após as primeiras execuções, optei por utilizar uma GPU 3090 24 gb a que tenho acesso.\n",
        "Então, onde se lê T4 no exercício, deve ser considerada uma GPU 3090 24gb\n",
        "\n",
        "2. como sugerido, utilizamos diálogos com o gpt4 para apoiar nas implementação dos exercícios e nas questões teóricas.\n",
        "\n",
        "3. optei por codificar o caderno jupyter demonstrando o passo a passo no código do impacto das questões. Separei por legibilidade as perguntas em seções. Assim, no colab, consegue-se acesso direto a partir do índice. E ficou uma documentação viva. Fora que gerar o relatório foi só imprimir como pdf o caderno.\n"
      ]
    },
    {
      "cell_type": "markdown",
      "metadata": {
        "id": "8QIqiAdPE6La"
      },
      "source": [
        "# Importações"
      ]
    },
    {
      "cell_type": "code",
      "execution_count": null,
      "metadata": {
        "id": "VorDvF62iyXF"
      },
      "outputs": [],
      "source": [
        "import torch\n",
        "from torch.utils.data import Dataset, DataLoader\n",
        "from torchtext.datasets import IMDB\n",
        "from collections import Counter\n",
        "import torch.nn as nn\n",
        "import torch.optim as optim"
      ]
    },
    {
      "cell_type": "code",
      "execution_count": null,
      "metadata": {
        "id": "Sf3Cw8alzD9o"
      },
      "outputs": [],
      "source": [
        "import time\n",
        "import re\n",
        "import string\n",
        "import math\n",
        "import numpy as np\n",
        "import matplotlib.pyplot as plt\n",
        "from torch.nn.functional import one_hot\n",
        "from torch.utils.data import DataLoader, Subset\n"
      ]
    },
    {
      "cell_type": "markdown",
      "metadata": {
        "id": "kld_wmxEEzdc"
      },
      "source": [
        "# Caderno Original - execução inicial"
      ]
    },
    {
      "cell_type": "markdown",
      "metadata": {
        "id": "A5ovJE02CwKT"
      },
      "source": [
        "## I - Vocabulário e Tokenização"
      ]
    },
    {
      "cell_type": "code",
      "execution_count": null,
      "metadata": {
        "colab": {
          "base_uri": "https://localhost:8080/"
        },
        "id": "mqzUqy3diz0X",
        "outputId": "d5333a15-ef15-4c2e-8345-a6d0e971d60b"
      },
      "outputs": [
        {
          "name": "stdout",
          "output_type": "stream",
          "text": [
            "CPU times: user 8.55 s, sys: 321 ms, total: 8.87 s\n",
            "Wall time: 1min 9s\n"
          ]
        }
      ],
      "source": [
        "%%time\n",
        "# limit the vocabulary size to 20000 most frequent tokens\n",
        "vocab_size = 20000\n",
        "\n",
        "counter = Counter()\n",
        "for (label, line) in list(IMDB(split='train')):\n",
        "    counter.update(line.split())\n",
        "\n",
        "# create a vocabulary of the 20000 most frequent tokens\n",
        "most_frequent_words = sorted(counter, key=counter.get, reverse=True)[:vocab_size]\n",
        "vocab = {word: i for i, word in enumerate(most_frequent_words, 1)} # words indexed from 1 to 20000\n",
        "vocab_size = len(vocab)"
      ]
    },
    {
      "cell_type": "code",
      "execution_count": null,
      "metadata": {
        "colab": {
          "base_uri": "https://localhost:8080/"
        },
        "id": "0rZn-m1Mi110",
        "outputId": "b0f02147-c732-44b7-bc18-998d3c3b625d"
      },
      "outputs": [
        {
          "data": {
            "text/plain": [
              "[8, 35, 0]"
            ]
          },
          "execution_count": 5,
          "metadata": {},
          "output_type": "execute_result"
        }
      ],
      "source": [
        "def encode_sentence(sentence, vocab):\n",
        "    return [vocab.get(word, 0) for word in sentence.split()] # 0 for OOV\n",
        "\n",
        "encode_sentence(\"I like Pizza\", vocab)"
      ]
    },
    {
      "cell_type": "markdown",
      "metadata": {
        "id": "5iV4bF8cDAj1"
      },
      "source": [
        "## II - Dataset"
      ]
    },
    {
      "cell_type": "code",
      "execution_count": null,
      "metadata": {
        "id": "VDUyZoTPi262",
        "outputId": "dd25f9a2-d858-457c-ae81-8bcbef328913"
      },
      "outputs": [
        {
          "name": "stdout",
          "output_type": "stream",
          "text": [
            "CPU times: user 691 ms, sys: 39.8 ms, total: 730 ms\n",
            "Wall time: 730 ms\n"
          ]
        }
      ],
      "source": [
        "%%time\n",
        "from torch.nn.functional import one_hot\n",
        "# Dataset Class with One-hot Encoding\n",
        "class IMDBDataset(Dataset):\n",
        "    def __init__(self, split, vocab):\n",
        "        self.data = list(IMDB(split=split))\n",
        "        self.vocab = vocab\n",
        "\n",
        "    def __len__(self):\n",
        "        return len(self.data)\n",
        "\n",
        "    def __getitem__(self, idx):\n",
        "        label, line = self.data[idx]\n",
        "        label = 1 if label == 1 else 0\n",
        "\n",
        "        # one-hot encoding\n",
        "        X = torch.zeros(len(self.vocab) + 1)\n",
        "        for word in encode_sentence(line, self.vocab):\n",
        "            X[word] = 1\n",
        "\n",
        "        return X, torch.tensor(label)\n",
        "\n",
        "\n",
        "# Load Data with One-hot Encoding\n",
        "train_data = IMDBDataset('train', vocab)\n",
        "test_data = IMDBDataset('test', vocab)\n"
      ]
    },
    {
      "cell_type": "markdown",
      "metadata": {
        "id": "d7RMPSvMDL5U"
      },
      "source": [
        "## III - Data Loader"
      ]
    },
    {
      "cell_type": "code",
      "execution_count": null,
      "metadata": {
        "colab": {
          "base_uri": "https://localhost:8080/"
        },
        "id": "Y7tcZv2YDIog",
        "outputId": "049ab033-dfe3-4f9f-a589-05fb2536cce4"
      },
      "outputs": [
        {
          "name": "stdout",
          "output_type": "stream",
          "text": [
            "CPU times: user 332 µs, sys: 30 µs, total: 362 µs\n",
            "Wall time: 367 µs\n"
          ]
        }
      ],
      "source": [
        "%%time\n",
        "batch_size = 128\n",
        "# define dataloaders\n",
        "train_loader = DataLoader(train_data, batch_size=batch_size, shuffle=True)\n",
        "test_loader = DataLoader(test_data, batch_size=batch_size, shuffle=False)\n"
      ]
    },
    {
      "cell_type": "code",
      "execution_count": null,
      "metadata": {
        "colab": {
          "base_uri": "https://localhost:8080/"
        },
        "id": "4ZYOCLm1q-Da",
        "outputId": "c944908d-80f8-4a74-cd4a-c8ef777ec301"
      },
      "outputs": [
        {
          "name": "stdout",
          "output_type": "stream",
          "text": [
            "Label: tensor([[1., 1., 1.,  ..., 0., 0., 0.],\n",
            "        [1., 1., 1.,  ..., 0., 0., 0.],\n",
            "        [1., 1., 1.,  ..., 0., 0., 0.],\n",
            "        ...,\n",
            "        [1., 1., 1.,  ..., 0., 0., 0.],\n",
            "        [1., 1., 1.,  ..., 0., 0., 0.],\n",
            "        [1., 1., 1.,  ..., 0., 0., 0.]]), Texto: tensor([1, 1, 1, 1, 1, 1, 1, 1, 1, 1, 1, 1, 1, 1, 1, 1, 1, 1, 1, 1, 1, 1, 1, 1,\n",
            "        1, 1, 1, 1, 1, 1, 1, 1, 1, 1, 1, 1, 1, 1, 1, 1, 1, 1, 1, 1, 1, 1, 1, 1,\n",
            "        1, 1, 1, 1, 1, 1, 1, 1, 1, 1, 1, 1, 1, 1, 1, 1, 1, 1, 1, 1, 1, 1, 1, 1,\n",
            "        1, 1, 1, 1, 1, 1, 1, 1, 1, 1, 1, 1, 1, 1, 1, 1, 1, 1, 1, 1, 1, 1, 1, 1,\n",
            "        1, 1, 1, 1])\n"
          ]
        }
      ],
      "source": [
        "# Iterando sobre as avaliações\n",
        "for label, text in test_loader:\n",
        "    print(f\"Label: {label}, Texto: {text[:100]}\")\n",
        "    break"
      ]
    },
    {
      "cell_type": "markdown",
      "metadata": {
        "id": "MwPeJ7h8DahT"
      },
      "source": [
        "## IV - Modelo"
      ]
    },
    {
      "cell_type": "code",
      "execution_count": null,
      "metadata": {
        "id": "6QuDhWvji7lt"
      },
      "outputs": [],
      "source": [
        "class OneHotMLP(nn.Module):\n",
        "    def __init__(self, vocab_size):\n",
        "        super(OneHotMLP, self).__init__()\n",
        "\n",
        "        self.fc1 = nn.Linear(vocab_size+1, 200)\n",
        "        self.fc2 = nn.Linear(200, 1)\n",
        "\n",
        "        self.relu = nn.ReLU()\n",
        "\n",
        "    def forward(self, x):\n",
        "        o = self.fc1(x.float())\n",
        "        o = self.relu(o)\n",
        "        return self.fc2(o)\n",
        "\n"
      ]
    },
    {
      "cell_type": "markdown",
      "metadata": {
        "id": "iVAhdFGXDepU"
      },
      "source": [
        "## V - Laço de Treinamento - Otimização da função de Perda pelo Gradiente descendente"
      ]
    },
    {
      "cell_type": "markdown",
      "metadata": {
        "id": "pkGAYd4P57xH"
      },
      "source": [
        "**Observação**: com a indisponibilidade do T4 para mim no google colab, utilizei uma GPU 3090 a que tenho acesso."
      ]
    },
    {
      "cell_type": "code",
      "execution_count": null,
      "metadata": {
        "colab": {
          "base_uri": "https://localhost:8080/"
        },
        "id": "RaH1Uv3yHih5",
        "outputId": "16dd0833-6e19-4914-ecbd-4f138e4a07bd"
      },
      "outputs": [
        {
          "name": "stdout",
          "output_type": "stream",
          "text": [
            "GPU: NVIDIA GeForce RTX 3090\n"
          ]
        }
      ],
      "source": [
        "# Verifica se há uma GPU disponível e define o dispositivo para GPU se possível, caso contrário, usa a CPU\n",
        "device = torch.device('cuda' if torch.cuda.is_available() else 'cpu')\n",
        "if device.type == 'cuda':\n",
        "    print('GPU:', torch.cuda.get_device_name(torch.cuda.current_device()))\n",
        "else:\n",
        "    print('using CPU')"
      ]
    },
    {
      "cell_type": "code",
      "execution_count": null,
      "metadata": {
        "id": "1SyhgAo157xI"
      },
      "outputs": [],
      "source": [
        "# Model instantiation\n",
        "model = OneHotMLP(vocab_size)"
      ]
    },
    {
      "cell_type": "code",
      "execution_count": null,
      "metadata": {
        "colab": {
          "base_uri": "https://localhost:8080/"
        },
        "id": "Nh_pe8rni93_",
        "outputId": "8be52210-9194-443e-b9c7-e588761aa40c"
      },
      "outputs": [
        {
          "name": "stdout",
          "output_type": "stream",
          "text": [
            "Epoch [1/5],             Loss: 0.6924,             Elapsed Time: 20.38 sec\n",
            "Epoch [2/5],             Loss: 0.6921,             Elapsed Time: 20.17 sec\n",
            "Epoch [3/5],             Loss: 0.6854,             Elapsed Time: 19.73 sec\n",
            "Epoch [4/5],             Loss: 0.6915,             Elapsed Time: 20.00 sec\n",
            "Epoch [5/5],             Loss: 0.6954,             Elapsed Time: 20.08 sec\n",
            "CPU times: user 1min 40s, sys: 193 ms, total: 1min 40s\n",
            "Wall time: 1min 40s\n"
          ]
        }
      ],
      "source": [
        "%%time\n",
        "\n",
        "model = model.to(device)\n",
        "# Define loss and optimizer\n",
        "criterion = nn.BCEWithLogitsLoss()\n",
        "optimizer = optim.SGD(model.parameters(), lr=0.001)\n",
        "\n",
        "# Training loop\n",
        "num_epochs = 5\n",
        "for epoch in range(num_epochs):\n",
        "    start_time = time.time()  # Start time of the epoch\n",
        "    model.train()\n",
        "    for inputs, labels in train_loader:\n",
        "        inputs = inputs.to(device)\n",
        "        labels = labels.to(device)\n",
        "        # Forward pass\n",
        "        outputs = model(inputs)\n",
        "        loss = criterion(outputs.squeeze(), labels.float())\n",
        "        # Backward and optimize\n",
        "        optimizer.zero_grad()\n",
        "        loss.backward()\n",
        "        optimizer.step()\n",
        "\n",
        "    end_time = time.time()  # End time of the epoch\n",
        "    epoch_duration = end_time - start_time  # Duration of epoch\n",
        "\n",
        "    print(f'Epoch [{epoch+1}/{num_epochs}], \\\n",
        "            Loss: {loss.item():.4f}, \\\n",
        "            Elapsed Time: {epoch_duration:.2f} sec')"
      ]
    },
    {
      "cell_type": "markdown",
      "metadata": {
        "id": "Bwvahen5D1oM"
      },
      "source": [
        "## VI - Avaliação"
      ]
    },
    {
      "cell_type": "code",
      "execution_count": null,
      "metadata": {
        "colab": {
          "base_uri": "https://localhost:8080/"
        },
        "id": "2DtTPUBfjBj-",
        "outputId": "b853ad29-d773-44df-b140-c5ec117ea384"
      },
      "outputs": [
        {
          "name": "stdout",
          "output_type": "stream",
          "text": [
            "Test Accuracy: 55.104%\n",
            "CPU times: user 19.7 s, sys: 19.9 ms, total: 19.7 s\n",
            "Wall time: 19.7 s\n"
          ]
        }
      ],
      "source": [
        "%%time\n",
        "## evaluation\n",
        "model.eval()\n",
        "\n",
        "with torch.no_grad():\n",
        "    correct = 0\n",
        "    total = 0\n",
        "    for inputs, labels in test_loader:\n",
        "        inputs = inputs.to(device)\n",
        "        labels = labels.to(device)\n",
        "        outputs = model(inputs)\n",
        "        predicted = torch.round(torch.sigmoid(outputs.squeeze()))\n",
        "        total += labels.size(0)\n",
        "        correct += (predicted == labels).sum().item()\n",
        "\n",
        "    print(f'Test Accuracy: {100 * correct / total}%')"
      ]
    },
    {
      "cell_type": "markdown",
      "metadata": {
        "id": "l-eFRsHTEp4x"
      },
      "source": [
        "# Exercícios"
      ]
    },
    {
      "cell_type": "markdown",
      "metadata": {
        "id": "nSlTW_brFepk"
      },
      "source": [
        "## I - Vocabulário e tokenização"
      ]
    },
    {
      "cell_type": "markdown",
      "metadata": {
        "id": "UEgutLPQFlMq"
      },
      "source": [
        "### **I.1.** Alguns números\n",
        "\n",
        "Na célula de calcular o vocabulário, aproveite o laço sobre IMDB de treinamento e utilize um segundo contador para\n",
        "\n",
        "Calcular o número de amostras positivas e amostras negativas.\n",
        "\n",
        "Calcule também o comprimento médio do texto em número de palavras dos textos das amostras."
      ]
    },
    {
      "cell_type": "code",
      "execution_count": null,
      "metadata": {
        "colab": {
          "base_uri": "https://localhost:8080/"
        },
        "id": "FV3n4rowGa7h",
        "outputId": "f87ef9a9-bd9b-4b7d-9714-de5eca1e35c8"
      },
      "outputs": [
        {
          "name": "stdout",
          "output_type": "stream",
          "text": [
            "Total de amostras: 25000\n",
            "Amostras positivas: 12500\n",
            "Amostras negativas: 12500\n",
            "Tamanho médio do texto: 233.7872\n",
            "Tamanho vocabulário: 20000\n",
            "CPU times: user 1.33 s, sys: 36.1 ms, total: 1.37 s\n",
            "Wall time: 1.37 s\n"
          ]
        }
      ],
      "source": [
        "%%time\n",
        "# limit the vocabulary size to 20000 most frequent tokens\n",
        "vocab_size = 20000\n",
        "\n",
        "counter = Counter()\n",
        "count_positivo = 0\n",
        "count_negativo = 0\n",
        "tamanho_total = 0\n",
        "for (label, line) in list(IMDB(split='train')):\n",
        "    counter.update(line.split())\n",
        "    if label == 1:\n",
        "      count_positivo += 1\n",
        "    else:\n",
        "      count_negativo += 1\n",
        "    # print(f'tamanho: {len(line)} de {line}' )\n",
        "    tamanho_total += len(line.split())\n",
        "\n",
        "print(f'Total de amostras: {count_negativo+count_positivo}')\n",
        "print(f'Amostras positivas: {count_positivo}')\n",
        "print(f'Amostras negativas: {count_negativo}')\n",
        "print(f'Tamanho médio do texto: {tamanho_total/(count_negativo+count_positivo)}')\n",
        "\n",
        "# create a vocabulary of the 20000 most frequent tokens\n",
        "most_frequent_words = sorted(counter, key=counter.get, reverse=True)[:vocab_size]\n",
        "vocab = {word: i for i, word in enumerate(most_frequent_words, 1)} # words indexed from 1 to 20000\n",
        "vocab_size = len(vocab)\n",
        "print(f'Tamanho vocabulário: {len(vocab)}')"
      ]
    },
    {
      "cell_type": "markdown",
      "metadata": {
        "id": "296Z4QFUH-TP"
      },
      "source": [
        "### **I.2.** Entendo o tokenizador\n",
        "\n",
        "As linhas 9 e 10 da célula do vocabulário são linhas típicas de programação python em listas com dicionários com laços na forma compreensão de listas ou list comprehension em inglês. Procure analisar e estudar profundamente o uso de lista e dicionário do python. Estude também a função encode_sentence.\n",
        "\n",
        "**Enunciado do exercício: **\n",
        "\n",
        "Mostre as cinco palavras mais frequentes do vocabulário e as cinco palavras menos frequentes.\n",
        "\n",
        "Qual é o código do token que está sendo utilizado quando a palavra não está no vocabulário?\n",
        "\n",
        "Calcule quantos tokens das frases do conjunto de treinamento que não estão no vocabulário.\n"
      ]
    },
    {
      "cell_type": "markdown",
      "metadata": {
        "id": "to1KA8xUKmuv"
      },
      "source": [
        "#### **I.2.a** Mostre as cinco palavras mais frequentes do vocabulário e as cinco palavras menos frequentes."
      ]
    },
    {
      "cell_type": "code",
      "execution_count": null,
      "metadata": {
        "colab": {
          "base_uri": "https://localhost:8080/"
        },
        "id": "UylD_E5CGL05",
        "outputId": "e63c60aa-1584-472e-8dd5-814194199e8f"
      },
      "outputs": [
        {
          "name": "stdout",
          "output_type": "stream",
          "text": [
            "Cinco palavras mais frequentes: [('the', 287032), ('a', 155096), ('and', 152664), ('of', 142972), ('to', 132568)]\n",
            "Cinco palavras menos frequentes: [('Crocker)', 1), ('McKenzie(Barry', 1), ('shearer', 1), ('grossest', 1), ('unemployed...', 1)]\n"
          ]
        }
      ],
      "source": [
        "# Cinco mais e menos frequentes\n",
        "print(f'Cinco palavras mais frequentes: {counter.most_common(5)}')\n",
        "print(f'Cinco palavras menos frequentes: {counter.most_common()[:-6:-1]}')"
      ]
    },
    {
      "cell_type": "code",
      "execution_count": null,
      "metadata": {
        "colab": {
          "base_uri": "https://localhost:8080/"
        },
        "id": "Qy_IPu-QEpmd",
        "outputId": "31cfcf70-409b-4ac1-f264-046b1184147d"
      },
      "outputs": [
        {
          "data": {
            "text/plain": [
              "[8, 35, 0]"
            ]
          },
          "execution_count": 19,
          "metadata": {},
          "output_type": "execute_result"
        }
      ],
      "source": [
        "def encode_sentence(sentence, vocab):\n",
        "    return [vocab.get(word, 0) for word in sentence.split()] # 0 for OOV\n",
        "\n",
        "encode_sentence(\"I like Pizza\", vocab)"
      ]
    },
    {
      "cell_type": "markdown",
      "metadata": {
        "id": "Qff128idKJnZ"
      },
      "source": [
        "#### **I.2.b** Qual é o código do token que está sendo utilizado quando a palavra não está no vocabulário?\n",
        "\n",
        "R.:*0 (Out Of Vocabulary): assumido no comando get se word não estiver no vocab*"
      ]
    },
    {
      "cell_type": "markdown",
      "metadata": {
        "id": "05IOoprqKj63"
      },
      "source": [
        "#### **I.2.c** Calcule quantos tokens das frases do conjunto de treinamento que não estão no vocabulário."
      ]
    },
    {
      "cell_type": "code",
      "execution_count": null,
      "metadata": {
        "id": "Sh60kF8IJ3oH"
      },
      "outputs": [],
      "source": [
        "def count_unknown_tokens(vocab, list_word):\n",
        "  \"\"\"\n",
        "      Imprime o número de tokens distintas presentes em list_word desconhecidas no vocab\n",
        "      e o número total de ocorrências delas\n",
        "  \"\"\"\n",
        "  unknown_tokens = set()  # Conjunto para armazenar palavras desconhecidas\n",
        "  total_occurrences = 0  # Contador para o número total de ocorrências\n",
        "\n",
        "  for word in list_word:\n",
        "      if word not in vocab:\n",
        "        unknown_tokens.add(word)  # Adiciona a palavra desconhecida ao conjunto\n",
        "        total_occurrences += 1  # Incrementa o contador\n",
        "      #elif word in unknown_tokens:\n",
        "      #  total_occurrences += 1  # Incrementa o contador\n",
        "\n",
        "  print(f\"Número de tokens desconhecidas: {len(unknown_tokens)}\")\n",
        "  print(f\"Número total de ocorrências de tokens desconhecidas: {total_occurrences}\")\n"
      ]
    },
    {
      "cell_type": "code",
      "execution_count": null,
      "metadata": {
        "colab": {
          "base_uri": "https://localhost:8080/"
        },
        "id": "dSTYgUacL1u_",
        "outputId": "e31d9658-0c00-4b2b-ef82-4e6378fd3c42"
      },
      "outputs": [
        {
          "name": "stdout",
          "output_type": "stream",
          "text": [
            "Número de tokens desconhecidas: 3\n",
            "Número total de ocorrências de tokens desconhecidas: 5\n"
          ]
        }
      ],
      "source": [
        "# Exemplo de uso:\n",
        "list_word_teste = [\"maçã\", \"banana\", \"laranja\", \"uva\", \"abacaxi\", \"pera\", \"kiwi\", \"pêssego\", \"kiwi\", 'pera']\n",
        "vocab_teste = {\"maçã\": 1, \"banana\": 2, \"laranja\": 3, \"uva\": 4, \"abacaxi\": 5}\n",
        "\n",
        "count_unknown_tokens(vocab_teste, list_word_teste)"
      ]
    },
    {
      "cell_type": "code",
      "execution_count": null,
      "metadata": {
        "id": "U-2NZQsnNrfA"
      },
      "outputs": [],
      "source": [
        "list_treino = list(IMDB(split='train'))"
      ]
    },
    {
      "cell_type": "code",
      "execution_count": null,
      "metadata": {
        "colab": {
          "base_uri": "https://localhost:8080/"
        },
        "id": "G0rohhUgM-ma",
        "outputId": "b7c0071c-4f70-4cde-aa4c-671bd883644c"
      },
      "outputs": [
        {
          "data": {
            "text/plain": [
              "[(1,\n",
              "  'I rented I AM CURIOUS-YELLOW from my video store because of all the controversy that surrounded it when it was first released in 1967. I also heard that at first it was seized by U.S. customs if it ever tried to enter this country, therefore being a fan of films considered \"controversial\" I really had to see this for myself.<br /><br />The plot is centered around a young Swedish drama student named Lena who wants to learn everything she can about life. In particular she wants to focus her attentions to making some sort of documentary on what the average Swede thought about certain political issues such as the Vietnam War and race issues in the United States. In between asking politicians and ordinary denizens of Stockholm about their opinions on politics, she has sex with her drama teacher, classmates, and married men.<br /><br />What kills me about I AM CURIOUS-YELLOW is that 40 years ago, this was considered pornographic. Really, the sex and nudity scenes are few and far between, even then it\\'s not shot like some cheaply made porno. While my countrymen mind find it shocking, in reality sex and nudity are a major staple in Swedish cinema. Even Ingmar Bergman, arguably their answer to good old boy John Ford, had sex scenes in his films.<br /><br />I do commend the filmmakers for the fact that any sex shown in the film is shown for artistic purposes rather than just to shock people and make money to be shown in pornographic theaters in America. I AM CURIOUS-YELLOW is a good film for anyone wanting to study the meat and potatoes (no pun intended) of Swedish cinema. But really, this film doesn\\'t have much of a plot.'),\n",
              " (1,\n",
              "  '\"I Am Curious: Yellow\" is a risible and pretentious steaming pile. It doesn\\'t matter what one\\'s political views are because this film can hardly be taken seriously on any level. As for the claim that frontal male nudity is an automatic NC-17, that isn\\'t true. I\\'ve seen R-rated films with male nudity. Granted, they only offer some fleeting views, but where are the R-rated films with gaping vulvas and flapping labia? Nowhere, because they don\\'t exist. The same goes for those crappy cable shows: schlongs swinging in the breeze but not a clitoris in sight. And those pretentious indie movies like The Brown Bunny, in which we\\'re treated to the site of Vincent Gallo\\'s throbbing johnson, but not a trace of pink visible on Chloe Sevigny. Before crying (or implying) \"double-standard\" in matters of nudity, the mentally obtuse should take into account one unavoidably obvious anatomical difference between men and women: there are no genitals on display when actresses appears nude, and the same cannot be said for a man. In fact, you generally won\\'t see female genitals in an American film in anything short of porn or explicit erotica. This alleged double-standard is less a double standard than an admittedly depressing ability to come to terms culturally with the insides of women\\'s bodies.')]"
            ]
          },
          "execution_count": 25,
          "metadata": {},
          "output_type": "execute_result"
        }
      ],
      "source": [
        "list_treino[:2]"
      ]
    },
    {
      "cell_type": "code",
      "execution_count": null,
      "metadata": {
        "id": "0TDr3mcnNtUM"
      },
      "outputs": [],
      "source": [
        "list_word_treino = []\n",
        "for target, texto in list_treino:\n",
        "  # print(texto)\n",
        "  list_word_treino.extend(texto.split())\n"
      ]
    },
    {
      "cell_type": "code",
      "execution_count": null,
      "metadata": {
        "colab": {
          "base_uri": "https://localhost:8080/"
        },
        "id": "e8XIwWCLOKtr",
        "outputId": "3fc202f5-ead6-4c3c-eb1c-56d4ef052dac"
      },
      "outputs": [
        {
          "data": {
            "text/plain": [
              "['I', 'rented', 'I', 'AM', 'CURIOUS-YELLOW']"
            ]
          },
          "execution_count": 27,
          "metadata": {},
          "output_type": "execute_result"
        }
      ],
      "source": [
        "list_word_treino[:5]"
      ]
    },
    {
      "cell_type": "code",
      "execution_count": null,
      "metadata": {
        "colab": {
          "base_uri": "https://localhost:8080/"
        },
        "id": "OIHmLEsWL4YW",
        "outputId": "23f3b63a-b65d-4fed-c896-4706afd73c7d"
      },
      "outputs": [
        {
          "name": "stdout",
          "output_type": "stream",
          "text": [
            "Número de tokens desconhecidas: 260617\n",
            "Número total de ocorrências de tokens desconhecidas: 566141\n"
          ]
        }
      ],
      "source": [
        "count_unknown_tokens(vocab, list_word_treino)"
      ]
    },
    {
      "cell_type": "markdown",
      "metadata": {
        "id": "OOPUert7PYKO"
      },
      "source": [
        "### **I3** Reduzindo o número de amostras para 200\n",
        "\n",
        "Uma forma simples de reduzir o número de amostras é utilizar o fatiamento de listas para selecionar apenas as primeiras 200 amostras utilizando [:200] na lista do IMDB: list(IMDB(split='train'))[:200].\n",
        "Faça isto, tanto na linha 5 da célula de calcular o vocabulário como na linha 5 da célula do \"II - Dataset\".\n",
        "Com estas duas modificações, execute o notebook por completo novamente. Você verá que o tempo de processamento cairá drasticamente, para aproximadamente 1 a 2 segundos por época. Porém você vai notar que a Acurácia calculada na célula VI - Avaliação sobe para 100% ou próximo disso.\n",
        "Consegue justificar a razão deste resultado inesperado, entendendo que no treinamento, as perdas em cada época continuam próximas de valores com todo o dataset?\n",
        "Para ver a resposta, verifique agora no dataset com 200 amostras, quantas são as amostras positivas e quantas são as amostras negativas no dataset de teste.\n"
      ]
    },
    {
      "cell_type": "code",
      "execution_count": null,
      "metadata": {
        "colab": {
          "base_uri": "https://localhost:8080/"
        },
        "id": "inA93aWvQCw2",
        "outputId": "aa9fc866-fcd5-4119-fdea-81ec5bc5beff"
      },
      "outputs": [
        {
          "name": "stdout",
          "output_type": "stream",
          "text": [
            "Total de amostras: 200\n",
            "Amostras positivas: 200\n",
            "Amostras negativas: 0\n",
            "Tamanho médio do texto: 225.85\n",
            "Tamanho vocabulário limitado 200: 10118\n",
            "CPU times: user 383 ms, sys: 12 ms, total: 395 ms\n",
            "Wall time: 394 ms\n"
          ]
        }
      ],
      "source": [
        "%%time\n",
        "# limit the vocabulary size to 20000 most frequent tokens\n",
        "vocab_size = 20000\n",
        "\n",
        "counter = Counter()\n",
        "count_positivo = 0\n",
        "count_negativo = 0\n",
        "tamanho_total = 0\n",
        "for (label, line) in list(IMDB(split='train'))[:200]:\n",
        "    counter.update(line.split())\n",
        "    if label == 1:\n",
        "      count_positivo += 1\n",
        "    else:\n",
        "      count_negativo += 1\n",
        "    # print(f'tamanho: {len(line)} de {line}' )\n",
        "    tamanho_total += len(line.split())\n",
        "\n",
        "print(f'Total de amostras: {count_negativo+count_positivo}')\n",
        "print(f'Amostras positivas: {count_positivo}')\n",
        "print(f'Amostras negativas: {count_negativo}')\n",
        "print(f'Tamanho médio do texto: {tamanho_total/(count_negativo+count_positivo)}')\n",
        "\n",
        "# create a vocabulary of the 20000 most frequent tokens\n",
        "most_frequent_words = sorted(counter, key=counter.get, reverse=True)[:vocab_size]\n",
        "vocab_lim_200 = {word: i for i, word in enumerate(most_frequent_words, 1)} # words indexed from 1 to 20000\n",
        "vocab_size_lim_200 = len(vocab_lim_200)\n",
        "print(f'Tamanho vocabulário limitado 200: {len(vocab_lim_200)}')"
      ]
    },
    {
      "cell_type": "code",
      "execution_count": null,
      "metadata": {
        "id": "QWFSR9u7QCw4"
      },
      "outputs": [],
      "source": [
        "# Dataset Class with One-hot Encoding\n",
        "class IMDBDataset(Dataset):\n",
        "    def __init__(self, split, vocab):\n",
        "        self.data = list(IMDB(split=split))[:200]\n",
        "        self.vocab = vocab\n",
        "\n",
        "    def __len__(self):\n",
        "        return len(self.data)\n",
        "\n",
        "    def __getitem__(self, idx):\n",
        "        label, line = self.data[idx]\n",
        "        label = 1 if label == 1 else 0\n",
        "\n",
        "        # one-hot encoding\n",
        "        X = torch.zeros(len(self.vocab) + 1)\n",
        "        for word in encode_sentence(line, self.vocab):\n",
        "            X[word] = 1\n",
        "\n",
        "        return X, torch.tensor(label)\n",
        "\n",
        "\n",
        "# Load Data with One-hot Encoding\n",
        "train_data_lim_200 = IMDBDataset('train', vocab_lim_200)\n",
        "test_data_lim_200 = IMDBDataset('test', vocab_lim_200)\n"
      ]
    },
    {
      "cell_type": "code",
      "execution_count": null,
      "metadata": {
        "colab": {
          "base_uri": "https://localhost:8080/"
        },
        "id": "gBqGjhblQCw4",
        "outputId": "fe1abc3f-b97c-4740-c6f6-63d67dce0c9e"
      },
      "outputs": [
        {
          "name": "stdout",
          "output_type": "stream",
          "text": [
            "CPU times: user 261 µs, sys: 4 µs, total: 265 µs\n",
            "Wall time: 268 µs\n"
          ]
        }
      ],
      "source": [
        "%%time\n",
        "batch_size = 128\n",
        "# define dataloaders\n",
        "train_loader_lim_200 = DataLoader(train_data_lim_200, batch_size=batch_size, shuffle=True)\n",
        "test_loader_lim_200 = DataLoader(test_data_lim_200, batch_size=batch_size, shuffle=False)\n"
      ]
    },
    {
      "cell_type": "code",
      "execution_count": null,
      "metadata": {
        "colab": {
          "base_uri": "https://localhost:8080/"
        },
        "id": "akBWoaqqS6_U",
        "outputId": "8640b3fe-caf4-4131-fff8-55aa2b6a830e"
      },
      "outputs": [
        {
          "name": "stdout",
          "output_type": "stream",
          "text": [
            "Número de registros no dataset de treino: 200\n",
            "Número de registros no dataset de teste: 200\n"
          ]
        }
      ],
      "source": [
        "print(f'Número de registros no dataset de treino: {len(train_loader_lim_200.dataset)}')\n",
        "print(f'Número de registros no dataset de teste: {len(test_loader_lim_200.dataset)}')"
      ]
    },
    {
      "cell_type": "code",
      "execution_count": null,
      "metadata": {
        "colab": {
          "base_uri": "https://localhost:8080/",
          "height": 174
        },
        "id": "U4L-n7-lWe6g",
        "outputId": "db53a0bf-b200-4f74-e596-466960a6871b"
      },
      "outputs": [
        {
          "name": "stdout",
          "output_type": "stream",
          "text": [
            "<class 'torch.Tensor'>\n",
            "tensor([[0., 1., 1.,  ..., 0., 0., 0.],\n",
            "        [0., 1., 1.,  ..., 0., 0., 0.],\n",
            "        [0., 1., 1.,  ..., 0., 0., 0.],\n",
            "        ...,\n",
            "        [0., 1., 1.,  ..., 0., 0., 0.],\n",
            "        [0., 1., 1.,  ..., 0., 0., 0.],\n",
            "        [0., 1., 1.,  ..., 0., 0., 0.]])\n",
            "<class 'torch.Tensor'>\n",
            "tensor([1, 1, 1, 1, 1, 1, 1, 1, 1, 1, 1, 1, 1, 1, 1, 1, 1, 1, 1, 1, 1, 1, 1, 1,\n",
            "        1, 1, 1, 1, 1, 1, 1, 1, 1, 1, 1, 1, 1, 1, 1, 1, 1, 1, 1, 1, 1, 1, 1, 1,\n",
            "        1, 1, 1, 1, 1, 1, 1, 1, 1, 1, 1, 1, 1, 1, 1, 1, 1, 1, 1, 1, 1, 1, 1, 1,\n",
            "        1, 1, 1, 1, 1, 1, 1, 1, 1, 1, 1, 1, 1, 1, 1, 1, 1, 1, 1, 1, 1, 1, 1, 1,\n",
            "        1, 1, 1, 1, 1, 1, 1, 1, 1, 1, 1, 1, 1, 1, 1, 1, 1, 1, 1, 1, 1, 1, 1, 1,\n",
            "        1, 1, 1, 1, 1, 1, 1, 1])\n"
          ]
        },
        {
          "data": {
            "text/plain": [
              "'\\n    if isinstance(data, tuple) and len(data) == 2:\\n        inputs, labels = data  # Desempacota os dados\\n        # Imprime os dados (inputs) e os rótulos (labels)\\n        print(\"Dados (inputs):\")\\n        print(inputs)\\n\\n        print(\"\\nRótulos (labels):\")\\n        print(labels)\\n    else:\\n        print(\"Estrutura de dados inesperada. Verifique o formato do objeto \\'data\\'.\")\\n'"
            ]
          },
          "execution_count": 35,
          "metadata": {},
          "output_type": "execute_result"
        }
      ],
      "source": [
        "for data in next(iter(train_loader_lim_200)):\n",
        "  print(type(data))\n",
        "  print(data)\n",
        "  #break\n",
        "\"\"\"\n",
        "    if isinstance(data, tuple) and len(data) == 2:\n",
        "        inputs, labels = data  # Desempacota os dados\n",
        "        # Imprime os dados (inputs) e os rótulos (labels)\n",
        "        print(\"Dados (inputs):\")\n",
        "        print(inputs)\n",
        "\n",
        "        print(\"\\nRótulos (labels):\")\n",
        "        print(labels)\n",
        "    else:\n",
        "        print(\"Estrutura de dados inesperada. Verifique o formato do objeto 'data'.\")\n",
        "\"\"\""
      ]
    },
    {
      "cell_type": "code",
      "execution_count": null,
      "metadata": {
        "id": "TWwbzeGM57xZ"
      },
      "outputs": [],
      "source": [
        "del model"
      ]
    },
    {
      "cell_type": "code",
      "execution_count": null,
      "metadata": {
        "id": "zAKYtl69Tmgx"
      },
      "outputs": [],
      "source": [
        "# Model instantiation\n",
        "model_lim_200 = OneHotMLP(vocab_size_lim_200)"
      ]
    },
    {
      "cell_type": "code",
      "execution_count": null,
      "metadata": {
        "colab": {
          "base_uri": "https://localhost:8080/"
        },
        "id": "zlfP2d0tQCw6",
        "outputId": "1606c452-6e44-480b-dfd7-f991a8c1ba1a"
      },
      "outputs": [
        {
          "name": "stdout",
          "output_type": "stream",
          "text": [
            "tensor(1)\n",
            "tensor([0., 1., 1.,  ..., 0., 0., 0.])\n",
            "tensor(1)\n",
            "tensor([0., 1., 1.,  ..., 0., 0., 0.])\n",
            "Epoch [1/5],             Loss: 0.6718,             Elapsed Time: 0.19 sec\n",
            "tensor(1)\n",
            "tensor([0., 1., 1.,  ..., 0., 0., 0.])\n",
            "tensor(1)\n",
            "tensor([0., 1., 1.,  ..., 0., 0., 0.])\n",
            "Epoch [2/5],             Loss: 0.6707,             Elapsed Time: 0.15 sec\n",
            "tensor(1)\n",
            "tensor([0., 1., 1.,  ..., 0., 0., 0.])\n",
            "tensor(1)\n",
            "tensor([0., 1., 1.,  ..., 0., 0., 0.])\n",
            "Epoch [3/5],             Loss: 0.6694,             Elapsed Time: 0.15 sec\n",
            "tensor(1)\n",
            "tensor([0., 1., 1.,  ..., 0., 0., 0.])\n",
            "tensor(1)\n",
            "tensor([0., 1., 1.,  ..., 0., 0., 0.])\n",
            "Epoch [4/5],             Loss: 0.6656,             Elapsed Time: 0.16 sec\n",
            "tensor(1)\n",
            "tensor([0., 1., 1.,  ..., 0., 0., 0.])\n",
            "tensor(1)\n",
            "tensor([0., 1., 1.,  ..., 0., 0., 0.])\n",
            "Epoch [5/5],             Loss: 0.6656,             Elapsed Time: 0.15 sec\n",
            "CPU times: user 775 ms, sys: 32 ms, total: 807 ms\n",
            "Wall time: 806 ms\n"
          ]
        }
      ],
      "source": [
        "%%time\n",
        "model_lim_200 = model_lim_200.to(device)\n",
        "# Define loss and optimizer\n",
        "criterion = nn.BCEWithLogitsLoss()\n",
        "optimizer = optim.SGD(model_lim_200.parameters(), lr=0.001)\n",
        "\n",
        "# Training loop\n",
        "num_epochs = 5\n",
        "for epoch in range(num_epochs):\n",
        "    start_time = time.time()  # Start time of the epoch\n",
        "    model_lim_200.train()\n",
        "    for inputs, labels in train_loader_lim_200:\n",
        "        print(labels[0])\n",
        "        print(inputs[0])\n",
        "        inputs = inputs.to(device)\n",
        "        labels = labels.to(device)\n",
        "        # Forward pass\n",
        "        outputs = model_lim_200(inputs)\n",
        "        loss = criterion(outputs.squeeze(), labels.float())\n",
        "        # Backward and optimize\n",
        "        optimizer.zero_grad()\n",
        "        loss.backward()\n",
        "        optimizer.step()\n",
        "\n",
        "    end_time = time.time()  # End time of the epoch\n",
        "    epoch_duration = end_time - start_time  # Duration of epoch\n",
        "\n",
        "    print(f'Epoch [{epoch+1}/{num_epochs}], \\\n",
        "            Loss: {loss.item():.4f}, \\\n",
        "            Elapsed Time: {epoch_duration:.2f} sec')"
      ]
    },
    {
      "cell_type": "code",
      "execution_count": null,
      "metadata": {
        "colab": {
          "base_uri": "https://localhost:8080/"
        },
        "id": "9XUySTCCQCw6",
        "outputId": "38e11f96-41a2-4455-e9d8-307984447aa1"
      },
      "outputs": [
        {
          "name": "stdout",
          "output_type": "stream",
          "text": [
            " Labels: tensor([1, 1, 1, 1, 1, 1, 1, 1, 1, 1])\n",
            "Outputs tensor([[0.0474],\n",
            "        [0.0446],\n",
            "        [0.0451],\n",
            "        [0.0119],\n",
            "        [0.0381],\n",
            "        [0.0663],\n",
            "        [0.0773],\n",
            "        [0.0578],\n",
            "        [0.0571],\n",
            "        [0.0649]], device='cuda:0')\n",
            "Predicted tensor([1., 1., 1., 1., 1., 1., 1., 1., 1., 1.], device='cuda:0')\n",
            " Labels: tensor([1, 1, 1, 1, 1, 1, 1, 1, 1, 1])\n",
            "Outputs tensor([[0.0533],\n",
            "        [0.0315],\n",
            "        [0.0833],\n",
            "        [0.1085],\n",
            "        [0.0474],\n",
            "        [0.0586],\n",
            "        [0.0791],\n",
            "        [0.0546],\n",
            "        [0.0657],\n",
            "        [0.0540]], device='cuda:0')\n",
            "Predicted tensor([1., 1., 1., 1., 1., 1., 1., 1., 1., 1.], device='cuda:0')\n",
            "Test Accuracy: 100.0%\n",
            "CPU times: user 165 ms, sys: 16 ms, total: 181 ms\n",
            "Wall time: 180 ms\n"
          ]
        }
      ],
      "source": [
        "%%time\n",
        "## evaluation\n",
        "model_lim_200.eval()\n",
        "\n",
        "with torch.no_grad():\n",
        "    correct = 0\n",
        "    total = 0\n",
        "    for inputs, labels in test_loader_lim_200:\n",
        "        print(f' Labels: {labels[:10]}')\n",
        "        inputs = inputs.to(device)\n",
        "        labels = labels.to(device)\n",
        "        outputs = model_lim_200(inputs)\n",
        "        print(f'Outputs {outputs[:10]}')\n",
        "        predicted = torch.round(torch.sigmoid(outputs.squeeze()))\n",
        "        print(f'Predicted {predicted[:10]}')\n",
        "        total += labels.size(0)\n",
        "        correct += (predicted == labels).sum().item()\n",
        "\n",
        "    print(f'Test Accuracy: {100 * correct / total}%')"
      ]
    },
    {
      "cell_type": "markdown",
      "metadata": {
        "id": "XAm-Lc5t57xZ"
      },
      "source": [
        "#### **I.3.a)** Qual é a razão pela qual o modelo preditivo conseguiu acertar 100% das amostras de teste do dataset selecionado com apenas as primeiras 200 amostras?\n"
      ]
    },
    {
      "cell_type": "markdown",
      "metadata": {
        "id": "n5uXUy3Y57xZ"
      },
      "source": [
        "R.: porque os 200 primeiros registros de treinamento são todos positivos. E os primeiros 200 dados de teste também. Daí o modelo aprendeu a prever positivo. E os testes apenas testaram se era positivo."
      ]
    },
    {
      "cell_type": "markdown",
      "metadata": {
        "id": "ElGQmTIe57xa"
      },
      "source": [
        "#### **I.3.b)** Modifique a forma de selecionar 200 amostras do dataset, porém garantindo que ele continue balanceado, isto é, aproximadamente 100 amostras positivas e 100 amostras negativas.\n"
      ]
    },
    {
      "cell_type": "code",
      "execution_count": null,
      "metadata": {
        "id": "GHmocz3157xa",
        "outputId": "868e74b3-2e64-45ad-a0c5-ef86ce854ed4"
      },
      "outputs": [
        {
          "name": "stdout",
          "output_type": "stream",
          "text": [
            "negative\n",
            "2\n",
            "positive\n",
            "1\n",
            "negative\n",
            "2\n",
            "positive\n",
            "1\n"
          ]
        }
      ],
      "source": [
        "class IMDBDatasetBalanced(Dataset):\n",
        "    def __init__(self, split, vocab):\n",
        "        self.data = list(IMDB(split=split))\n",
        "        self.vocab = vocab\n",
        "\n",
        "        # Separa os exemplos 100 por classe\n",
        "        positive_examples = [item for item in self.data if item[0] == 1][:100]\n",
        "        negative_examples = [item for item in self.data if item[0] != 1][:100]\n",
        "\n",
        "        print('negative')\n",
        "        for label, input in negative_examples:\n",
        "            print(label)\n",
        "            break\n",
        "\n",
        "        print('positive')\n",
        "        for label, input in positive_examples:\n",
        "            print(label)\n",
        "            break\n",
        "\n",
        "        # Combina os exemplos das duas classes\n",
        "        self.data = positive_examples + negative_examples\n",
        "\n",
        "    def __len__(self):\n",
        "        return len(self.data)\n",
        "\n",
        "    def __getitem__(self, idx):\n",
        "        label, line = self.data[idx]\n",
        "        label = 1 if label == 1 else 0\n",
        "\n",
        "        # one-hot encoding\n",
        "        X = torch.zeros(len(self.vocab) + 1)\n",
        "        for word in encode_sentence(line, self.vocab):\n",
        "            X[word] = 1\n",
        "\n",
        "        return X, torch.tensor(label)\n",
        "train_data_lim_200_balanced = IMDBDatasetBalanced('train', vocab_lim_200)\n",
        "test_data_lim_200_balanced = IMDBDatasetBalanced('test', vocab_lim_200)"
      ]
    },
    {
      "cell_type": "code",
      "execution_count": null,
      "metadata": {
        "id": "A8vE_CV257xa",
        "outputId": "301419f6-e6a5-416d-d2b5-57b3ff76a1b0"
      },
      "outputs": [
        {
          "name": "stdout",
          "output_type": "stream",
          "text": [
            "tensor(1)\n"
          ]
        }
      ],
      "source": [
        "for input, label in train_data_lim_200_balanced:\n",
        "    print(label)\n",
        "    break"
      ]
    },
    {
      "cell_type": "markdown",
      "metadata": {
        "id": "AyiekBRJ57xa"
      },
      "source": [
        "Conferindo se está balanceado:"
      ]
    },
    {
      "cell_type": "code",
      "execution_count": null,
      "metadata": {
        "id": "uTom3b7j57xa",
        "outputId": "a79119ba-a7f8-4e94-87cf-4693c211324f"
      },
      "outputs": [
        {
          "name": "stdout",
          "output_type": "stream",
          "text": [
            "Label 1: 100 exemplos\n",
            "Label 0: 100 exemplos\n"
          ]
        }
      ],
      "source": [
        "# Crie um defaultdict com valor padrão 0 para contagem das classes\n",
        "label_counts = {}\n",
        "\n",
        "for _, label in train_data_lim_200_balanced:\n",
        "    if label.item() not in label_counts:\n",
        "        label_counts[label.item()] = 0\n",
        "    label_counts[label.item()] += 1\n",
        "\n",
        "# Imprime o total por valor em label\n",
        "for value, count in label_counts.items():\n",
        "    print(f\"Label {value}: {count} exemplos\")"
      ]
    },
    {
      "cell_type": "markdown",
      "metadata": {
        "id": "vEUAOlnX57xa"
      },
      "source": [
        "Se o pedido fosse para balancear o dataload, teria partido para algo parecido com o comando abaixo (não executado):\n",
        "\n",
        "\n",
        "        from torch.utils.data import WeightedRandomSampler\n",
        "\n",
        "        # Calcule os pesos para cada classe\n",
        "        class_counts = [100, 100]  # Número de exemplos para cada classe\n",
        "        weights = 1.0 / torch.tensor(class_counts, dtype=torch.float)\n",
        "\n",
        "        # Crie um sampler ponderado\n",
        "        sampler = WeightedRandomSampler(weights, len(train_data), replacement=True)\n",
        "\n",
        "        # Crie o DataLoader com o sampler\n",
        "        train_loader_balanced = DataLoader(train_data, batch_size=batch_size, sampler=sampler)"
      ]
    },
    {
      "cell_type": "markdown",
      "metadata": {
        "id": "vcUAlkvN57xa"
      },
      "source": [
        "## **II - Dataset**\n",
        "\n",
        "Precisamos entender como funciona a classe IMDBDataset. Ela é a classe responsável para acessar cada amostra do dataset.\n",
        "\n",
        "Em primeiro lugar precisamos entender qual será a entrada da rede neural para decidir se o texto é uma crítica positiva ou negativa. Uma das formas mais simples de construir um modelo preditivo é com base nas palavras utilizadas no texto. A distribuição das palavras de um texto tem alta correlação com o fato do texto estar falando bem ou falando mal de um filme. Certamente é estimativa que possui seus erros, mas é a forma mais simples e eficiente de se fazer uma análise de sentimento ou de maneira geral uma classificação de um texto. Esse método é denominado \"Bag of Words\". A entrada da rede neural, para cada amostra, será um vetor de comprimento do vocabulário, com valores todos zero, com exceção dos tokens que aparecem no texto da amostra. Esse método de codificação é também denominado \"One-Hot\". Estude o código da classe IMDBDataset fazendo experimentos e perguntas ao chatGPT para entender com profundidade esta classe.\n",
        "\n",
        "\n",
        "Enunciado do exercício:\n"
      ]
    },
    {
      "cell_type": "markdown",
      "metadata": {
        "id": "Oh8W1mWo57xb"
      },
      "source": [
        "### **II.1** Investigação inicial"
      ]
    },
    {
      "cell_type": "markdown",
      "metadata": {
        "id": "CtIrbWNC57xb"
      },
      "source": [
        "#### II.1.a) Investigue o dataset criado na linha 24. Faça um código que aplique um laço sobre o dataset train_data e calcule novamente quantas amostras positivas e negativas do dataset.\n"
      ]
    },
    {
      "cell_type": "code",
      "execution_count": null,
      "metadata": {
        "id": "pP85NW5t57xb",
        "outputId": "f2a72c5f-39c6-465b-f1c7-9668bff67e76"
      },
      "outputs": [
        {
          "name": "stdout",
          "output_type": "stream",
          "text": [
            "CPU times: user 1.1 s, sys: 36 ms, total: 1.14 s\n",
            "Wall time: 1.14 s\n"
          ]
        }
      ],
      "source": [
        "%%time\n",
        "# limit the vocabulary size to 20000 most frequent tokens\n",
        "vocab_size = 20000\n",
        "\n",
        "counter = Counter()\n",
        "for (label, line) in list(IMDB(split='train')):\n",
        "    counter.update(line.split())\n",
        "\n",
        "# create a vocabulary of the 20000 most frequent tokens\n",
        "most_frequent_words = sorted(counter, key=counter.get, reverse=True)[:vocab_size]\n",
        "vocab = {word: i for i, word in enumerate(most_frequent_words, 1)} # words indexed from 1 to 20000\n",
        "vocab_size = len(vocab)"
      ]
    },
    {
      "cell_type": "code",
      "execution_count": null,
      "metadata": {
        "id": "mc7umQKv57xb",
        "outputId": "cbb8f4e8-9b45-4c93-ca3e-e97865e82993"
      },
      "outputs": [
        {
          "name": "stdout",
          "output_type": "stream",
          "text": [
            "CPU times: user 678 ms, sys: 36.1 ms, total: 714 ms\n",
            "Wall time: 713 ms\n"
          ]
        }
      ],
      "source": [
        "%%time\n",
        "from torch.nn.functional import one_hot\n",
        "# Dataset Class with One-hot Encoding\n",
        "class IMDBDataset(Dataset):\n",
        "    def __init__(self, split, vocab):\n",
        "        self.data = list(IMDB(split=split))\n",
        "        self.vocab = vocab\n",
        "\n",
        "    def __len__(self):\n",
        "        return len(self.data)\n",
        "\n",
        "    def __getitem__(self, idx):\n",
        "        label, line = self.data[idx]\n",
        "        label = 1 if label == 1 else 0\n",
        "\n",
        "        # one-hot encoding\n",
        "        X = torch.zeros(len(self.vocab) + 1)\n",
        "        for word in encode_sentence(line, self.vocab):\n",
        "            X[word] = 1\n",
        "\n",
        "        return X, torch.tensor(label)\n",
        "\n",
        "\n",
        "# Load Data with One-hot Encoding\n",
        "train_data = IMDBDataset('train', vocab)\n",
        "test_data = IMDBDataset('test', vocab)\n"
      ]
    },
    {
      "cell_type": "code",
      "execution_count": null,
      "metadata": {
        "id": "SkdkWFtW57xb",
        "outputId": "e7719714-5cb7-4aad-827f-b3ed6011ec70"
      },
      "outputs": [
        {
          "name": "stdout",
          "output_type": "stream",
          "text": [
            "Label 1: 12500 exemplos\n",
            "Label 0: 12500 exemplos\n"
          ]
        }
      ],
      "source": [
        "# Crie um defaultdict com valor padrão 0 para contagem das classes\n",
        "label_counts = {}\n",
        "\n",
        "for _, label in train_data:\n",
        "    if label.item() not in label_counts:\n",
        "        label_counts[label.item()] = 0\n",
        "    label_counts[label.item()] += 1\n",
        "\n",
        "# Imprime o total por valor em label\n",
        "for value, count in label_counts.items():\n",
        "    print(f\"Label {value}: {count} exemplos\")"
      ]
    },
    {
      "cell_type": "markdown",
      "metadata": {
        "id": "kHj391Az57xb"
      },
      "source": [
        "#### II.1.b) Calcule também o número médio de palavras codificadas em cada vetor one-hot. Compare este valor com o comprimento médio de cada texto (contado em palavras), conforme calculado no exercício I.1.c. e explique a diferença.\n"
      ]
    },
    {
      "cell_type": "code",
      "execution_count": null,
      "metadata": {
        "id": "tmanod4J57xb",
        "outputId": "8d17976d-6a51-4864-e39c-7609360900bf"
      },
      "outputs": [
        {
          "data": {
            "text/plain": [
              "25000"
            ]
          },
          "execution_count": 84,
          "metadata": {},
          "output_type": "execute_result"
        }
      ],
      "source": [
        "len(train_data)"
      ]
    },
    {
      "cell_type": "code",
      "execution_count": null,
      "metadata": {
        "id": "ryLAMIgu57xc",
        "outputId": "8f242d9b-f2d5-4dd0-9351-e807de8e7462"
      },
      "outputs": [
        {
          "name": "stdout",
          "output_type": "stream",
          "text": [
            "A média de palavras em cada vertor é 133.09548\n"
          ]
        }
      ],
      "source": [
        "total_palavras = 0\n",
        "for input, _ in train_data:\n",
        "    # print(input)\n",
        "    # print(torch.sum(input).item())\n",
        "    total_palavras += torch.sum(input).item()\n",
        "print(f'A média de palavras em cada vertor é {total_palavras/len(train_data)}')"
      ]
    },
    {
      "cell_type": "markdown",
      "metadata": {
        "id": "Qdu2hlni57xc"
      },
      "source": [
        "Em I.1.c o tamanho médio era 233.78 palavras por sentença.\n",
        "O valor menor 133.09 é explicado por dois motivos:\n",
        "1. A não contagem de repetições (trata-se de um bag of words binário, com valores 0 ou 1 conforme o token esteja na sentença, e não com quantidade de ocorrências do token, seria uma versão \"count\").\n",
        "2. Como o vocabulário só tem 20000 tokens diferentes, uma grande parte de tokens distintas (260617, conforme exercício I.2.C) não foram contadas. Na realidade todas elas foram consideradas como uma única token (out of vocabulary) na posição 0 do tensor."
      ]
    },
    {
      "cell_type": "markdown",
      "metadata": {
        "id": "fnUWbJya57xc"
      },
      "source": [
        "A rede neural será alimentada pelo vetor one-hot (quais suas dimensões) e fará uma predição da probabilidade do texto associado ao one-hot ser uma mensagem positiva."
      ]
    },
    {
      "cell_type": "markdown",
      "metadata": {
        "id": "V3I_YapJ57xc"
      },
      "source": [
        "### **II.2** Aumentando a eficiência do treinamento com o uso da GPU T4\n"
      ]
    },
    {
      "cell_type": "markdown",
      "metadata": {
        "id": "aoiSECOnAezT"
      },
      "source": [
        "\n",
        "O código do notebook está preparado para executar tanto com ambiente usando CPU como com GPU, entretanto o ganho de velocidade está sendo reduzido de 45 segundos para 29 segundos que é um ganho muito aquém do esperado que seria ter um speedup entre 7 e 11 vezes dependendo da aplicação. Vamos entender a razão desta baixa eficiência e corrigir o problema.\n",
        "\n",
        "A GPU é utilizada durante o treinamento do modelo, onde é utilizada a técnica de minimização da Loss utilizando o gradiente descendente. Isso ocorre na segunda célula do \"V - Laço de Treinamento\". Iremos analisar os detalhes mais à frente, para por enquanto basta entender onde a GPU é utilizada. A linha 17 é onde o modelo está fazendo a predição (passo forward), dado a entrada, calcula a saída da rede (muitas vezes chamado de logito) e o cálculo da loss está sendo feito na linha seguinte e o cálculo do gradiente ocorre na linha 21 e a linha 22 é onde ocorre o ajuste dos parâmetros (weights) da rede neural fazendo ela minimizar a Loss. Esse é o processo que é mais demorado e onde a GPU tem muitos ganhos, pois envolve praticamente apenas multiplicação de matrizes. Existem apenas 3 linhas que controlam o uso da GPU que servem para colocar o modelo, a entrada e a saída esperada (labels) na GPU: linhas 3, 14 e 15, respectivamente.\n",
        "\n",
        "Enunciado do exercício: Com a o notebook configurado para GPU T4, meça o tempo de dois laços dentro do for da linha 13 (coloque um break após dois laços) e determine quanto demora demora para o passo de forward (linhas 14 a 18), para o backward (linhas 20, 21 e 22) e o tempo total de um laço. Faça as contas e identifique o trecho que é mais demorado.\n",
        "\n"
      ]
    },
    {
      "cell_type": "markdown",
      "metadata": {
        "id": "sEPY5Wbx57xc"
      },
      "source": [
        "**Observação**: com a indisponibilidade do T4 para mim no google colab, utilizei uma GPU 3090 a que tenho acesso."
      ]
    },
    {
      "cell_type": "code",
      "execution_count": null,
      "metadata": {
        "id": "7nOaP6Mg57xc",
        "outputId": "e1a7c454-319b-49da-de04-aaae2988026c"
      },
      "outputs": [
        {
          "name": "stdout",
          "output_type": "stream",
          "text": [
            "GPU: NVIDIA GeForce RTX 3090\n"
          ]
        }
      ],
      "source": [
        "# Verifica se há uma GPU disponível e define o dispositivo para GPU se possível, caso contrário, usa a CPU\n",
        "device = torch.device('cuda' if torch.cuda.is_available() else 'cpu')\n",
        "if device.type == 'cuda':\n",
        "    print('GPU:', torch.cuda.get_device_name(torch.cuda.current_device()))\n",
        "else:\n",
        "    print('using CPU')"
      ]
    },
    {
      "cell_type": "markdown",
      "metadata": {
        "id": "rhEFxH5U57xc"
      },
      "source": [
        "#### **II.2.a)** Tempo do laço = ; Tempo do forward = ;Tempo do backward = ; Conclusão.\n"
      ]
    },
    {
      "cell_type": "code",
      "execution_count": null,
      "metadata": {
        "id": "typhv7N157xc",
        "outputId": "d230f0e9-5dcf-4103-b4a4-d5e5258a73c7"
      },
      "outputs": [
        {
          "name": "stdout",
          "output_type": "stream",
          "text": [
            "CPU times: user 7.79 ms, sys: 0 ns, total: 7.79 ms\n",
            "Wall time: 7.76 ms\n"
          ]
        }
      ],
      "source": [
        "%%time\n",
        "batch_size = 128\n",
        "# define dataloaders\n",
        "train_loader = DataLoader(train_data, batch_size=batch_size, shuffle=True)\n",
        "test_loader = DataLoader(test_data, batch_size=batch_size, shuffle=False)\n"
      ]
    },
    {
      "cell_type": "code",
      "execution_count": null,
      "metadata": {
        "id": "vwB9z5ZY57xc"
      },
      "outputs": [],
      "source": [
        "class OneHotMLP(nn.Module):\n",
        "    def __init__(self, vocab_size):\n",
        "        super(OneHotMLP, self).__init__()\n",
        "\n",
        "        self.fc1 = nn.Linear(vocab_size+1, 200)\n",
        "        self.fc2 = nn.Linear(200, 1)\n",
        "\n",
        "        self.relu = nn.ReLU()\n",
        "\n",
        "    def forward(self, x):\n",
        "        o = self.fc1(x.float())\n",
        "        o = self.relu(o)\n",
        "        return self.fc2(o)\n",
        "\n"
      ]
    },
    {
      "cell_type": "code",
      "execution_count": null,
      "metadata": {
        "id": "L_MxVjLY57xd"
      },
      "outputs": [],
      "source": [
        "# Model instantiation\n",
        "model = OneHotMLP(vocab_size)"
      ]
    },
    {
      "cell_type": "code",
      "execution_count": null,
      "metadata": {
        "id": "gw07Rlxr57xd",
        "outputId": "cf739128-7c11-41a3-81d3-4613e540f32a"
      },
      "outputs": [
        {
          "name": "stdout",
          "output_type": "stream",
          "text": [
            "Batch 1\n",
            "Batch 2\n",
            "Epoch [1/5],             Loss: 0.6946,             Elapsed Time: 0.32 sec\n",
            "Tempo total = 0.321\n",
            "Tempo move tensor to gpu = 0.02407 0.074982%\n",
            "Tempo forward = 0.00111 0.003464%\n",
            "Tempo backward = 0.0014 0.004352%\n",
            "CPU times: user 498 ms, sys: 20.1 ms, total: 518 ms\n",
            "Wall time: 322 ms\n"
          ]
        }
      ],
      "source": [
        "%%time\n",
        "\n",
        "model = model.to(device)\n",
        "# Define loss and optimizer\n",
        "criterion = nn.BCEWithLogitsLoss()\n",
        "optimizer = optim.SGD(model.parameters(), lr=0.001)\n",
        "\n",
        "# Training loop\n",
        "num_epochs = 5\n",
        "for epoch in range(num_epochs):\n",
        "    start_time = time.time()  # Start time of the epoch\n",
        "    model.train()\n",
        "    tempo_forward = 0\n",
        "    tempo_backward = 0\n",
        "    tempo_move_gpu = 0\n",
        "\n",
        "    for cnt, (inputs, labels) in enumerate(train_loader):\n",
        "        if cnt >= 2:\n",
        "            break\n",
        "        print(f\"Batch {cnt+1}\")\n",
        "        # mover para gpu\n",
        "        move_gpu_begin_time =  time.time()\n",
        "        inputs = inputs.to(device)\n",
        "        labels = labels.to(device)\n",
        "        tempo_move_gpu += time.time() - move_gpu_begin_time\n",
        "        # Forward pass\n",
        "        forward_begin_time =  time.time()\n",
        "        outputs = model(inputs)\n",
        "        loss = criterion(outputs.squeeze(), labels.float())\n",
        "        tempo_forward += time.time() - forward_begin_time\n",
        "        # Backward and optimize\n",
        "        backward_begin_time =  time.time()\n",
        "        optimizer.zero_grad()\n",
        "        loss.backward()\n",
        "        optimizer.step()\n",
        "        tempo_backward += time.time() - backward_begin_time\n",
        "\n",
        "    tempo_total = time.time() - start_time\n",
        "\n",
        "\n",
        "    end_time = time.time()  # End time of the epoch\n",
        "    epoch_duration = end_time - start_time  # Duration of epoch\n",
        "\n",
        "    print(f'Epoch [{epoch+1}/{num_epochs}], \\\n",
        "            Loss: {loss.item():.4f}, \\\n",
        "            Elapsed Time: {epoch_duration:.2f} sec')\n",
        "    break\n",
        "print(f'Tempo total = {round(tempo_total,3)}')\n",
        "print(f'Tempo move tensor to gpu = {round(tempo_move_gpu,5)} {round(tempo_move_gpu/tempo_total,6)}%')\n",
        "print(f'Tempo forward = {round(tempo_forward,5)} {round(tempo_forward/tempo_total,6)}%')\n",
        "print(f'Tempo backward = {round(tempo_backward,5)} {round(tempo_backward/tempo_total,6)}%')\n"
      ]
    },
    {
      "cell_type": "markdown",
      "metadata": {
        "id": "NTFiiT7457xd"
      },
      "source": [
        "**R.:** (soma dos 2 laços)\n",
        "\n",
        "Tempo total=0.321; Tempo de movimentação para gpu = 0.02 (7%); Tempo do forward = 0.0011 (3%); Tempo do backward = 0.0014 (4%);\n",
        "\n",
        "Conclusão\n",
        "\n",
        "O tempo de percorrimento do dataloader é o maior gargalo, aproximadamente 86%.\n"
      ]
    },
    {
      "cell_type": "markdown",
      "metadata": {
        "id": "0VsCu_4E57xd"
      },
      "source": [
        "#### **II.2.b)** Trecho que precisa ser otimizado. (Esse é um problema mais difícil)\n"
      ]
    },
    {
      "cell_type": "markdown",
      "metadata": {
        "id": "H7hnqvI657xd"
      },
      "source": [
        "R.: Esse loop precisa ser otimizado! (ver mais detalhes na solução que se segue em II.2.c.)"
      ]
    },
    {
      "cell_type": "code",
      "execution_count": null,
      "metadata": {
        "id": "BWUBTAcR57xd"
      },
      "outputs": [],
      "source": [
        "# Dataset Class with One-hot Encoding\n",
        "class IMDBDataset(Dataset):\n",
        "    (...)\n",
        "    def __getitem__(self, idx):\n",
        "        label, line = self.data[idx]\n",
        "        label = 1 if label == 1 else 0\n",
        "\n",
        "        # one-hot encoding\n",
        "        X = torch.zeros(len(self.vocab) + 1)\n",
        "        for word in encode_sentence(line, self.vocab):\n",
        "            X[word] = 1\n",
        "\n",
        "        return X, torch.tensor(label)\n"
      ]
    },
    {
      "cell_type": "markdown",
      "metadata": {
        "id": "FPScKZbs57xd"
      },
      "source": [
        "#### **II.2.c)** Otimize o código e explique aqui.\n"
      ]
    },
    {
      "cell_type": "markdown",
      "metadata": {
        "id": "DceXlqxx57xd"
      },
      "source": [
        "\n",
        "Após esta otimização, é esperado que o tempo de processamento de cada época caia tanto para execução em CPU (da ordem de 10 segundos por época) como para GPU (da ordem de 1 a 2 segundos por época). Isso utilizando as 25 mil amostras do dataset IMDB inteiro.\n",
        "\n",
        "Agora que a execução está bem mais otimizada em tempos de execução, mantenha o dataset completo: 25 mil amostras e vamos analisar um outro fator importante que é a escolha do LR (Learning Rate)\n",
        "\n"
      ]
    },
    {
      "cell_type": "markdown",
      "metadata": {
        "id": "yDNQRjFR57xe"
      },
      "source": [
        "R.: Primeiro troquei o encode_sentence por return_vocab_in_sentence que não passa mais de uma vez em repetições de uma palavra (usado set)."
      ]
    },
    {
      "cell_type": "code",
      "execution_count": null,
      "metadata": {
        "id": "b0gcLLSX57xe",
        "outputId": "4ef84c4f-7cd6-41d8-8b5e-a8a22c15f017"
      },
      "outputs": [
        {
          "data": {
            "text/plain": [
              "[35, 0, 8]"
            ]
          },
          "execution_count": 146,
          "metadata": {},
          "output_type": "execute_result"
        }
      ],
      "source": [
        "def return_vocab_in_sentence(sentence, vocab):\n",
        "    return [vocab.get(word, 0) for word in set(sentence.split())] # 0 for OOV\n",
        "\n",
        "encode_sentence(\"I like Pizza\", vocab)"
      ]
    },
    {
      "cell_type": "markdown",
      "metadata": {
        "id": "dvUMt-xT57xe"
      },
      "source": [
        "Depois, retirado loop\n",
        "\n",
        "        for word in encode_sentence(line, self.vocab):\n",
        "            X[word] = 1\n",
        "\n",
        "para\n",
        "\n",
        "        X[encode_sentence(line, self.vocab) vocab)] = 1"
      ]
    },
    {
      "cell_type": "markdown",
      "metadata": {
        "id": "9cmYMkbm57xe"
      },
      "source": [
        "E, por fim, como o conjunto de dados não é muito grande, optei por carregar os tensores no __init__\n",
        "\n",
        "Em contrapartida, haverá economia de memória ao não mais armazenar os textos (self.data). Segue código otimizado.\n",
        "\n",
        "Obs.: fora do escopo deste exercício a avaliação se haverá ou não economia de memória nessa troca. Mas, de tempo, com certeza (cache de valores calculados)."
      ]
    },
    {
      "cell_type": "code",
      "execution_count": null,
      "metadata": {
        "id": "4QRUjyeb57xe",
        "outputId": "3c59b62b-47d0-4f85-d2f2-adeae043ce64"
      },
      "outputs": [
        {
          "name": "stdout",
          "output_type": "stream",
          "text": [
            "CPU times: user 4.33 s, sys: 92.1 ms, total: 4.43 s\n",
            "Wall time: 4.42 s\n"
          ]
        }
      ],
      "source": [
        "%%time\n",
        "from torch.nn.functional import one_hot\n",
        "# Dataset Class with One-hot Encoding\n",
        "class IMDBDataset(Dataset):\n",
        "    def __init__(self, split, vocab):\n",
        "        data = list(IMDB(split=split))\n",
        "        self.vocab = vocab\n",
        "        self.labels = [torch.tensor(1) if item[0] == 1 else torch.tensor(0) for item in data]\n",
        "\n",
        "        self.sentences = []\n",
        "        for label, line in data:\n",
        "            X = torch.zeros(len(self.vocab) + 1)\n",
        "            X[return_vocab_in_sentence(line, self.vocab)] = 1\n",
        "            self.sentences.append(X)\n",
        "\n",
        "\n",
        "    def __len__(self):\n",
        "        return len(self.labels)\n",
        "\n",
        "    def __getitem__(self, idx):\n",
        "        # print('retornando idx', idx, self.sentences[idx], self.labels[idx])\n",
        "        return self.sentences[idx], self.labels[idx]\n",
        "\n",
        "\n",
        "# Load Data with One-hot Encoding\n",
        "train_data = IMDBDataset('train', vocab)\n",
        "test_data = IMDBDataset('test', vocab)"
      ]
    },
    {
      "cell_type": "code",
      "execution_count": null,
      "metadata": {
        "id": "s9OKyK1357xe",
        "outputId": "cb145f28-ec67-4e94-fe03-99c738f33836"
      },
      "outputs": [
        {
          "name": "stdout",
          "output_type": "stream",
          "text": [
            "CPU times: user 53.8 ms, sys: 0 ns, total: 53.8 ms\n",
            "Wall time: 53.6 ms\n"
          ]
        }
      ],
      "source": [
        "%%time\n",
        "batch_size = 128\n",
        "# define dataloaders\n",
        "train_loader = DataLoader(train_data, batch_size=batch_size, shuffle=True)\n",
        "test_loader = DataLoader(test_data, batch_size=batch_size, shuffle=False)\n"
      ]
    },
    {
      "cell_type": "code",
      "execution_count": null,
      "metadata": {
        "id": "hCJT2uxk57xe",
        "outputId": "0d9ca926-d8e0-4712-df6b-1c2503c1bc83"
      },
      "outputs": [
        {
          "name": "stdout",
          "output_type": "stream",
          "text": [
            "Batch 1\n",
            "Batch 2\n",
            "Epoch [1/5],             Loss: 0.6939,             Elapsed Time: 0.03 sec\n",
            "Tempo total = 0.034\n",
            "Tempo move tensor to gpu = 0.02415 0.703817%\n",
            "Tempo forward = 0.00087 0.025221%\n",
            "Tempo backward = 0.00158 0.046106%\n",
            "CPU times: user 19.1 ms, sys: 16.1 ms, total: 35.2 ms\n",
            "Wall time: 34.9 ms\n"
          ]
        }
      ],
      "source": [
        "%%time\n",
        "\n",
        "model = model.to(device)\n",
        "# Define loss and optimizer\n",
        "criterion = nn.BCEWithLogitsLoss()\n",
        "optimizer = optim.SGD(model.parameters(), lr=0.001)\n",
        "\n",
        "# Training loop\n",
        "num_epochs = 5\n",
        "for epoch in range(num_epochs):\n",
        "    start_time = time.time()  # Start time of the epoch\n",
        "    model.train()\n",
        "    tempo_forward = 0\n",
        "    tempo_backward = 0\n",
        "    tempo_move_gpu = 0\n",
        "\n",
        "    for cnt, (inputs, labels) in enumerate(train_loader):\n",
        "        if cnt >= 2:\n",
        "            break\n",
        "        print(f\"Batch {cnt+1}\")\n",
        "        # mover para gpu\n",
        "        move_gpu_begin_time =  time.time()\n",
        "        inputs = inputs.to(device)\n",
        "        labels = labels.to(device)\n",
        "        tempo_move_gpu += time.time() - move_gpu_begin_time\n",
        "        # Forward pass\n",
        "        forward_begin_time =  time.time()\n",
        "        outputs = model(inputs)\n",
        "        loss = criterion(outputs.squeeze(), labels.float())\n",
        "        tempo_forward += time.time() - forward_begin_time\n",
        "        # Backward and optimize\n",
        "        backward_begin_time =  time.time()\n",
        "        optimizer.zero_grad()\n",
        "        loss.backward()\n",
        "        optimizer.step()\n",
        "        tempo_backward += time.time() - backward_begin_time\n",
        "\n",
        "    tempo_total = time.time() - start_time\n",
        "\n",
        "\n",
        "    end_time = time.time()  # End time of the epoch\n",
        "    epoch_duration = end_time - start_time  # Duration of epoch\n",
        "\n",
        "    print(f'Epoch [{epoch+1}/{num_epochs}], \\\n",
        "            Loss: {loss.item():.4f}, \\\n",
        "            Elapsed Time: {epoch_duration:.2f} sec')\n",
        "    break\n",
        "print(f'Tempo total = {round(tempo_total,3)}')\n",
        "print(f'Tempo move tensor to gpu = {round(tempo_move_gpu,5)} {round(tempo_move_gpu/tempo_total,6)}%')\n",
        "print(f'Tempo forward = {round(tempo_forward,5)} {round(tempo_forward/tempo_total,6)}%')\n",
        "print(f'Tempo backward = {round(tempo_backward,5)} {round(tempo_backward/tempo_total,6)}%')\n"
      ]
    },
    {
      "cell_type": "markdown",
      "metadata": {
        "id": "5Rv7dgHc57xe"
      },
      "source": [
        "Tempo total nos 2 laços caiu de 0.321 para 0.034, para cerca de 10%.\n",
        "\n",
        "Tempo finais (apenas para comparativo dentro do loop):\n",
        " Movimentação para gpu = 0.02 (70%); Tempo do forward = 0.0008 (2.5%); Tempo do backward = 0.0015 (4,6%); Percorrimento dataloader: 22,9%\n"
      ]
    },
    {
      "cell_type": "markdown",
      "metadata": {
        "id": "eerGwz7M57xf"
      },
      "source": [
        "### **II.3** Escolhendo um bom valor de LR\n",
        "\n",
        "Enunciado do exercício: Faça a melhor escolha do LR, analisando o valor da acurácia no conjunto de teste, utilizando para cada valor de LR, a acurácia obtida. Faça um gráfico de Acurácia vs LR e escolha o LR que forneça a maior acurácia possível.\n"
      ]
    },
    {
      "cell_type": "markdown",
      "metadata": {
        "id": "GBtj9jGJ57xf"
      },
      "source": [
        "Ações prévias"
      ]
    },
    {
      "cell_type": "markdown",
      "metadata": {
        "id": "hvbrRsNi57xf"
      },
      "source": [
        "Definindo lista de valores de LR"
      ]
    },
    {
      "cell_type": "markdown",
      "metadata": {
        "id": "W1Vj0_7m57xf"
      },
      "source": [
        "Melhor usar versão de logspace que gera num_values valores igualmente espaçados em uma escala logarítmica entre 10^min_lr e 10^max_lr."
      ]
    },
    {
      "cell_type": "code",
      "execution_count": null,
      "metadata": {
        "id": "Z1sBfDFn57xf",
        "outputId": "fe57ab86-2e3e-4d47-94fa-caebd370c66d"
      },
      "outputs": [
        {
          "name": "stdout",
          "output_type": "stream",
          "text": [
            "linespace [1.00000000e-06 1.42865714e-02 2.85721429e-02 4.28577143e-02\n",
            " 5.71432857e-02 7.14288571e-02 8.57144286e-02 1.00000000e-01]\n",
            "logspace [1.e-08 1.e-07 1.e-06 1.e-05 1.e-04 1.e-03 1.e-02 1.e-01]\n"
          ]
        }
      ],
      "source": [
        "num_values = 8\n",
        "# Define the minimum and maximum learning rate and the number of values\n",
        "min_lr = 0.000001\n",
        "max_lr = 0.1\n",
        "learning_rates_list = np.linspace(min_lr, max_lr, num=num_values)\n",
        "print('linespace', learning_rates_list)\n",
        "\n",
        "# Generate the learning rates\n",
        "min_lr = -8  # 10^-4\n",
        "max_lr = -1  # 10^-1\n",
        "\n",
        "learning_rates_list = np.logspace(min_lr, max_lr, num=num_values)\n",
        "print('logspace', learning_rates_list)\n",
        "# Now learning_rates is an array with 20 values equally spaced between 0.0001 and 0.1"
      ]
    },
    {
      "cell_type": "markdown",
      "metadata": {
        "id": "2pLaLfJ457xf"
      },
      "source": [
        "Criando funções de treino e avaliação para chamar no loop de para cada learning rate"
      ]
    },
    {
      "cell_type": "code",
      "execution_count": null,
      "metadata": {
        "id": "MZnwHHr257xf"
      },
      "outputs": [],
      "source": [
        "def evaluate(model, test_loader):\n",
        "    ## evaluation\n",
        "    model.eval()\n",
        "\n",
        "    with torch.no_grad():\n",
        "        correct = 0\n",
        "        total = 0\n",
        "        for inputs, labels in test_loader:\n",
        "            inputs = inputs.to(device)\n",
        "            labels = labels.to(device)\n",
        "            outputs = model(inputs)\n",
        "            predicted = torch.round(torch.sigmoid(outputs.squeeze()))\n",
        "            total += labels.size(0)\n",
        "            correct += (predicted == labels).sum().item()\n",
        "        test_accuracy = 100 * correct / total\n",
        "\n",
        "        return test_accuracy"
      ]
    },
    {
      "cell_type": "code",
      "execution_count": null,
      "metadata": {
        "id": "sqz1hk7k57xf"
      },
      "outputs": [],
      "source": [
        "def train_model(model, criterion, optimizer, num_epochs, train_loader, test_loader, verbose:bool=True):\n",
        "\n",
        "    # Training loop\n",
        "    for epoch in range(num_epochs):\n",
        "        epoch_start_time = time.time()  # Start time of the epoch\n",
        "        model.train()\n",
        "        for cnt_batch, (inputs, labels) in enumerate(train_loader):\n",
        "\n",
        "\n",
        "            # print(f\"Batch {cnt+1}\")\n",
        "            # mover para gpu\n",
        "            inputs = inputs.to(device)\n",
        "            labels = labels.to(device)\n",
        "            # Forward pass\n",
        "            outputs = model(inputs)\n",
        "            if verbose and cnt_batch==0:\n",
        "                # Verifique as dimensões dos tensores\n",
        "                print(\"Dimensões dos outputs:\", outputs.shape)\n",
        "                print(\"Dimensões dos labels:\", labels.shape)\n",
        "            loss = criterion(outputs.squeeze(), labels.float())\n",
        "            # Backward and optimize\n",
        "            optimizer.zero_grad()\n",
        "            loss.backward()\n",
        "            optimizer.step()\n",
        "\n",
        "        epoch_duration = time.time() - epoch_start_time  # Duration of epoch\n",
        "\n",
        "        if verbose:\n",
        "            print(f'Epoch [{epoch+1}/{num_epochs}], \\\n",
        "                    Loss: {loss.item():.4f}, \\\n",
        "                    Elapsed Time: {epoch_duration:.2f} sec')\n",
        "\n",
        "    # Evaluate the model and record the test accuracy\n",
        "    test_accuracy = evaluate(model, test_loader)\n",
        "\n",
        "    return test_accuracy\n",
        "\n"
      ]
    },
    {
      "cell_type": "markdown",
      "metadata": {
        "id": "hG-rUTKN57xf"
      },
      "source": [
        "#### **II.3.a)** Gráfico Acurácia vs LR\n"
      ]
    },
    {
      "cell_type": "markdown",
      "metadata": {
        "id": "lKwN-IX557xg"
      },
      "source": [
        "Efetuando o treinamento"
      ]
    },
    {
      "cell_type": "code",
      "execution_count": null,
      "metadata": {
        "id": "8H3uemAN57xg"
      },
      "outputs": [],
      "source": [
        "train_loader = DataLoader(train_data,\n",
        "                          batch_size= batch_size,\n",
        "                          shuffle=True,\n",
        "                          num_workers=0,\n",
        "                          pin_memory=True)"
      ]
    },
    {
      "cell_type": "code",
      "execution_count": null,
      "metadata": {
        "id": "siTxnNt357xg",
        "outputId": "0a27cbe5-3a05-43e0-f1be-8ed56527845e"
      },
      "outputs": [
        {
          "name": "stdout",
          "output_type": "stream",
          "text": [
            "train_loader tem 196 batches\n"
          ]
        }
      ],
      "source": [
        "print(f\"train_loader tem {len(train_loader)} batches\")"
      ]
    },
    {
      "cell_type": "code",
      "execution_count": null,
      "metadata": {
        "id": "kDiQjkYv57xg",
        "outputId": "c74fc3a6-0330-452a-e6eb-4bc26ffb29d8"
      },
      "outputs": [
        {
          "name": "stdout",
          "output_type": "stream",
          "text": [
            "Epoch [1/5],                 Loss: 0.6950,                 Elapsed Time: 1.53 sec\n",
            "Epoch [2/5],                 Loss: 0.6937,                 Elapsed Time: 1.57 sec\n",
            "Epoch [3/5],                 Loss: 0.6930,                 Elapsed Time: 1.51 sec\n",
            "Epoch [4/5],                 Loss: 0.6922,                 Elapsed Time: 1.57 sec\n",
            "Epoch [5/5],                 Loss: 0.6960,                 Elapsed Time: 1.58 sec\n",
            "Treino [1/8]: lr=1e-08; test_accuracy=47.972  (train_duration 8.88 sec)\n",
            "Epoch [1/5],                 Loss: 0.6902,                 Elapsed Time: 1.50 sec\n",
            "Epoch [2/5],                 Loss: 0.6940,                 Elapsed Time: 1.53 sec\n",
            "Epoch [3/5],                 Loss: 0.6904,                 Elapsed Time: 1.53 sec\n",
            "Epoch [4/5],                 Loss: 0.6970,                 Elapsed Time: 1.58 sec\n",
            "Epoch [5/5],                 Loss: 0.6929,                 Elapsed Time: 1.56 sec\n",
            "Treino [2/8]: lr=1e-07; test_accuracy=50.336  (train_duration 8.83 sec)\n",
            "Epoch [1/5],                 Loss: 0.6848,                 Elapsed Time: 1.53 sec\n",
            "Epoch [2/5],                 Loss: 0.6880,                 Elapsed Time: 1.50 sec\n",
            "Epoch [3/5],                 Loss: 0.6896,                 Elapsed Time: 1.56 sec\n",
            "Epoch [4/5],                 Loss: 0.7040,                 Elapsed Time: 1.56 sec\n",
            "Epoch [5/5],                 Loss: 0.6877,                 Elapsed Time: 1.57 sec\n",
            "Treino [3/8]: lr=1e-06; test_accuracy=49.98  (train_duration 8.84 sec)\n",
            "Epoch [1/5],                 Loss: 0.6927,                 Elapsed Time: 1.55 sec\n",
            "Epoch [2/5],                 Loss: 0.6885,                 Elapsed Time: 1.57 sec\n",
            "Epoch [3/5],                 Loss: 0.6840,                 Elapsed Time: 1.54 sec\n",
            "Epoch [4/5],                 Loss: 0.6845,                 Elapsed Time: 1.53 sec\n",
            "Epoch [5/5],                 Loss: 0.6976,                 Elapsed Time: 1.57 sec\n",
            "Treino [4/8]: lr=1e-05; test_accuracy=50.0  (train_duration 8.89 sec)\n",
            "Epoch [1/5],                 Loss: 0.7043,                 Elapsed Time: 1.57 sec\n",
            "Epoch [2/5],                 Loss: 0.6957,                 Elapsed Time: 1.56 sec\n",
            "Epoch [3/5],                 Loss: 0.6927,                 Elapsed Time: 1.55 sec\n",
            "Epoch [4/5],                 Loss: 0.7012,                 Elapsed Time: 1.58 sec\n",
            "Epoch [5/5],                 Loss: 0.6941,                 Elapsed Time: 1.56 sec\n",
            "Treino [5/8]: lr=0.0001; test_accuracy=50.008  (train_duration 8.92 sec)\n",
            "Epoch [1/5],                 Loss: 0.6916,                 Elapsed Time: 1.59 sec\n",
            "Epoch [2/5],                 Loss: 0.6984,                 Elapsed Time: 1.56 sec\n",
            "Epoch [3/5],                 Loss: 0.6940,                 Elapsed Time: 1.59 sec\n",
            "Epoch [4/5],                 Loss: 0.6859,                 Elapsed Time: 1.58 sec\n",
            "Epoch [5/5],                 Loss: 0.6922,                 Elapsed Time: 1.57 sec\n",
            "Treino [6/8]: lr=0.001; test_accuracy=57.86  (train_duration 9.06 sec)\n",
            "Epoch [1/5],                 Loss: 0.6838,                 Elapsed Time: 1.55 sec\n",
            "Epoch [2/5],                 Loss: 0.6625,                 Elapsed Time: 1.62 sec\n",
            "Epoch [3/5],                 Loss: 0.6099,                 Elapsed Time: 1.63 sec\n",
            "Epoch [4/5],                 Loss: 0.5408,                 Elapsed Time: 1.56 sec\n",
            "Epoch [5/5],                 Loss: 0.5349,                 Elapsed Time: 1.53 sec\n",
            "Treino [7/8]: lr=0.01; test_accuracy=79.12  (train_duration 9.02 sec)\n",
            "Epoch [1/5],                 Loss: 0.4516,                 Elapsed Time: 1.56 sec\n",
            "Epoch [2/5],                 Loss: 0.3425,                 Elapsed Time: 1.60 sec\n",
            "Epoch [3/5],                 Loss: 0.2768,                 Elapsed Time: 1.59 sec\n",
            "Epoch [4/5],                 Loss: 0.2530,                 Elapsed Time: 1.59 sec\n",
            "Epoch [5/5],                 Loss: 0.3710,                 Elapsed Time: 1.58 sec\n",
            "Treino [8/8]: lr=0.1; test_accuracy=75.084  (train_duration 9.07 sec)\n"
          ]
        }
      ],
      "source": [
        "# Initialize a dictionary to record test accuracy for each learning rate\n",
        "test_accuracies_by_lr = {}\n",
        "\n",
        "for cnt_treino, lr in enumerate(learning_rates_list):\n",
        "    # Model instantiation\n",
        "    model = OneHotMLP(vocab_size)\n",
        "    model = model.to(device)\n",
        "    criterion = nn.BCEWithLogitsLoss()\n",
        "    optimizer = optim.SGD(model.parameters(), lr=lr)\n",
        "    train_start_time = time.time()  # Start time of the epoch\n",
        "    test_accuracy = train_model(model, criterion, optimizer, num_epochs=5, train_loader, test_loader)\n",
        "\n",
        "    train_duration = time.time() - train_start_time  # Duration of epoch\n",
        "\n",
        "    test_accuracies_by_lr[lr] = test_accuracy\n",
        "    print(f'Treino [{cnt_treino + 1}/{len(learning_rates_list)}]: lr={lr}; test_accuracy={round(test_accuracy,4)}  (train_duration {train_duration:.2f} sec)')"
      ]
    },
    {
      "cell_type": "markdown",
      "metadata": {
        "id": "GbwNux7J57xi"
      },
      "source": [
        "Gerando o gráfico"
      ]
    },
    {
      "cell_type": "code",
      "execution_count": null,
      "metadata": {
        "id": "8148l5RB57xi",
        "outputId": "142609a0-683e-4ac6-c27b-48ea99de565d"
      },
      "outputs": [
        {
          "data": {
            "image/png": "[encoded data removed]",
            "text/plain": [
              "<Figure size 1000x500 with 1 Axes>"
            ]
          },
          "metadata": {},
          "output_type": "display_data"
        }
      ],
      "source": [
        "\n",
        "# Plot test accuracy for each learning rate\n",
        "plt.figure(figsize=(10, 5))\n",
        "plt.plot(list(test_accuracies_by_lr.keys()), list(test_accuracies_by_lr.values()), marker='o')\n",
        "plt.xscale('log')\n",
        "plt.xlabel('Learning Rate')\n",
        "plt.ylabel('Test Accuracy')\n",
        "plt.title('Test Accuracy vs Learning Rate')\n",
        "plt.grid(True)\n",
        "plt.show()\n"
      ]
    },
    {
      "cell_type": "markdown",
      "metadata": {
        "id": "bVgtZBqP57xi"
      },
      "source": [
        "#### **II.3.b)** Valor ótimo do LR\n"
      ]
    },
    {
      "cell_type": "markdown",
      "metadata": {
        "id": "K033BdOu57xi"
      },
      "source": [
        "R.: Segue resposta\n",
        "\n",
        "Obs.: treinamentos diferentes retornaram LR diferentes como melhores. Não é escopo deste exercício tratar a repetibilidade dos resultados."
      ]
    },
    {
      "cell_type": "code",
      "execution_count": null,
      "metadata": {
        "id": "gBozvPD757xi",
        "outputId": "562e0c6d-577e-4975-c640-9cda4d6068e2"
      },
      "outputs": [
        {
          "name": "stdout",
          "output_type": "stream",
          "text": [
            "The learning rate with the highest test accuracy is 0.01\n"
          ]
        }
      ],
      "source": [
        "best_lr = max(test_accuracies_by_lr, key=test_accuracies_by_lr.get)\n",
        "print(f'The learning rate with the highest test accuracy is {best_lr}')"
      ]
    },
    {
      "cell_type": "markdown",
      "metadata": {
        "id": "o9GXsjiY57xj"
      },
      "source": [
        "#### **II.3.c)** Mostre a equação utilizada no gradiente descendente e qual é o papel do LR no ajuste dos parâmetros (weights) do modelo da rede neural.\n",
        "\n"
      ]
    },
    {
      "cell_type": "markdown",
      "metadata": {
        "id": "7NuL5ONG57xj"
      },
      "source": [
        "R.:"
      ]
    },
    {
      "cell_type": "markdown",
      "metadata": {
        "id": "eKwElHIb57xj"
      },
      "source": [
        "$$\n",
        "\\theta=\\theta-\\eta\\cdot\\nabla_{\\theta}J(\\theta)\\\n",
        "$$"
      ]
    },
    {
      "cell_type": "markdown",
      "metadata": {
        "id": "tcJMZ5e857xj"
      },
      "source": [
        "Nesta equação:\n",
        "\n",
        "$ (\\theta) $ - são os parâmetros (ou pesos) do modelo\n",
        "\n",
        "$(\\eta)$ é a taxa de aprendizado (LR).\n",
        "\n",
        "$ (\\nabla_{\\theta} J(\\theta)) $ é o gradiente da função de perda J com relação aos parâmetros $(\\theta)$.\n",
        "\n"
      ]
    },
    {
      "cell_type": "markdown",
      "metadata": {
        "id": "z26gP2aN57xj"
      },
      "source": [
        "O papel do LR no ajuste dos parâmetros do modelo da rede neural é determinar o tamanho do passo em cada iteração do gradiente descendente. Um LR alto pode fazer com que o algoritmo de otimização dê passos maiores e possivelmente pule o mínimo global. Por outro lado, um LR muito baixo pode fazer com que o algoritmo de otimização dê passos muito pequenos, o que pode resultar em um tempo de treinamento muito longo ou o algoritmo pode ficar preso em um mínimo local. Portanto, a escolha do LR é um compromisso entre a velocidade de treinamento e a capacidade do modelo de encontrar o mínimo global da função de perda."
      ]
    },
    {
      "cell_type": "markdown",
      "metadata": {
        "id": "W_Oaivfw57xj"
      },
      "source": [
        "### **II.4** Otimizando o tokenizador\n"
      ]
    },
    {
      "cell_type": "markdown",
      "metadata": {
        "id": "W6YjIeVrAhc6"
      },
      "source": [
        "\n",
        "Agora que a convergência da Loss está melhor, vamos experimentar os parâmetros do tokenizador, isto é, como as palavras estão codificadas em tokens.\n",
        "Observe novamente o vocab criado na parte I - Vocabulário e Tokenização. Perceba como as pontuações estão influenciando nos tokens criados e como o uso de letras maiúsculas e minúsculas também podem atrapalhar a consistência dos tokenizador em representar o significado semântico das palavras. Experimente rodar o encode_sentence com frases que tenham pontuações e letras maiúsculas e minúsculas. Baseado nessas informações, procure melhorar a forma de tokenizar o dataset.\n",
        "Enunciado do exercício: Melhores a forma de tokenizar, isto é, pré-processar o dataset de modo que a codificação seja indiferente das palavras serem escritas com maiúsculas ou minúsculas e sejam pouco influenciadas pelas pontuações.\n"
      ]
    },
    {
      "cell_type": "markdown",
      "metadata": {
        "id": "Z3K23LBN57xj"
      },
      "source": [
        "Identificando o problema"
      ]
    },
    {
      "cell_type": "code",
      "execution_count": null,
      "metadata": {
        "id": "LzEdh2UF57xj",
        "outputId": "fc349631-76d4-4502-da61-bc6c8dd364d5"
      },
      "outputs": [
        {
          "data": {
            "text/plain": [
              "[8, 35, 0]"
            ]
          },
          "metadata": {},
          "output_type": "display_data"
        }
      ],
      "source": [
        "def encode_sentence(sentence, vocab):\n",
        "    return [vocab.get(word, 0) for word in sentence.split()] # 0 for OOV\n",
        "\n",
        "encode_sentence(\"I like Pizza\", vocab)"
      ]
    },
    {
      "cell_type": "code",
      "execution_count": null,
      "metadata": {
        "id": "jX_Pugoh57xk",
        "outputId": "3e7be4a1-cf0d-4471-a6cf-9aa8fbb91937"
      },
      "outputs": [
        {
          "name": "stdout",
          "output_type": "stream",
          "text": [
            "Para sentença I like Pizza, lista de palavras: ['I', 'like', 'Pizza'] retornou: [8, 35, 0]\n",
            "Para sentença I like pizza, lista de palavras: ['I', 'like', 'pizza'] retornou: [8, 35, 14772]\n",
            "Para sentença I Like pizza, lista de palavras: ['I', 'Like', 'pizza'] retornou: [8, 892, 14772]\n",
            "Para sentença I like Pizza., lista de palavras: ['I', 'like', 'Pizza.'] retornou: [8, 35, 0]\n",
            "Para sentença I like Pizza ., lista de palavras: ['I', 'like', 'Pizza', '.'] retornou: [8, 35, 0, 422]\n",
            "Para sentença I like, Pizza, lista de palavras: ['I', 'like,', 'Pizza'] retornou: [8, 2280, 0]\n"
          ]
        }
      ],
      "source": [
        "for sentence in [\"I like Pizza\", \"I like pizza\", \"I Like pizza\", \"I like Pizza.\", \"I like Pizza .\", \"I like, Pizza\", ]:\n",
        "    coded_sentence = encode_sentence(sentence, vocab)\n",
        "    print(f'Para sentença {sentence}, lista de palavras: {sentence.split()} retornou: {coded_sentence}')"
      ]
    },
    {
      "cell_type": "markdown",
      "metadata": {
        "id": "k3jounpI57xk"
      },
      "source": [
        "O problema está no separador de tokens. Criado novo código."
      ]
    },
    {
      "cell_type": "code",
      "execution_count": null,
      "metadata": {
        "id": "TLVKShh757xk"
      },
      "outputs": [],
      "source": [
        "def generate_list_of_tokens(sentence):\n",
        "    \"\"\"\n",
        "    Given a string sentence, returns a list of tokens.\n",
        "    It desconsiders if word is in lower or upper case.\n",
        "    It is not impacted by punctuation\n",
        "    \"\"\"\n",
        "    # Convert to lowercase\n",
        "    sentence = sentence.lower()\n",
        "\n",
        "    # Remove punctuation\n",
        "    translator = str.maketrans('', '', string.punctuation)\n",
        "    sentence = sentence.translate(translator)\n",
        "\n",
        "    # Tokenize the sentence using regular expressions\n",
        "    tokens = re.findall(r'\\b\\w+\\b', sentence)\n",
        "\n",
        "    return tokens\n"
      ]
    },
    {
      "cell_type": "code",
      "execution_count": null,
      "metadata": {
        "id": "Dj-9ZkOy57xk",
        "outputId": "0baafd4f-210b-49a7-e512-2d6ccbb0a855"
      },
      "outputs": [
        {
          "data": {
            "text/plain": [
              "[140, 35, 14772]"
            ]
          },
          "metadata": {},
          "output_type": "display_data"
        }
      ],
      "source": [
        "def encode_sentence(sentence, vocab):\n",
        "    return [vocab.get(word, 0) for word in generate_list_of_tokens(sentence)] # 0 for OOV\n",
        "\n",
        "encode_sentence(\"I like Pizza\", vocab)"
      ]
    },
    {
      "cell_type": "markdown",
      "metadata": {
        "id": "cEdezb0Y57xk"
      },
      "source": [
        "Testes confirmando resultado esperado"
      ]
    },
    {
      "cell_type": "code",
      "execution_count": null,
      "metadata": {
        "id": "2zavgK0957xk",
        "outputId": "0e07c476-9f2d-4eca-ca12-0fc09be001b2"
      },
      "outputs": [
        {
          "name": "stdout",
          "output_type": "stream",
          "text": [
            "Para sentença I like Pizza, lista de palavras: ['i', 'like', 'pizza'] retornou: [140, 35, 14772]\n",
            "Para sentença I like pizza, lista de palavras: ['i', 'like', 'pizza'] retornou: [140, 35, 14772]\n",
            "Para sentença I Like pizza, lista de palavras: ['i', 'like', 'pizza'] retornou: [140, 35, 14772]\n",
            "Para sentença I like Pizza., lista de palavras: ['i', 'like', 'pizza'] retornou: [140, 35, 14772]\n",
            "Para sentença I like Pizza ., lista de palavras: ['i', 'like', 'pizza'] retornou: [140, 35, 14772]\n",
            "Para sentença I like, Pizza, lista de palavras: ['i', 'like', 'pizza'] retornou: [140, 35, 14772]\n"
          ]
        }
      ],
      "source": [
        "for sentence in [\"I like Pizza\", \"I like pizza\", \"I Like pizza\", \"I like Pizza.\", \"I like Pizza .\", \"I like, Pizza\", ]:\n",
        "    coded_sentence = encode_sentence(sentence, vocab)\n",
        "    print(f'Para sentença {sentence}, lista de palavras: {generate_list_of_tokens(sentence)} retornou: {coded_sentence}')"
      ]
    },
    {
      "cell_type": "markdown",
      "metadata": {
        "id": "Tbw5THor57xk"
      },
      "source": [
        "#### **II.4.a)** Mostre os trechos modificados para este novo tokenizador, tanto na seção I - Vocabulário, como na seção II - Dataset.\n"
      ]
    },
    {
      "cell_type": "markdown",
      "metadata": {
        "id": "rAS9eAvG57xk"
      },
      "source": [
        "R.: Seguem mudanças  (já com código otimizado do exercício anterior II.2.c)"
      ]
    },
    {
      "cell_type": "markdown",
      "metadata": {
        "id": "h0vfu4wd57xk"
      },
      "source": [
        "I - Vocabulário e Tokenização"
      ]
    },
    {
      "cell_type": "code",
      "execution_count": null,
      "metadata": {
        "id": "vxODooi_57xl",
        "outputId": "48f547b8-09cf-4606-b465-15c2ea9fab84"
      },
      "outputs": [
        {
          "name": "stdout",
          "output_type": "stream",
          "text": [
            "CPU times: user 2.46 s, sys: 20 ms, total: 2.48 s\n",
            "Wall time: 2.48 s\n"
          ]
        }
      ],
      "source": [
        "%%time\n",
        "# limit the vocabulary size to 20000 most frequent tokens\n",
        "vocab_size = 20000\n",
        "\n",
        "counter = Counter()\n",
        "for (label, line) in list(IMDB(split='train')):\n",
        "    counter.update(generate_list_of_tokens(line))\n",
        "\n",
        "# create a vocabulary of the 20000 most frequent tokens\n",
        "most_frequent_words = sorted(counter, key=counter.get, reverse=True)[:vocab_size]\n",
        "vocab = {word: i for i, word in enumerate(most_frequent_words, 1)} # words indexed from 1 to 20000\n",
        "vocab_size = len(vocab)"
      ]
    },
    {
      "cell_type": "code",
      "execution_count": null,
      "metadata": {
        "id": "kk6NL5RK57xl",
        "outputId": "9563ec1d-7d91-4c92-b736-7b7225b25f75"
      },
      "outputs": [
        {
          "data": {
            "text/plain": [
              "[9, 38, 7926]"
            ]
          },
          "execution_count": 230,
          "metadata": {},
          "output_type": "execute_result"
        }
      ],
      "source": [
        "def encode_sentence(sentence, vocab):\n",
        "    return [vocab.get(word, 0) for word in generate_list_of_tokens(sentence)] # 0 for OOV\n",
        "\n",
        "encode_sentence(\"I like Pizza\", vocab)"
      ]
    },
    {
      "cell_type": "code",
      "execution_count": null,
      "metadata": {
        "id": "kXVK69Mr57xl",
        "outputId": "c887e24f-2fd3-48f1-b888-12cc4d543afc"
      },
      "outputs": [
        {
          "data": {
            "text/plain": [
              "[9, 38, 7926]"
            ]
          },
          "execution_count": 231,
          "metadata": {},
          "output_type": "execute_result"
        }
      ],
      "source": [
        "def return_vocab_in_sentence(sentence, vocab):\n",
        "    return [vocab.get(word, 0) for word in set(generate_list_of_tokens(sentence))] # 0 for OOV\n",
        "\n",
        "return_vocab_in_sentence(\"I like Pizza\", vocab)"
      ]
    },
    {
      "cell_type": "markdown",
      "metadata": {
        "id": "bkp-90Vp57xl"
      },
      "source": [
        "II - Dataset (já com código otimizado do exercício anterior II.2.c)"
      ]
    },
    {
      "cell_type": "code",
      "execution_count": null,
      "metadata": {
        "id": "RZ5HIAfo57xl",
        "outputId": "9cb9c017-eed5-415e-f1a2-9be9f78fad97"
      },
      "outputs": [
        {
          "name": "stdout",
          "output_type": "stream",
          "text": [
            "Tamanho de train_data 25000\n",
            "Tamanho de test_data 25000\n",
            "CPU times: user 7.2 s, sys: 40 ms, total: 7.24 s\n",
            "Wall time: 7.24 s\n"
          ]
        }
      ],
      "source": [
        "%%time\n",
        "from torch.nn.functional import one_hot\n",
        "# Dataset Class with One-hot Encoding\n",
        "class IMDBDataset(Dataset):\n",
        "    def __init__(self, split, vocab):\n",
        "        data = list(IMDB(split=split))\n",
        "        self.vocab = vocab\n",
        "        self.labels = [torch.tensor(1) if item[0] == 1 else torch.tensor(0) for item in data]\n",
        "\n",
        "        self.sentences = []\n",
        "        for label, line in data:\n",
        "            X = torch.zeros(len(self.vocab) + 1)\n",
        "            X[return_vocab_in_sentence(line, self.vocab)] = 1\n",
        "            self.sentences.append(X)\n",
        "\n",
        "\n",
        "    def __len__(self):\n",
        "        return len(self.labels)\n",
        "\n",
        "    def __getitem__(self, idx):\n",
        "        # print('retornando idx', idx, self.sentences[idx], self.labels[idx])\n",
        "        return self.sentences[idx], self.labels[idx]\n",
        "\n",
        "\n",
        "# Load Data with One-hot Encoding\n",
        "train_data = IMDBDataset('train', vocab)\n",
        "test_data = IMDBDataset('test', vocab)\n",
        "print(f'Tamanho de train_data {len(train_data)}')\n",
        "print(f'Tamanho de test_data {len(test_data)}')"
      ]
    },
    {
      "cell_type": "markdown",
      "metadata": {
        "id": "LBFG1q8r57xl"
      },
      "source": [
        "#### **II.4.b)** Recalcule novamente os valores do exercício I.2.c - número de tokens unknown, e apresente uma tabela comparando os novos valores com os valores obtidos com o tokenizador original e justifique os resultados obtidos.\n"
      ]
    },
    {
      "cell_type": "code",
      "execution_count": null,
      "metadata": {
        "id": "5DQSzibm57xl",
        "outputId": "8bb7aec1-678b-46ab-e031-07b92820ac85"
      },
      "outputs": [
        {
          "name": "stdout",
          "output_type": "stream",
          "text": [
            "Total de amostras: 25000\n",
            "Amostras positivas: 12500\n",
            "Amostras negativas: 12500\n",
            "Tamanho médio do texto: 232.83608\n",
            "Tamanho vocabulário: 20000\n",
            "CPU times: user 2.47 s, sys: 16 ms, total: 2.49 s\n",
            "Wall time: 2.48 s\n"
          ]
        }
      ],
      "source": [
        "%%time\n",
        "# limit the vocabulary size to 20000 most frequent tokens\n",
        "vocab_size = 20000\n",
        "\n",
        "counter = Counter()\n",
        "count_positivo = 0\n",
        "count_negativo = 0\n",
        "tamanho_total = 0\n",
        "for (label, line) in list(IMDB(split='train')):\n",
        "    line_processed = generate_list_of_tokens(line)\n",
        "    counter.update(line_processed)\n",
        "    if label == 1:\n",
        "      count_positivo += 1\n",
        "    else:\n",
        "      count_negativo += 1\n",
        "    # print(f'tamanho: {len(line)} de {line}' )\n",
        "    tamanho_total += len(line_processed)\n",
        "\n",
        "print(f'Total de amostras: {count_negativo+count_positivo}')\n",
        "print(f'Amostras positivas: {count_positivo}')\n",
        "print(f'Amostras negativas: {count_negativo}')\n",
        "print(f'Tamanho médio do texto: {tamanho_total/(count_negativo+count_positivo)}')\n",
        "\n",
        "# create a vocabulary of the 20000 most frequent tokens\n",
        "most_frequent_words = sorted(counter, key=counter.get, reverse=True)[:vocab_size]\n",
        "vocab = {word: i for i, word in enumerate(most_frequent_words, 1)} # words indexed from 1 to 20000\n",
        "vocab_size = len(vocab)\n",
        "print(f'Tamanho vocabulário: {len(vocab)}')\n"
      ]
    },
    {
      "cell_type": "code",
      "execution_count": null,
      "metadata": {
        "id": "PjRdH2ec57xm",
        "outputId": "413deb3b-f6cf-4c91-f35d-b87d49a9dbf1"
      },
      "outputs": [
        {
          "name": "stdout",
          "output_type": "stream",
          "text": [
            "Cinco palavras mais frequentes: [('the', 334730), ('and', 162252), ('a', 161958), ('of', 145326), ('to', 135046)]\n",
            "Cinco palavras menos frequentes: [('mckenziebarry', 1), ('grossest', 1), ('dunny', 1), ('fitzgibbon', 1), ('snacka', 1)]\n"
          ]
        }
      ],
      "source": [
        "# Cinco mais e menos frequentes\n",
        "print(f'Cinco palavras mais frequentes: {counter.most_common(5)}')\n",
        "print(f'Cinco palavras menos frequentes: {counter.most_common()[:-6:-1]}')"
      ]
    },
    {
      "cell_type": "markdown",
      "metadata": {
        "id": "BMUxzpwZ57xm"
      },
      "source": [
        "Antes\n",
        "\n",
        "        Cinco palavras mais frequentes: [('the', 287032), ('a', 155096), ('and', 152664), ('of', 142972), ('to', 132568)]\n",
        "        Cinco palavras menos frequentes: [('Crocker)', 1), ('McKenzie(Barry', 1), ('shearer', 1), ('grossest', 1), ('unemployed...', 1)]\n",
        "\n",
        "\n",
        "Agora\n",
        "\n",
        "        Cinco palavras mais frequentes: [('the', 334730), ('and', 162252), ('a', 161958), ('of', 145326), ('to', 135046)]\n",
        "        Cinco palavras menos frequentes: [('mckenziebarry', 1), ('grossest', 1), ('dunny', 1), ('fitzgibbon', 1), ('snacka', 1)]"
      ]
    },
    {
      "cell_type": "code",
      "execution_count": null,
      "metadata": {
        "id": "Rb2T2yJE57xm"
      },
      "outputs": [],
      "source": [
        "list_treino = list(IMDB(split='train'))"
      ]
    },
    {
      "cell_type": "code",
      "execution_count": null,
      "metadata": {
        "id": "qe2wUEi257xm"
      },
      "outputs": [],
      "source": [
        "list_word_treino_preprocessed = []\n",
        "for target, texto in list_treino:\n",
        "  # print(texto)\n",
        "  list_word_treino_preprocessed.extend(generate_list_of_tokens(texto))\n"
      ]
    },
    {
      "cell_type": "code",
      "execution_count": null,
      "metadata": {
        "id": "Uyp0gUa557xm",
        "outputId": "972c8c88-6df5-4baf-dd4b-9b3ea2dd51c9"
      },
      "outputs": [
        {
          "name": "stdout",
          "output_type": "stream",
          "text": [
            "Número de tokens desconhecidas: 100714\n",
            "Número total de ocorrências de tokens desconhecidas: 213699\n"
          ]
        }
      ],
      "source": [
        "count_unknown_tokens(vocab, list_word_treino_preprocessed)"
      ]
    },
    {
      "cell_type": "markdown",
      "metadata": {
        "id": "I3aWUmGJ57xm"
      },
      "source": [
        "Segue tabela resumo como os números:"
      ]
    },
    {
      "cell_type": "markdown",
      "metadata": {
        "id": "XSiOCub057xm"
      },
      "source": [
        "|          | Tokens dif | Ocorrencias | Num médio tokens |\n",
        "|----------|------------|-------------|-------------|\n",
        "| Original | 260617     | 566141      |233.78|\n",
        "| Preprocessada | 100714 | 213699     |232.83|"
      ]
    },
    {
      "cell_type": "markdown",
      "metadata": {
        "id": "VoSvVbmU57xm"
      },
      "source": [
        "Justificativa:\n",
        "Com o novo tokenizador que, entre outras coisas, desconsidera diferenças de caso (upper/lower) e acentos, o número de tokens distintas acaba sendo menor em uma sentença. Por conseguinte, as palavras mais frequentes do vocabulário possuem mais ocorrências nos dados de treino. E, seguindo esse raciocínio, aumentam-se as chances de uma token de um texto estar no vocabulário. Por isso, a redução no número de tokens diferentes fora do vocabulário.\n",
        "O tamanho médio ficou bem próximo até porque considera o número de ocorrências com repetições, sendo que o novo tokenizador se diferencia em reduzir o número de palavras distintas.\n",
        "\n"
      ]
    },
    {
      "cell_type": "markdown",
      "metadata": {
        "id": "bchuEjNL57xm"
      },
      "source": [
        "#### **II.4.c)** Execute agora no notebook inteiro com o novo tokenizador e veja o novo valor da acurácia obtido com a melhoria do tokenizador.\n"
      ]
    },
    {
      "cell_type": "markdown",
      "metadata": {
        "id": "wTy3WeVp57xn"
      },
      "source": [
        "Obs.: usando lr = 0.01"
      ]
    },
    {
      "cell_type": "code",
      "execution_count": null,
      "metadata": {
        "id": "uXPJCh-Z57xn",
        "outputId": "60d2b048-826f-461e-aea1-6ea11026c695"
      },
      "outputs": [
        {
          "name": "stdout",
          "output_type": "stream",
          "text": [
            "batch_size 128\n"
          ]
        }
      ],
      "source": [
        "print(f'batch_size {batch_size}')"
      ]
    },
    {
      "cell_type": "code",
      "execution_count": null,
      "metadata": {
        "id": "J4yv12N857xn",
        "outputId": "7845abf3-12e2-4907-cbee-a6dcf22bcf43"
      },
      "outputs": [
        {
          "name": "stdout",
          "output_type": "stream",
          "text": [
            "train_loader tem 196 batches\n",
            "test_loader tem 196 batches\n"
          ]
        }
      ],
      "source": [
        "train_loader = DataLoader(train_data,\n",
        "                          batch_size= batch_size,\n",
        "                          shuffle=True,\n",
        "                          num_workers=0,\n",
        "                          pin_memory=True)\n",
        "test_loader = DataLoader(test_data,\n",
        "                          batch_size= batch_size,\n",
        "                          shuffle=False,\n",
        "                          num_workers=0,\n",
        "                          pin_memory=True)\n",
        "print(f\"train_loader tem {len(train_loader)} batches\")\n",
        "print(f\"test_loader tem {len(test_loader)} batches\")"
      ]
    },
    {
      "cell_type": "code",
      "execution_count": null,
      "metadata": {
        "id": "n-BN7Qpe57xn",
        "outputId": "deb584cf-c045-454e-c724-482ddfc14ebc"
      },
      "outputs": [
        {
          "name": "stdout",
          "output_type": "stream",
          "text": [
            "Epoch [1/5],                     Loss: 0.6799,                     Elapsed Time: 1.56 sec\n",
            "Epoch [2/5],                     Loss: 0.6358,                     Elapsed Time: 1.52 sec\n",
            "Epoch [3/5],                     Loss: 0.6176,                     Elapsed Time: 1.52 sec\n",
            "Epoch [4/5],                     Loss: 0.5465,                     Elapsed Time: 1.56 sec\n",
            "Epoch [5/5],                     Loss: 0.5116,                     Elapsed Time: 1.53 sec\n",
            "Treino: lr=0.1; test_accuracy=81.392  (train_duration 8.98 sec)\n"
          ]
        }
      ],
      "source": [
        "# Model instantiation\n",
        "model = OneHotMLP(vocab_size)\n",
        "model = model.to(device)\n",
        "criterion = nn.BCEWithLogitsLoss()\n",
        "optimizer = optim.SGD(model.parameters(), lr=0.01)\n",
        "train_start_time = time.time()  # Start time of the epoch\n",
        "test_accuracy = train_model(model, criterion, optimizer, num_epochs, train_loader, test_loader)\n",
        "\n",
        "train_duration = time.time() - train_start_time  # Duration of epoch\n",
        "\n",
        "print(f'Treino: lr={lr}; test_accuracy={round(test_accuracy,4)}  (train_duration {train_duration:.2f} sec)')"
      ]
    },
    {
      "cell_type": "markdown",
      "metadata": {
        "id": "5wRla1yz57xn"
      },
      "source": [
        "## **III - DataLoader**\n"
      ]
    },
    {
      "cell_type": "markdown",
      "metadata": {
        "id": "BBcCEtgaAkFp"
      },
      "source": [
        "\n",
        "Vamos estudar agora o Data Loader da seção III do notebook. Em primeiro lugar anote a acurácia do notebook com as melhorias de eficiência de rodar em GPU, com ajustes de LR e do tokenizador. Em seguida mude o parâmetro shuffle na construção do objeto train_loader para False e execute novamente o notebook por completo e meça novamente a acurácia:\n",
        "\n",
        "Tabela:\n",
        "Shuffle\tAcurácia\n",
        "True\n",
        "False\n",
        "\n",
        "Estude o método de minimização da Loss pelo gradiente descendente utilizado em redes neurais, utilizando processamento por batches.\n",
        "Esse é um conceito muito importante. Veja no chatGPT qual é a relação da função Loss a ser minimizada no treinamento em função do batch size.\n",
        "\n",
        "Exercícios:\n",
        "\n"
      ]
    },
    {
      "cell_type": "code",
      "execution_count": null,
      "metadata": {
        "id": "qxrNr7fO57xn",
        "outputId": "204d77e6-b860-45db-dc6c-5c6e4f20feb6"
      },
      "outputs": [
        {
          "name": "stdout",
          "output_type": "stream",
          "text": [
            "train_loader tem 196 batches\n",
            "test_loader tem 196 batches\n"
          ]
        }
      ],
      "source": [
        "train_loader = DataLoader(train_data,\n",
        "                          batch_size= batch_size,\n",
        "                          shuffle=False,\n",
        "                          num_workers=0,\n",
        "                          pin_memory=True)\n",
        "test_loader = DataLoader(test_data,\n",
        "                          batch_size= batch_size,\n",
        "                          shuffle=False,\n",
        "                          num_workers=0,\n",
        "                          pin_memory=True)\n",
        "print(f\"train_loader tem {len(train_loader)} batches\")\n",
        "print(f\"test_loader tem {len(test_loader)} batches\")"
      ]
    },
    {
      "cell_type": "code",
      "execution_count": null,
      "metadata": {
        "id": "5TxfOxro57xn",
        "outputId": "dae8c42f-1775-4aa7-9281-7e3b6d3c7f52"
      },
      "outputs": [
        {
          "name": "stdout",
          "output_type": "stream",
          "text": [
            "Epoch [1/5],                     Loss: 0.2249,                     Elapsed Time: 1.51 sec\n",
            "Epoch [2/5],                     Loss: 0.1498,                     Elapsed Time: 1.51 sec\n",
            "Epoch [3/5],                     Loss: 0.1079,                     Elapsed Time: 1.50 sec\n",
            "Epoch [4/5],                     Loss: 0.0859,                     Elapsed Time: 1.51 sec\n",
            "Epoch [5/5],                     Loss: 0.0725,                     Elapsed Time: 1.50 sec\n",
            "Treino: lr=0.1; test_accuracy=50.0  (train_duration 8.88 sec)\n"
          ]
        }
      ],
      "source": [
        "# Model instantiation\n",
        "model = OneHotMLP(vocab_size)\n",
        "model = model.to(device)\n",
        "criterion = nn.BCEWithLogitsLoss()\n",
        "optimizer = optim.SGD(model.parameters(), lr=0.01)\n",
        "train_start_time = time.time()  # Start time of the epoch\n",
        "test_accuracy = train_model(model, criterion, optimizer, num_epochs, train_loader, test_loader)\n",
        "\n",
        "train_duration = time.time() - train_start_time  # Duration of epoch\n",
        "\n",
        "print(f'Treino: lr={lr}; test_accuracy={round(test_accuracy,4)}  (train_duration {train_duration:.2f} sec)')"
      ]
    },
    {
      "cell_type": "markdown",
      "metadata": {
        "id": "MAfqodJx57xo"
      },
      "source": [
        "**R.: Eis a tabela:**\n",
        "\n",
        "\n",
        "|Shuffle|\tAcurácia (teste)|\n",
        "|----------|------------|\n",
        "|True\t|81.4|\n",
        "|False\t|50|"
      ]
    },
    {
      "cell_type": "markdown",
      "metadata": {
        "id": "2wQgzqZH57xo"
      },
      "source": [
        "### **III.1** Batch 1\n"
      ]
    },
    {
      "cell_type": "markdown",
      "metadata": {
        "id": "GjTcDXA757xo"
      },
      "source": [
        "#### **III.1.a)** Explique as duas principais vantagens do uso de batch no treinamento de redes neurais.\n"
      ]
    },
    {
      "cell_type": "markdown",
      "metadata": {
        "id": "059RGVF957xo"
      },
      "source": [
        "**R.:**\n",
        "\n",
        "* Eficiência Computacional:\n",
        "    O treinamento em batches permite processar várias amostras de dados ao mesmo tempo.\n",
        "    Isso é mais eficiente do que atualizar os pesos do modelo após cada exemplo individual.\n",
        "    Reduz a sobrecarga computacional, especialmente em GPUs, acelerando o treinamento.\n",
        "\n",
        "* Estabilidade e Convergência do Treinamento:\n",
        "    O cálculo do gradiente (derivada) da função de custo em relação aos parâmetros do modelo é mais estável com batches.\n",
        "    O gradiente é uma média das amostras no lote, o que reduz a variância.\n",
        "    Isso ajuda a evitar oscilações e convergência instável durante o treinamento.\n",
        "\n"
      ]
    },
    {
      "cell_type": "markdown",
      "metadata": {
        "id": "b9L3EPTn57xo"
      },
      "source": [
        "#### **III.1.b)** Explique por que é importante fazer o embaralhamento das amostras do batch em cada nova época.\n"
      ]
    },
    {
      "cell_type": "markdown",
      "metadata": {
        "id": "PxpViSSF57xo"
      },
      "source": [
        "**R.:**\n",
        "\n",
        "1. Redução de Viés de Aprendizado (generalização melhorada):\n",
        "Quando as amostras são apresentadas ao modelo em uma ordem específica, ele pode aprender a depender da sequência.\n",
        "Por exemplo, se as primeiras amostras forem sempre de uma classe específica, o modelo pode se tornar tendencioso em relação a essa classe.\n",
        "Embaralhar as amostras garante que o modelo não seja influenciado pela ordem de apresentação.\n",
        "Embaralhar as amostras torna o treinamento mais robusto e ajuda o modelo a generalizar melhor para dados não vistos.\n",
        "\n",
        "2. Estabilidade do Treinamento:\n",
        "O embaralhamento aleatório das amostras introduz uma variabilidade natural no treinamento.\n",
        "Isso ajuda a evitar que o modelo fique preso em mínimos locais ou em trajetórias de gradiente específicas.\n",
        "Também ajuda a explorar diferentes partes do espaço de parâmetros.\n",
        "\n",
        "Em resumo, o embaralhamento das amostras do batch é essencial para garantir que o modelo aprenda de forma imparcial, seja estável durante o treinamento e generalize bem para novos dados."
      ]
    },
    {
      "cell_type": "markdown",
      "metadata": {
        "id": "fQA0AV4J57xo"
      },
      "source": [
        "#### **III.1.c)** Se você alterar o shuffle=False no instanciamento do objeto test_loader, por que o cálculo da acurácia não se altera?\n",
        "\n"
      ]
    },
    {
      "cell_type": "markdown",
      "metadata": {
        "id": "UN61ms8y57xo"
      },
      "source": [
        "**R.:**\n",
        "\n",
        "Como a acurácia é calculada sobre todas as previsões, a ordem em que as previsões são feitas não importa. Seja qual for a ordem em que as amostras são processadas, a acurácia final será a mesma."
      ]
    },
    {
      "cell_type": "markdown",
      "metadata": {
        "id": "CXxKaDF657xo"
      },
      "source": [
        "### **III.2** Batch 2\n"
      ]
    },
    {
      "cell_type": "markdown",
      "metadata": {
        "id": "_JmRUwsp57xo"
      },
      "source": [
        "#### **III.2.a)** Faça um laço no objeto train_loader e meça quantas iterações o Loader tem. Mostre o código para calcular essas iterações. Explique o valor encontrado.\n"
      ]
    },
    {
      "cell_type": "code",
      "execution_count": null,
      "metadata": {
        "id": "cUAd3nXV57xp",
        "outputId": "99276f9a-982a-47db-f427-4ba6aba75a35"
      },
      "outputs": [
        {
          "name": "stdout",
          "output_type": "stream",
          "text": [
            "The train_loader has 196 iterations.\n",
            "Equivale ao len(train_loader): 196 batches\n"
          ]
        }
      ],
      "source": [
        "\"\"\"\n",
        "O número de iterações é determinado pelo tamanho do conjunto de dados de treinamento e o tamanho do lote (batch size).\n",
        "\"\"\"\n",
        "\n",
        "num_iterations = 0\n",
        "for _ in train_loader:\n",
        "    num_iterations += 1\n",
        "\n",
        "print(f'The train_loader has {num_iterations} iterations.')\n",
        "print(f\"Equivale ao len(train_loader): {len(train_loader)} batches\")\n"
      ]
    },
    {
      "cell_type": "markdown",
      "metadata": {
        "id": "6dQGOL1i57xp"
      },
      "source": [
        "#### **III.2.b)** Imprima o número de amostras do último batch do train_loader e justifique o valor encontrado? Ele pode ser menor que o batch_size?\n"
      ]
    },
    {
      "cell_type": "code",
      "execution_count": null,
      "metadata": {
        "id": "4vOuxzPs57xp",
        "outputId": "26b4c30b-784f-415a-8028-1571c33d2b8d"
      },
      "outputs": [
        {
          "name": "stdout",
          "output_type": "stream",
          "text": [
            "Número total de amostras: 25000\n",
            "Número de lotes: 196\n",
            "Amostras no último lote: 40\n"
          ]
        }
      ],
      "source": [
        "\"\"\"\n",
        "O último lote pode ter menos amostras do que o tamanho do lote.\n",
        "Isso ocorre quando (N) não é um múltiplo exato de (B).\n",
        "\"\"\"\n",
        "\n",
        "# Encontre o número total de amostras no conjunto de dados\n",
        "total_samples = len(train_loader.dataset)\n",
        "\n",
        "# Calcule o número de lotes\n",
        "num_batches = len(train_loader)\n",
        "\n",
        "# Calcule o tamanho do último lote\n",
        "samples_in_last_batch = total_samples % batch_size\n",
        "\n",
        "# Imprima os resultados\n",
        "print(f\"Número total de amostras: {total_samples}\")\n",
        "print(f\"Número de lotes: {num_batches}\")\n",
        "print(f\"Amostras no último lote: {samples_in_last_batch}\")\n",
        "\n"
      ]
    },
    {
      "cell_type": "code",
      "execution_count": null,
      "metadata": {
        "id": "ALhVQPSB57xp",
        "outputId": "34aafd6b-e451-458f-afb5-cfafc64eb63d"
      },
      "outputs": [
        {
          "name": "stdout",
          "output_type": "stream",
          "text": [
            "The last batch has 40 samples.\n"
          ]
        }
      ],
      "source": [
        "\"\"\"\n",
        "Forma alternativa\n",
        "\"\"\"\n",
        "last_batch_size = 0\n",
        "for batch in train_loader:\n",
        "    last_batch_size = len(batch[0])  # Assuming batch is a tuple of (inputs, labels)\n",
        "\n",
        "print(f'The last batch has {last_batch_size} samples.')"
      ]
    },
    {
      "cell_type": "markdown",
      "metadata": {},
      "source": [
        "Logo, ele pode ser menor do que o batch size (40 < 132)"
      ]
    },
    {
      "cell_type": "markdown",
      "metadata": {
        "id": "mzJ0C2qb57xp"
      },
      "source": [
        "#### **III.2.c)** Calcule R, a relação do número de amostras positivas sobre o número de amostras no batch e no final encontre o valor médio de R, para ver se o data loader está entregando batches balanceados. Desta vez, em vez de fazer um laço explícito, utilize list comprehension para criar uma lista contendo a relação R de cada amostra no batch. No final, calcule a média dos elementos da lista para fornecer a resposta final.\n"
      ]
    },
    {
      "cell_type": "markdown",
      "metadata": {
        "id": "-RKKF-yV57xp"
      },
      "source": [
        "Voltando shuffle=True"
      ]
    },
    {
      "cell_type": "code",
      "execution_count": null,
      "metadata": {
        "id": "zXi3bFE257xp",
        "outputId": "4dc76f1b-af2f-4af2-90c1-18503dba34bd"
      },
      "outputs": [
        {
          "name": "stdout",
          "output_type": "stream",
          "text": [
            "train_loader tem 196 batches\n"
          ]
        }
      ],
      "source": [
        "train_loader = DataLoader(train_data,\n",
        "                          batch_size= batch_size,\n",
        "                          shuffle=True,\n",
        "                          num_workers=0,\n",
        "                          pin_memory=True)\n",
        "print(f\"train_loader tem {len(train_loader)} batches\")\n"
      ]
    },
    {
      "cell_type": "code",
      "execution_count": null,
      "metadata": {
        "id": "JNfPdTDq57xp",
        "outputId": "9c697baf-27bd-40b5-e29b-c5078c331995"
      },
      "outputs": [
        {
          "name": "stdout",
          "output_type": "stream",
          "text": [
            "Valor de R (average ratio of positive samples) is 0.4998\n"
          ]
        }
      ],
      "source": [
        "\n",
        "# Calculate the ratio R for each batch using a list comprehension\n",
        "ratios = [torch.sum(labels == 1).item() / len(labels) for _, labels in train_loader]\n",
        "\n",
        "# Calculate the average ratio\n",
        "average_ratio = sum(ratios) / len(ratios)\n",
        "\n",
        "print(f'Valor de R (average ratio of positive samples) is {average_ratio:.4f}')\n"
      ]
    },
    {
      "cell_type": "markdown",
      "metadata": {
        "id": "0d0uh2K_57xq"
      },
      "source": [
        "O que demonstra que está equilibrado o número de classes positivas, graças à aleatoriedade e à proporção em todo o dataset ser de 50%."
      ]
    },
    {
      "cell_type": "markdown",
      "metadata": {
        "id": "l3w3hpVj57xq"
      },
      "source": [
        "#### **III.2.d)** Mostre a estrutura de um dos batches. Cada batch foi criado no método __getitem__ do Dataset, linha 20. É formado por uma tupla com o primeiro elemento sendo a codificação one-hot do texto e o segundo elemento o label esperado, indicando positivo ou negativo. Mostre o shape (linhas e colunas) e o tipo de dado (float ou integer), tanto da entrada da rede como do label esperado. Desta vez selecione um elemento do batch do train_loader utilizando as funções next e iter: batch = next(iter(train_loader)).\n",
        "\n"
      ]
    },
    {
      "cell_type": "code",
      "execution_count": null,
      "metadata": {
        "id": "OgaZAKpL57xq",
        "outputId": "d981335f-a822-4eca-9818-2354447a1e87"
      },
      "outputs": [
        {
          "name": "stdout",
          "output_type": "stream",
          "text": [
            "Inputs shape: torch.Size([128, 20001]), type: torch.float32\n",
            "Labels shape: torch.Size([128]), type: torch.int64\n"
          ]
        }
      ],
      "source": [
        "\n",
        "# Get the first batch from the train_loader\n",
        "batch = next(iter(train_loader))\n",
        "\n",
        "# The batch is a tuple of (inputs, labels)\n",
        "inputs, labels = batch\n",
        "\n",
        "# Print the shape and data type of the inputs and labels\n",
        "print(f'Inputs shape: {inputs.shape}, type: {inputs.dtype}')\n",
        "print(f'Labels shape: {labels.shape}, type: {labels.dtype}')"
      ]
    },
    {
      "cell_type": "markdown",
      "metadata": {
        "id": "O_ucjLl257xq"
      },
      "source": [
        "### **III.3** Batch x acurácia\n",
        "\n"
      ]
    },
    {
      "cell_type": "markdown",
      "metadata": {
        "id": "H2cYQ6ZM57xq"
      },
      "source": [
        "Alteradas funções para tratar batch_size == 1\n",
        " outputs.view(-1) e labels.view(-1) irão remodelar outputs e labels para terem uma forma de (n,),\n",
        " onde n é o número total de elementos em cada tensor. Isso garantirá que outputs e labels tenham a mesma forma,\n",
        " independentemente do tamanho do batch.\n",
        "\n",
        "\n",
        "Obs.: Quando o tamanho do batch é 1 porque a função `squeeze()` estava sendo usada para remover as dimensões de tamanho 1 do tensor de saída do seu modelo (`outputs`). Quando o tamanho do batch é 1, `outputs` tem uma dimensão de tamanho 1, então `squeeze()` remove essa dimensão, resultando em um tensor de tamanho zero. No entanto, o tensor de rótulos (`labels`) ainda tem uma dimensão de tamanho 1, então a função de perda `criterion` gera um erro porque espera que `outputs` e `labels` tenham as mesmas dimensões."
      ]
    },
    {
      "cell_type": "code",
      "execution_count": null,
      "metadata": {
        "id": "4orsxs5o57xq"
      },
      "outputs": [],
      "source": [
        "def evaluate(model, test_loader):\n",
        "    ## evaluation\n",
        "    model.eval()\n",
        "\n",
        "    with torch.no_grad():\n",
        "        correct = 0\n",
        "        total = 0\n",
        "        for inputs, labels in test_loader:\n",
        "            inputs = inputs.to(device)\n",
        "            labels = labels.to(device)\n",
        "            outputs = model(inputs)\n",
        "\n",
        "        predicted = torch.round(torch.sigmoid(outputs)).view(-1)\n",
        "        total += labels.size(0)\n",
        "        correct += (predicted == labels.view(-1)).sum().item()\n",
        "        test_accuracy = 100 * correct / total\n",
        "\n",
        "        return test_accuracy"
      ]
    },
    {
      "cell_type": "code",
      "execution_count": null,
      "metadata": {
        "id": "_eYIj9we57xq"
      },
      "outputs": [],
      "source": [
        "def train_model(model, criterion, optimizer, num_epochs, train_loader, test_loader, verbose:bool=True):\n",
        "\n",
        "    # Training loop\n",
        "    for epoch in range(num_epochs):\n",
        "        epoch_start_time = time.time()  # Start time of the epoch\n",
        "        model.train()\n",
        "        for cnt_batch, (inputs, labels) in enumerate(train_loader):\n",
        "\n",
        "\n",
        "            # print(f\"Batch {cnt+1}\")\n",
        "            # mover para gpu\n",
        "            inputs = inputs.to(device)\n",
        "            labels = labels.to(device)\n",
        "            # Forward pass\n",
        "            outputs = model(inputs)\n",
        "            if verbose and cnt_batch==0:\n",
        "                # Verifique as dimensões dos tensores\n",
        "                print(\"Dimensões dos outputs:\", outputs.shape)\n",
        "                print(\"Dimensões dos labels:\", labels.shape)\n",
        "            loss = criterion(outputs.view(-1), labels.view(-1).float())\n",
        "            # Backward and optimize\n",
        "            optimizer.zero_grad()\n",
        "            loss.backward()\n",
        "            optimizer.step()\n",
        "\n",
        "        epoch_duration = time.time() - epoch_start_time  # Duration of epoch\n",
        "\n",
        "        if verbose:\n",
        "            print(f'Epoch [{epoch+1}/{num_epochs}], \\\n",
        "                    Loss: {loss.item():.4f}, \\\n",
        "                    Elapsed Time: {epoch_duration:.2f} sec')\n",
        "\n",
        "    # Evaluate the model and record the test accuracy\n",
        "    test_accuracy = evaluate(model, test_loader)\n",
        "\n",
        "    return test_accuracy\n",
        "\n"
      ]
    },
    {
      "cell_type": "markdown",
      "metadata": {
        "id": "EV7eZ2ty57xr"
      },
      "source": [
        "#### **III.3.a)** Verifique a influência do batch size na acurácia final do modelo. Experimente usar um batch size de 1 amostra apenas e outro com mais de 128 e comente sobre os resultados.\n",
        "\n",
        "\n"
      ]
    },
    {
      "cell_type": "code",
      "execution_count": null,
      "metadata": {
        "id": "NrzcVUej57xr",
        "outputId": "c70a7dc2-5344-4207-a84b-92e01879396f"
      },
      "outputs": [
        {
          "name": "stdout",
          "output_type": "stream",
          "text": [
            "linespace [1, 74, 147, 220, 293, 366, 439, 512]\n"
          ]
        }
      ],
      "source": [
        "num_values = 8\n",
        "# Define the minimum and maximum learning rate and the number of values\n",
        "min_batch_size = 1\n",
        "max_batch_size = 512\n",
        "batch_size_list = np.linspace(min_batch_size, max_batch_size, num=num_values)\n",
        "# Converta os valores para inteiros\n",
        "batch_size_list = [int(size) for size in batch_size_list]\n",
        "print('linespace', batch_size_list)\n",
        "\n"
      ]
    },
    {
      "cell_type": "markdown",
      "metadata": {
        "id": "y6x2dZby57xr"
      },
      "source": [
        "Gerada uma lista de todas as potências de 2 até max_batch_size, incluindo 1, você pode usar a função pow do Python.\n"
      ]
    },
    {
      "cell_type": "code",
      "execution_count": null,
      "metadata": {
        "id": "jdaOkWRR57xr",
        "outputId": "84573c08-55d4-49e9-ec15-ecee8039ab5b"
      },
      "outputs": [
        {
          "name": "stdout",
          "output_type": "stream",
          "text": [
            "Powers of 2 up to max_batch_size: [1, 2, 4, 8, 16, 32, 64, 128, 256, 512, 1024]\n"
          ]
        }
      ],
      "source": [
        "\n",
        "# Define the maximum batch size\n",
        "max_batch_size = 1024\n",
        "\n",
        "# Generate a list of all powers of 2 up to max_batch_size, including 1\n",
        "batch_size_list = [pow(2, i) for i in range(int(np.log2(max_batch_size)) + 1)]\n",
        "\n",
        "print('Powers of 2 up to max_batch_size:', batch_size_list)"
      ]
    },
    {
      "cell_type": "code",
      "execution_count": null,
      "metadata": {
        "id": "kveB-F8B57xr",
        "outputId": "eca3b849-f266-4a7d-87a1-87a89fd08a82"
      },
      "outputs": [
        {
          "name": "stdout",
          "output_type": "stream",
          "text": [
            "test_loader tem 196 batches\n"
          ]
        }
      ],
      "source": [
        "test_loader = DataLoader(test_data,\n",
        "                          batch_size= 128,\n",
        "                          shuffle=False,\n",
        "                          num_workers=0,\n",
        "                          pin_memory=True)\n",
        "print(f\"test_loader tem {len(test_loader)} batches\")\n"
      ]
    },
    {
      "cell_type": "code",
      "execution_count": null,
      "metadata": {
        "id": "noTr492c57xr",
        "outputId": "e742d6cd-9e8f-4964-a913-92a5678c35d5"
      },
      "outputs": [
        {
          "name": "stdout",
          "output_type": "stream",
          "text": [
            "Treino [1/11]: batch_size=1; Número de batches de treino: 25000; test_accuracy=87.076  (train_duration 106.19 sec)\n",
            "Treino [2/11]: batch_size=2; Número de batches de treino: 12500; test_accuracy=86.828  (train_duration 58.53 sec)\n",
            "Treino [3/11]: batch_size=4; Número de batches de treino: 6250; test_accuracy=86.74  (train_duration 34.31 sec)\n",
            "Treino [4/11]: batch_size=8; Número de batches de treino: 3125; test_accuracy=87.98  (train_duration 22.60 sec)\n",
            "Treino [5/11]: batch_size=16; Número de batches de treino: 1563; test_accuracy=88.076  (train_duration 14.99 sec)\n",
            "Treino [6/11]: batch_size=32; Número de batches de treino: 782; test_accuracy=87.492  (train_duration 11.85 sec)\n",
            "Treino [7/11]: batch_size=64; Número de batches de treino: 391; test_accuracy=85.224  (train_duration 9.95 sec)\n",
            "Treino [8/11]: batch_size=128; Número de batches de treino: 196; test_accuracy=81.68  (train_duration 9.01 sec)\n",
            "Treino [9/11]: batch_size=256; Número de batches de treino: 98; test_accuracy=79.28  (train_duration 8.37 sec)\n",
            "Treino [10/11]: batch_size=512; Número de batches de treino: 49; test_accuracy=75.968  (train_duration 7.92 sec)\n",
            "Treino [11/11]: batch_size=1024; Número de batches de treino: 25; test_accuracy=71.864  (train_duration 7.90 sec)\n",
            "test_accuracies_by_batch_size {1: 87.076, 2: 86.828, 4: 86.74, 8: 87.98, 16: 88.076, 32: 87.492, 64: 85.224, 128: 81.68, 256: 79.28, 512: 75.968, 1024: 71.864}\n"
          ]
        }
      ],
      "source": [
        "# Initialize a dictionary to record test accuracy for each learning rate\n",
        "test_accuracies_by_batch_size = {}\n",
        "train_duration_by_batch_size = {}\n",
        "\n",
        "for cnt_treino, batch_size in enumerate(batch_size_list):\n",
        "    train_loader = DataLoader(train_data,\n",
        "                          batch_size= batch_size,\n",
        "                          shuffle=True,\n",
        "                          num_workers=0,\n",
        "                          pin_memory=True)\n",
        "    # Model instantiation\n",
        "    model = OneHotMLP(vocab_size)\n",
        "    model = model.to(device)\n",
        "    criterion = nn.BCEWithLogitsLoss()\n",
        "    optimizer = optim.SGD(model.parameters(), lr=0.01)\n",
        "    train_start_time = time.time()  # Start time of the epoch\n",
        "    test_accuracy = train_model(model, criterion, optimizer, 5, train_loader, test_loader, verbose=False)\n",
        "\n",
        "    train_duration = time.time() - train_start_time  # Duration of epoch\n",
        "\n",
        "    test_accuracies_by_batch_size[batch_size] = test_accuracy\n",
        "    train_duration_by_batch_size[batch_size] = train_duration\n",
        "\n",
        "    print(f'Treino [{cnt_treino + 1}/{len(batch_size_list)}]: batch_size={batch_size}; Número de batches de treino: {len(train_loader)}; test_accuracy={round(test_accuracy,4)}  (train_duration {train_duration:.2f} sec)')\n",
        "\n",
        "print(f'test_accuracies_by_batch_size {test_accuracies_by_batch_size}')"
      ]
    },
    {
      "cell_type": "markdown",
      "metadata": {
        "id": "wsFRUKi757xr"
      },
      "source": [
        "Gerando gráficos"
      ]
    },
    {
      "cell_type": "code",
      "execution_count": null,
      "metadata": {
        "id": "yQWdC6Uu57xs",
        "outputId": "45f22546-6cd7-4b2f-a1e5-51968a51a200"
      },
      "outputs": [
        {
          "data": {
            "image/png": "[encoded data removed]",
            "text/plain": [
              "<Figure size 1500x500 with 1 Axes>"
            ]
          },
          "metadata": {},
          "output_type": "display_data"
        }
      ],
      "source": [
        "# Plot test accuracy for each learning rate\n",
        "plt.figure(figsize=(15, 5))\n",
        "plt.plot(list(test_accuracies_by_batch_size.keys()), list(test_accuracies_by_batch_size.values()), marker='o')\n",
        "plt.xscale('log')\n",
        "plt.xlabel('Batch size')\n",
        "plt.ylabel('Test accuracy')\n",
        "plt.title('Test accuracy vs Batch size')\n",
        "plt.grid(True)\n",
        "\n",
        "# Set xticks to all batch sizes\n",
        "plt.xticks(list(test_accuracies_by_batch_size.keys()), list(test_accuracies_by_batch_size.keys()))\n",
        "\n",
        "plt.show()"
      ]
    },
    {
      "cell_type": "code",
      "execution_count": null,
      "metadata": {
        "id": "XojWyPLp57xs",
        "outputId": "8f0d879e-eba6-4472-ce1e-44a5bb6dc638"
      },
      "outputs": [
        {
          "data": {
            "image/png": "[encoded data removed]",
            "text/plain": [
              "<Figure size 1500x500 with 1 Axes>"
            ]
          },
          "metadata": {},
          "output_type": "display_data"
        }
      ],
      "source": [
        "# Plot test accuracy for each learning rate\n",
        "plt.figure(figsize=(15, 5))\n",
        "plt.plot(list(train_duration_by_batch_size.keys()), list(train_duration_by_batch_size.values()), marker='o')\n",
        "plt.xscale('log')\n",
        "plt.xlabel('Batch size')\n",
        "plt.ylabel('Train duration')\n",
        "plt.title('Train duration vs Batch size')\n",
        "plt.grid(True)\n",
        "\n",
        "# Set xticks to all batch sizes\n",
        "plt.xticks(list(train_duration_by_batch_size.keys()), list(train_duration_by_batch_size.keys()))\n",
        "\n",
        "plt.show()"
      ]
    },
    {
      "cell_type": "markdown",
      "metadata": {
        "id": "6m87e51I57xs"
      },
      "source": [
        "A acurácia ficou maior para batchs menores. Isso pode ser ser explicado:\n",
        "\n",
        "1. **Gradientes mais precisos:** Quando o tamanho do batch é menor, o gradiente calculado em cada etapa do treinamento é uma estimativa menos precisa do gradiente verdadeiro. Isso pode introduzir mais ruído no processo de treinamento, o que pode, paradoxalmente, ajudar o modelo a evitar mínimos locais e encontrar melhores soluções. Em contraste, quando o tamanho do batch é maior, o gradiente é uma estimativa mais precisa, mas isso pode fazer com que o modelo fique preso em mínimos locais.\n",
        "\n",
        "2. **Mais atualizações de modelo:** Quando o tamanho do batch é menor, o modelo é atualizado com mais frequência. Por exemplo, se você tem 1000 exemplos de treinamento, um tamanho de batch de 1 resultará em 1000 atualizações de modelo por época, enquanto um tamanho de batch de 100 resultará em apenas 10 atualizações de modelo por época. Mais atualizações de modelo podem permitir que o modelo aprenda mais a partir dos dados.\n",
        "\n",
        "3. **Regularização implícita:** O uso de tamanhos de batch menores também pode ter um efeito de regularização, ajudando a prevenir o overfitting. Isso ocorre porque o ruído introduzido pela estimativa do gradiente com menos exemplos pode ajudar a evitar que o modelo se ajuste demais aos dados de treinamento.\n",
        "\n",
        "No entanto, vale a pena notar que embora tamanhos de batch menores possam às vezes resultar em uma acurácia de teste maior, eles também podem tornar o treinamento mais lento (gráfico 2), porque menos exemplos são processados simultaneamente. Além disso, tamanhos de batch muito pequenos podem resultar em estimativas de gradiente muito ruidosas, o que pode tornar o treinamento instável. Portanto, a escolha do tamanho do batch é um compromisso e pode requerer alguma experimentação para encontrar o melhor valor para um determinado problema."
      ]
    },
    {
      "cell_type": "markdown",
      "metadata": {
        "id": "SW_kiFhW57xs"
      },
      "source": [
        "## **IV - Modelo MLP**\n"
      ]
    },
    {
      "cell_type": "markdown",
      "metadata": {
        "id": "EeZyPQ0HAlls"
      },
      "source": [
        "\n",
        "A célula da seção IV - Modelo é provavelmente uma das mais difíceis de entender, juntamente com a seção V - Treinamento, pois são onde aparecem as principais funções do PyTorch.\n",
        "\n",
        "Iremos utilizar uma rede neural de duas camadas ditas MLP (Multi-Layer Perceptron). São duas camadas lineares, fc1 e fc2. Essas camadas também são denominadas fully connected para diferenciar de camadas convolucionais. As camadas são onde estão os parâmetros (weights) da rede neural. É importante estudar como estas camadas lineares funcionam, elas são compostas de neurônios que fazem uma média ponderada pelos parâmetros W_i mais uma constante B_i. Esses parâmetros são treinados para minimizar a função de Loss. Uma função não linear é colocada entre as camadas lineares. No caso, usamos a função ReLU (Rectified Linear Unit).\n",
        "\n",
        "Para entender o código da célula do Modelo MLP é fundamental conhecer os conceitos de orientação a objetos do Python. O modelo é definido pela classe OneHotMLP e é instanciado no objeto model na linha 16 que implementa o modelo da rede neural, recebendo uma entrada no formato one-hot e retornando o logito para ser posteriormente convertido em probabilidade do frase ser positiva ou negativa. O método forward será chamado automaticamente quando o objeto model for usado como função. Esses modelos são projetados para processar um batch de entrada de cada vez no formato devolvido pelo Data Loader visto na seção III (Exercício III.2.d)\n",
        "\n"
      ]
    },
    {
      "cell_type": "markdown",
      "metadata": {
        "id": "m3f3etmC57xs"
      },
      "source": [
        "### **IV.1** Exercícios para experimentar o modelo\n",
        "\n"
      ]
    },
    {
      "cell_type": "markdown",
      "metadata": {
        "id": "1fEGPUsG57xs"
      },
      "source": [
        "#### **IV.1.a)** Faça a predição do modelo utilizando um batch do train_loader: extraia um batch do train_loader, chame de (input, target), onde input é a entrada da rede e target é o label esperado. Como a rede está com seus parâmetros (weights) aleatórios, o logito de saída da rede será um valor aleatório, porém a chamada irá executar sem erros:\n",
        "\n",
        "logit = model( input)\n",
        "\n",
        "aplique a função sigmoidal ao logito para convertê-lo numa probabilidade de valor entre 0 e 1.\n",
        "\n"
      ]
    },
    {
      "cell_type": "code",
      "execution_count": null,
      "metadata": {
        "id": "QrSreZxg57xs"
      },
      "outputs": [],
      "source": [
        "train_loader = DataLoader(train_data,\n",
        "                        batch_size= 8,\n",
        "                        shuffle=True,\n",
        "                        num_workers=0,\n",
        "                        pin_memory=True)\n",
        "# Model instantiation\n",
        "model = OneHotMLP(vocab_size)\n",
        "model = model.to(device)\n"
      ]
    },
    {
      "cell_type": "code",
      "execution_count": null,
      "metadata": {
        "id": "IF4Yg__S57xt",
        "outputId": "512c6fb9-4999-4cee-9e85-056395b59c4f"
      },
      "outputs": [
        {
          "name": "stdout",
          "output_type": "stream",
          "text": [
            "logits tensor([[0.0377],\n",
            "        [0.0645],\n",
            "        [0.0222],\n",
            "        [0.0132],\n",
            "        [0.0496],\n",
            "        [0.0317],\n",
            "        [0.0464],\n",
            "        [0.0325]], device='cuda:0', grad_fn=<AddmmBackward0>)\n",
            "probabilities tensor([0.5094, 0.5161, 0.5056, 0.5033, 0.5124, 0.5079, 0.5116, 0.5081],\n",
            "       device='cuda:0', grad_fn=<ViewBackward0>)\n",
            "predicted tensor([1., 1., 1., 1., 1., 1., 1., 1.], device='cuda:0',\n",
            "       grad_fn=<ViewBackward0>)\n",
            "targets tensor([0, 1, 1, 0, 1, 1, 0, 0], device='cuda:0')\n",
            "correct tensor([False,  True,  True, False,  True,  True, False, False],\n",
            "       device='cuda:0')\n",
            "correct 4 of 8\n",
            "accuracy 50.0\n"
          ]
        }
      ],
      "source": [
        "\n",
        "# Obtenha o primeiro batch do train_loader\n",
        "inputs, targets = next(iter(train_loader))\n",
        "\n",
        "# Mova os inputs e targets para o dispositivo onde o modelo está\n",
        "inputs = inputs.to(device)\n",
        "targets = targets.to(device).view(-1)\n",
        "\n",
        "# Passe os inputs pelo modelo\n",
        "# Isso retorna os logits, que são os valores brutos de saída do modelo.\n",
        "# Como o modelo ainda não foi treinado, esses valores são inicialmente aleatórios.\n",
        "logits = model(inputs)\n",
        "\n",
        "# Aplique a função sigmoid aos logits\n",
        "# A função sigmoid mapeia qualquer número real para o intervalo (0, 1),\n",
        "# então as probabilidades resultantes serão valores entre 0 e 1.\n",
        "# Essas probabilidades representam a saída do modelo: a probabilidade prevista\n",
        "# de que cada exemplo de entrada pertença à classe positiva.\n",
        "probabilities = torch.sigmoid(logits).view(-1)\n",
        "\n",
        "predicted = torch.round(probabilities).view(-1)\n",
        "total = targets.size(0)\n",
        "\n",
        "correct = (predicted == targets)\n",
        "total_correct = correct.sum().item()\n",
        "accuracy = 100 * total_correct / total\n",
        "\n",
        "print(f'logits {logits}')\n",
        "print(f'probabilities {probabilities}')\n",
        "print(f'predicted {predicted}')\n",
        "print(f'targets {targets}')\n",
        "print(f'correct {correct}')\n",
        "print(f'correct {total_correct} of {total}')\n",
        "print(f'accuracy {accuracy}')\n"
      ]
    },
    {
      "cell_type": "markdown",
      "metadata": {
        "id": "w9wkdWwF57xt"
      },
      "source": [
        "#### **IV.1.b)** Agora, treine a rede executando o notebook todo e verifique se a acurácia está alta. Agora repita o exercício anterior, porém agora, compare o valor da probabilidade encontrada com o target esperado e verifique se ele acertou. Você pode considerar que se a probabilidade for maior que 0.5, pode-se dar o label 1 e se for menor que 0.5, o label 0. Observe isso que é feito na linha 11 da seção VI - Avaliação.\n"
      ]
    },
    {
      "cell_type": "markdown",
      "metadata": {
        "id": "MGr6uLk5A-uq"
      },
      "source": [
        "\n",
        "Se você der um print no modelo: print(model), você obterá:\n",
        "OneHotMLP(\n",
        "  (fc1): Linear(in_features=20001, out_features=200, bias=True)\n",
        "  (fc2): Linear(in_features=200, out_features=1, bias=True)\n",
        "  (relu): ReLU()\n",
        ")\n",
        "\n",
        "Os pesos da primeira camada podem ser visualizados com:\n",
        "model.fc1.weight\n",
        "e o elemento constante (bias) pode ser visualizado com:\n",
        "model.fc1.bias\n",
        "Calcule o número de parâmetros do modelo, preenchendo a seguinte tabela (utilize shape\n",
        " para verificar a estrutura de cada parâmetro do modelo):\n",
        "\n",
        "Tabela:\n",
        "layer\tfc1\t            fc2\t            TOTAL\n",
        "  \t   weight\tbias\tweight\tbias\n",
        "size\n",
        "\n",
        "\n"
      ]
    },
    {
      "cell_type": "markdown",
      "metadata": {
        "id": "QUnM8vHp57xt"
      },
      "source": [
        "Treino completo"
      ]
    },
    {
      "cell_type": "code",
      "execution_count": null,
      "metadata": {
        "id": "I7gDBmkH57xt",
        "outputId": "a6eb6dc4-1a21-4dd6-82ff-9ac64adcc3df"
      },
      "outputs": [
        {
          "name": "stdout",
          "output_type": "stream",
          "text": [
            "test_loader tem 3125 batches\n"
          ]
        }
      ],
      "source": [
        "test_loader = DataLoader(test_data,\n",
        "                          batch_size= 8,\n",
        "                          shuffle=False,\n",
        "                          num_workers=0,\n",
        "                          pin_memory=True)\n",
        "print(f\"test_loader tem {len(test_loader)} batches\")\n"
      ]
    },
    {
      "cell_type": "code",
      "execution_count": null,
      "metadata": {
        "id": "jiIOZGYl57xt",
        "outputId": "08bea286-f370-4b48-fc1c-a23b5747e848"
      },
      "outputs": [
        {
          "name": "stdout",
          "output_type": "stream",
          "text": [
            "Treino [11/11]: batch_size=1024; Número de batches de treino: 3125; test_accuracy=87.732  (train_duration 22.75 sec)\n"
          ]
        }
      ],
      "source": [
        "# Initialize a dictionary to record test accuracy for each learning rate\n",
        "\n",
        "train_loader = DataLoader(train_data,\n",
        "                        batch_size= 8,\n",
        "                        shuffle=True,\n",
        "                        num_workers=0,\n",
        "                        pin_memory=True)\n",
        "# Model instantiation\n",
        "model = OneHotMLP(vocab_size)\n",
        "model = model.to(device)\n",
        "criterion = nn.BCEWithLogitsLoss()\n",
        "optimizer = optim.SGD(model.parameters(), lr=0.01)\n",
        "train_start_time = time.time()  # Start time of the epoch\n",
        "test_accuracy = train_model(model, criterion, optimizer, 5, train_loader, test_loader, verbose=False)\n",
        "\n",
        "train_duration = time.time() - train_start_time  # Duration of epoch\n",
        "\n",
        "\n",
        "print(f'Treino [{cnt_treino + 1}/{len(batch_size_list)}]: batch_size={batch_size}; Número de batches de treino: {len(train_loader)}; test_accuracy={round(test_accuracy,4)}  (train_duration {train_duration:.2f} sec)')\n",
        "\n"
      ]
    },
    {
      "cell_type": "markdown",
      "metadata": {
        "id": "tZN4FHHc57xt"
      },
      "source": [
        "Verificação da acurácia após treino"
      ]
    },
    {
      "cell_type": "code",
      "execution_count": null,
      "metadata": {
        "id": "GGKG47Uj57xt",
        "outputId": "d64ebfb1-ea77-4d2f-af03-178b670d593a"
      },
      "outputs": [
        {
          "name": "stdout",
          "output_type": "stream",
          "text": [
            "\n",
            "\n",
            "Em ambiente de: treino\n",
            "logits tensor([[-7.3362],\n",
            "        [ 0.6910],\n",
            "        [ 4.8479],\n",
            "        [-4.7868],\n",
            "        [ 0.9367],\n",
            "        [ 7.0848],\n",
            "        [ 0.8461],\n",
            "        [ 4.5086]], device='cuda:0', grad_fn=<AddmmBackward0>)\n",
            "probabilities tensor([6.5110e-04, 6.6619e-01, 9.9222e-01, 8.2704e-03, 7.1844e-01, 9.9916e-01,\n",
            "        6.9975e-01, 9.8911e-01], device='cuda:0', grad_fn=<ViewBackward0>)\n",
            "predicted tensor([0., 1., 1., 0., 1., 1., 1., 1.], device='cuda:0',\n",
            "       grad_fn=<ViewBackward0>)\n",
            "targets tensor([0, 1, 1, 0, 1, 1, 1, 1], device='cuda:0')\n",
            "correct tensor([True, True, True, True, True, True, True, True], device='cuda:0')\n",
            "correct 8 of 8\n",
            "accuracy 100.0\n",
            "\n",
            "\n",
            "Em ambiente de: teste\n",
            "logits tensor([[ 7.8473],\n",
            "        [ 1.2208],\n",
            "        [ 0.1196],\n",
            "        [ 9.2927],\n",
            "        [-5.5199],\n",
            "        [ 3.4430],\n",
            "        [ 2.6541],\n",
            "        [ 7.4055]], device='cuda:0', grad_fn=<AddmmBackward0>)\n",
            "probabilities tensor([0.9996, 0.7722, 0.5299, 0.9999, 0.0040, 0.9690, 0.9343, 0.9994],\n",
            "       device='cuda:0', grad_fn=<ViewBackward0>)\n",
            "predicted tensor([1., 1., 1., 1., 0., 1., 1., 1.], device='cuda:0',\n",
            "       grad_fn=<ViewBackward0>)\n",
            "targets tensor([1, 1, 1, 1, 1, 1, 1, 1], device='cuda:0')\n",
            "correct tensor([ True,  True,  True,  True, False,  True,  True,  True],\n",
            "       device='cuda:0')\n",
            "correct 7 of 8\n",
            "accuracy 87.5\n"
          ]
        }
      ],
      "source": [
        "list_data_loader = [{'treino':train_loader}, {'teste':test_loader, }]\n",
        "# Obtenha o primeiro batch do train_loader\n",
        "for data_loader_avaliacao in list_data_loader:\n",
        "    #print(data_loader_avaliacao)\n",
        "    nome_data_loader = list(data_loader_avaliacao.keys())[0]\n",
        "    #print(nome_data_loader)\n",
        "    data_loader = data_loader_avaliacao[nome_data_loader]\n",
        "    #print(data_loader)\n",
        "    inputs, targets = next(iter(data_loader))\n",
        "\n",
        "    # Mova os inputs e targets para o dispositivo onde o modelo está\n",
        "    inputs = inputs.to(device)\n",
        "    targets = targets.to(device).view(-1)\n",
        "\n",
        "    # Passe os inputs pelo modelo\n",
        "    # Isso retorna os logits, que são os valores brutos de saída do modelo.\n",
        "    # Como o modelo ainda não foi treinado, esses valores são inicialmente aleatórios.\n",
        "    logits = model(inputs)\n",
        "\n",
        "    # Aplique a função sigmoid aos logits\n",
        "    # A função sigmoid mapeia qualquer número real para o intervalo (0, 1),\n",
        "    # então as probabilidades resultantes serão valores entre 0 e 1.\n",
        "    # Essas probabilidades representam a saída do modelo: a probabilidade prevista\n",
        "    # de que cada exemplo de entrada pertença à classe positiva.\n",
        "    probabilities = torch.sigmoid(logits).view(-1)\n",
        "\n",
        "    predicted = torch.round(probabilities).view(-1)\n",
        "    total = targets.size(0)\n",
        "\n",
        "    correct = (predicted == targets)\n",
        "    total_correct = correct.sum().item()\n",
        "    accuracy = 100 * total_correct / total\n",
        "\n",
        "    print(f'\\n\\nEm ambiente de: {nome_data_loader}')\n",
        "\n",
        "    print(f'logits {logits}')\n",
        "    print(f'probabilities {probabilities}')\n",
        "    print(f'predicted {predicted}')\n",
        "    print(f'targets {targets}')\n",
        "    print(f'correct {correct}')\n",
        "    print(f'correct {total_correct} of {total}')\n",
        "    print(f'accuracy {accuracy}')\n"
      ]
    },
    {
      "cell_type": "markdown",
      "metadata": {
        "id": "fs8mvdkw57xu"
      },
      "source": [
        "**Observação** Como esperado, a acurácia nos dados de treinamento alcançou 100%, mas em teste 87.5%. O modelo ficou especialista nos dados de treinamento."
      ]
    },
    {
      "cell_type": "markdown",
      "metadata": {
        "id": "7IKJm1rq57xu"
      },
      "source": [
        "Obtendo o total dos parâmetros"
      ]
    },
    {
      "cell_type": "code",
      "execution_count": null,
      "metadata": {
        "id": "x6_QOgtp57xu",
        "outputId": "740f6204-2636-40ac-b0ab-b890d5ce533b"
      },
      "outputs": [
        {
          "name": "stdout",
          "output_type": "stream",
          "text": [
            "OneHotMLP(\n",
            "  (fc1): Linear(in_features=20001, out_features=200, bias=True)\n",
            "  (fc2): Linear(in_features=200, out_features=1, bias=True)\n",
            "  (relu): ReLU()\n",
            ")\n"
          ]
        }
      ],
      "source": [
        "print(model)"
      ]
    },
    {
      "cell_type": "code",
      "execution_count": null,
      "metadata": {
        "id": "BLN0BbQv57xu",
        "outputId": "d7bc0066-4dbf-43cd-cfd4-dd0ae4d74caa"
      },
      "outputs": [
        {
          "data": {
            "text/plain": [
              "(torch.Size([200, 20001]), torch.Size([200]))"
            ]
          },
          "execution_count": 340,
          "metadata": {},
          "output_type": "execute_result"
        }
      ],
      "source": [
        "model.fc1.weight.size(), model.fc1.bias.size()"
      ]
    },
    {
      "cell_type": "code",
      "execution_count": null,
      "metadata": {
        "id": "jqHp_zyL57xu",
        "outputId": "1efe5415-0443-4a99-f432-254ccc6b39e7"
      },
      "outputs": [
        {
          "name": "stdout",
          "output_type": "stream",
          "text": [
            "fc1.weight: 4000200 parameters, shape [200, 20001]\n",
            "fc1.bias: 200 parameters, shape [200]\n",
            "fc2.weight: 200 parameters, shape [1, 200]\n",
            "fc2.bias: 1 parameters, shape [1]\n",
            "fc1: 4000400 total parameters\n",
            "fc2: 201 total parameters\n",
            "Total parameters in the model: 4000601\n"
          ]
        }
      ],
      "source": [
        "\n",
        "# Initialize dictionaries to hold the counts and shapes\n",
        "param_counts = {}\n",
        "param_shapes = {}\n",
        "layer_counts = {}\n",
        "\n",
        "# Iterate over each parameter\n",
        "for name, param in model.named_parameters():\n",
        "    # Update the count and shape for this parameter\n",
        "    param_counts[name] = param.numel()\n",
        "    param_shapes[name] = list(param.size())\n",
        "\n",
        "    # Get the layer name and update the layer count\n",
        "    layer_name = name.split('.')[0]\n",
        "    layer_counts[layer_name] = layer_counts.get(layer_name, 0) + param.numel()\n",
        "\n",
        "# Print the number of parameters and shape for each weight and bias in each layer\n",
        "for param_name in param_counts.keys():\n",
        "    print(f'{param_name}: {param_counts[param_name]} parameters, shape {param_shapes[param_name]}')\n",
        "\n",
        "# Print the total number of parameters in each layer\n",
        "for layer_name in layer_counts.keys():\n",
        "    print(f'{layer_name}: {layer_counts[layer_name]} total parameters')\n",
        "\n",
        "# Calculate and print the total number of parameters in the model\n",
        "total_params = sum(param_counts.values())\n",
        "print(f'Total parameters in the model: {total_params}')\n"
      ]
    },
    {
      "cell_type": "markdown",
      "metadata": {
        "id": "ufgWczFG57xu"
      },
      "source": [
        "|layer||||||\n",
        "|------|------|------|------|------|------|\n",
        "||weight|total|bias|total|total|\n",
        "|fc1|[200, 20001]|4000200|[200]|200|4000400|\n",
        "|fc2|[1, 200]|200|[1]|1|201|\n",
        "|total||4000400||201|4000601|"
      ]
    },
    {
      "cell_type": "markdown",
      "metadata": {
        "id": "p8c3Qz4P57xu"
      },
      "source": [
        "## **V - Treinamento**\n"
      ]
    },
    {
      "cell_type": "markdown",
      "metadata": {
        "id": "yLGP5CMtAm6g"
      },
      "source": [
        "\n",
        "Agora vamos entrar na principal seção do notebook que minimiza a Loss para ajustar os pesos do modelo.\n",
        "\n",
        "Cálculo da Loss\n",
        "\n",
        "A Loss é uma comparação entre a saída do modelo e o label (target). A Loss mais utilizada para problemas de classificação é a Entropia Cruzada. A equação da entropia cruzada para o caso binário (2 classes: 0 ou 1; True ou False) é dada por:\n",
        "\n",
        "H = -\\frac{1}{N} \\sum_{i=1}^{N} y_i \\log(p_i) + (1 - y_i) \\log(1 - p_i)\n",
        "\n",
        "Nessa fórmula:\n",
        "\n",
        "(H) é a entropia cruzada.\n",
        "(N) é o número de amostras.\n",
        "(y_i) é o rótulo verdadeiro da amostra (i).\n",
        "(p_i) é a probabilidade prevista pelo modelo para a amostra (i).\n",
        "\n",
        "Muitas vezes chamamos y_i de target e p_i (y_i ) ̂ de prob.\n",
        "\n",
        "Quando a Loss é zero, significa que o modelo está predizendo tanto as amostras positivas como as amostras negativas com probabilidade de 100%. O objetivo é otimizar o modelo para conseguir minimizar a Loss ao máximo.\n",
        "\n",
        "A rede neural é o nosso modelo que recebe a entrada com um batch de amostras e retorna um batch de logitos ou output.\n",
        "\n",
        "output = model(input)\n",
        "\n",
        "para converter o logito (output) em probabilidade, utiliza-se a função sigmóide que é dada pela equação específica\n",
        "  \n",
        "\n",
        "Assim, o código pytorch para estimarmos a probabilidade de um texto codificado no formato one-hot na variável input pode ser:\n",
        "\n",
        "prob = torch.sigmoid(output)\n",
        "\n",
        "Atenção: observe que esses comandos estão processando todas as amostras no batch, que nesse notebook tem 128 amostras no batch size.\n",
        "\n"
      ]
    },
    {
      "cell_type": "markdown",
      "metadata": {
        "id": "9N51d7gG57xv"
      },
      "source": [
        "### **V.1 Exercícios:**\n"
      ]
    },
    {
      "cell_type": "markdown",
      "metadata": {
        "id": "jGo9jlNc57xv"
      },
      "source": [
        "#### **V.1.a)** Qual é o valor teórico da Loss quando o modelo não está treinado, mas apenas inicializado? Isto é, a probabilidade predita tanto para a classe 0 como para a classe 1, é sempre 0,5 ? Justifique. Atenção: na equação da Entropia Cruzada utilize o logaritmo natural.\n",
        "\n"
      ]
    },
    {
      "cell_type": "markdown",
      "metadata": {
        "id": "LwYXV90F57xv"
      },
      "source": [
        "**R.:**\n",
        "A função de perda de entropia cruzada binária, que é comumente usada para problemas de classificação binária, é definida como:\n",
        "\n",
        "```\n",
        "BCELoss = -[y * log(p) + (1 - y) * log(1 - p)]\n",
        "```\n",
        "\n",
        "onde `y` é o rótulo verdadeiro (0 ou 1) e `p` é a probabilidade prevista para a classe 1.\n",
        "\n",
        "Quando o modelo é apenas inicializado e não treinado, e se assumirmos que ele está prevendo uma probabilidade de 0,5 para ambas as classes (o que seria o caso se o modelo estivesse prevendo aleatoriamente), então a função de perda de entropia cruzada binária se simplifica para:\n",
        "\n",
        "```\n",
        "BCELoss = -[y * log(0.5) + (1 - y) * log(0.5)]\n",
        "        = -log(0.5)\n",
        "        = log(2)\n",
        "```\n",
        "\n",
        "O logaritmo natural de 2 é aproximadamente 0.6931. Portanto, o valor teórico da perda quando o modelo não está treinado e está prevendo uma probabilidade de 0,5 para ambas as classes é aproximadamente 0.6931.\n",
        "\n",
        "Obs.:note que isso é apenas uma aproximação teórica. Na prática, um modelo recém-inicializado pode não prever exatamente 0,5 para todas as entradas, dependendo de como seus pesos são inicializados. Além disso, a perda real também dependerá da distribuição dos rótulos verdadeiros `y` no conjunto de dados."
      ]
    },
    {
      "cell_type": "markdown",
      "metadata": {
        "id": "_-lQDUUv57xv"
      },
      "source": [
        "#### **V.1.b)** Utilize as amostras do primeiro batch: (input,target) = next(iter(train_loader)) e calcule o valor da Loss utilizando a equação fornecida anteriormente utilizando o pytorch. Verifique se este valor confere com o valor teórico do exercício anterior.\n",
        "\n"
      ]
    },
    {
      "cell_type": "code",
      "execution_count": null,
      "metadata": {
        "id": "JmduaT-B57xv",
        "outputId": "5eb6f2b6-b9af-4523-bf98-8b340dcab1bc"
      },
      "outputs": [
        {
          "name": "stdout",
          "output_type": "stream",
          "text": [
            "loss 0.6965450048446655\n"
          ]
        }
      ],
      "source": [
        "# Suponha que você já tenha definido train_data, vocab_size e OneHotMLP\n",
        "\n",
        "train_loader = DataLoader(train_data,\n",
        "                          batch_size=128,\n",
        "                          shuffle=True,\n",
        "                          num_workers=0,\n",
        "                          pin_memory=True)\n",
        "\n",
        "# Instanciação do modelo\n",
        "model = OneHotMLP(vocab_size)\n",
        "model = model.to(device)\n",
        "\n",
        "# Obtenha o primeiro batch do train_loader\n",
        "inputs, targets = next(iter(train_loader))\n",
        "\n",
        "# Mova os inputs e targets para o dispositivo onde o modelo está\n",
        "inputs = inputs.to(device)\n",
        "targets = targets.to(device).view(-1)\n",
        "\n",
        "# Passe os inputs pelo modelo\n",
        "# Isso retorna os logits, que são os valores brutos de saída do modelo.\n",
        "# Como o modelo ainda não foi treinado, esses valores são inicialmente aleatórios.\n",
        "logits = model(inputs)\n",
        "\n",
        "# Aplique a função sigmoid aos logits\n",
        "# A função sigmoid mapeia qualquer número real para o intervalo (0, 1),\n",
        "# então as probabilidades resultantes serão valores entre 0 e 1.\n",
        "# Essas probabilidades representam a saída do modelo: a probabilidade prevista\n",
        "# de que cada exemplo de entrada pertença à classe positiva.\n",
        "probabilities = torch.sigmoid(logits).view(-1)\n",
        "\n",
        "# Calcule a entropia cruzada manualmente\n",
        "# A fórmula é: - (y * log(p) + (1 - y) * log(1 - p))\n",
        "# onde y é a classe real (0 ou 1) e p é a probabilidade prevista\n",
        "loss = -(targets * torch.log(probabilities) + (1 - targets) * torch.log(1 - probabilities)).mean()\n",
        "\n",
        "print(f'loss {loss.item()}')\n"
      ]
    },
    {
      "cell_type": "markdown",
      "metadata": {
        "id": "tytuekX457xv"
      },
      "source": [
        "**R,:** valor confere com o teórico"
      ]
    },
    {
      "cell_type": "markdown",
      "metadata": {
        "id": "MHx5lWvS57xv"
      },
      "source": [
        "#### **V.1.c)** O pytorch possui várias funções que facilitam o cálculo da Loss pela Entropia Cruzada. Utilize a classe nn.BCELoss (Binary Cross Entropy Loss). Você primeiro deve instanciar uma função da classe nn.BCELoss. Esta função instanciada recebe dois parâmetros (probs , targets) e retorna a Loss. Use a busca do Google para ver a documentação do BCELoss do pytorch.\n"
      ]
    },
    {
      "cell_type": "markdown",
      "metadata": {
        "id": "z42u5w6oBIjM"
      },
      "source": [
        "Calcule então a função de Loss da entropia cruzada, porém usando agora a função instanciada pelo BCELoss e confira se o resultado é exatamente o mesmo obtido no exercício anterior.\n",
        "\n"
      ]
    },
    {
      "cell_type": "markdown",
      "metadata": {
        "id": "ZsvIA45257xv"
      },
      "source": [
        "Para usar a classe `nn.BCELoss` (Binary Cross Entropy Loss) em vez de `nn.BCEWithLogitsLoss`, você precisa aplicar a função sigmoid aos logits antes de passá-los para a função de perda.\n",
        "\n",
        "\n",
        "Neste exemplo, a linha `loss = criterion(probabilities, targets.float())` aplica a função de perda `nn.BCELoss` às probabilidades, não aos logits. A função `nn.BCELoss` espera que as entradas sejam probabilidades entre 0 e 1, então você precisa aplicar a função sigmoid aos logits antes de passá-los para a função de perda.\n"
      ]
    },
    {
      "cell_type": "markdown",
      "metadata": {},
      "source": [
        "Sim. Diferenças nas casas decimais provavelmente devido a arredondamentos e representação numérica."
      ]
    },
    {
      "cell_type": "code",
      "execution_count": null,
      "metadata": {
        "id": "0J6OEH0G57xw",
        "outputId": "5082c9a5-83ae-4789-d9f5-0467f56ddd48"
      },
      "outputs": [
        {
          "name": "stdout",
          "output_type": "stream",
          "text": [
            "loss 0.6915096044540405\n"
          ]
        }
      ],
      "source": [
        "train_loader = DataLoader(train_data,\n",
        "                        batch_size= 128,\n",
        "                        shuffle=True,\n",
        "                        num_workers=0,\n",
        "                        pin_memory=True)\n",
        "# Model instantiation\n",
        "model = OneHotMLP(vocab_size)\n",
        "model = model.to(device)\n",
        "criterion = nn.BCELoss()\n",
        "\n",
        "# Obtenha o primeiro batch do train_loader\n",
        "inputs, targets = next(iter(train_loader))\n",
        "\n",
        "# Mova os inputs e targets para o dispositivo onde o modelo está\n",
        "inputs = inputs.to(device)\n",
        "targets = targets.to(device).view(-1)\n",
        "\n",
        "# Passe os inputs pelo modelo\n",
        "# Isso retorna os logits, que são os valores brutos de saída do modelo.\n",
        "# Como o modelo ainda não foi treinado, esses valores são inicialmente aleatórios.\n",
        "logits = model(inputs)\n",
        "\n",
        "# Aplique a função sigmoid aos logits\n",
        "# A função sigmoid mapeia qualquer número real para o intervalo (0, 1),\n",
        "# então as probabilidades resultantes serão valores entre 0 e 1.\n",
        "# Essas probabilidades representam a saída do modelo: a probabilidade prevista\n",
        "# de que cada exemplo de entrada pertença à classe positiva.\n",
        "probabilities = torch.sigmoid(logits).view(-1)\n",
        "\n",
        "predicted = torch.round(probabilities).view(-1)\n",
        "total = targets.size(0)\n",
        "\n",
        "correct = (predicted == targets)\n",
        "total_correct = correct.sum().item()\n",
        "accuracy = 100 * total_correct / total\n",
        "\n",
        "# Apply the loss function to the probabilities, not the logits\n",
        "loss = criterion(probabilities, targets.float())\n",
        "\n",
        "print(f'loss {loss.item()}')\n"
      ]
    },
    {
      "cell_type": "markdown",
      "metadata": {
        "id": "w6XK6DaC57xw"
      },
      "source": [
        "#### **V.1.d)** Repita o mesmo exercício, porém agora usando a classe nn.BCEWithLogitsLoss, que é a opção utilizada no notebook. O resultado da Loss deve igualar aos resultados anteriores.\n"
      ]
    },
    {
      "cell_type": "markdown",
      "metadata": {
        "id": "m6oIY1i7BKg5"
      },
      "source": [
        "\n",
        "Minimização da Loss pelo gradiente descendente\n",
        "\n",
        "Estude o método do gradiente descendente para minimizar uma função. Como curiosidade, pergunte ao chatGPT quando este método de minimização foi usado pela primeira vez. Aproveite e peça para ele explicar o método de uma maneira bem simples e ilustrativa. Peça para ele explicar qual é a forma moderna de se calcular computacionalmente o gradiente de uma função.\n",
        "Finalmente peça para ele explicar as linhas 3, 6, e (20, 21 e 22) do laço de treinamento.\n",
        "\n"
      ]
    },
    {
      "cell_type": "code",
      "execution_count": null,
      "metadata": {
        "id": "C5Ug63Se57xw",
        "outputId": "094fdfaf-245f-441f-cc7b-4b255c0f7ce4"
      },
      "outputs": [
        {
          "name": "stdout",
          "output_type": "stream",
          "text": [
            "loss 0.6923476457595825\n"
          ]
        }
      ],
      "source": [
        "train_loader = DataLoader(train_data,\n",
        "                        batch_size= 128,\n",
        "                        shuffle=True,\n",
        "                        num_workers=0,\n",
        "                        pin_memory=True)\n",
        "# Model instantiation\n",
        "model = OneHotMLP(vocab_size)\n",
        "model = model.to(device)\n",
        "criterion = nn.BCEWithLogitsLoss()\n",
        "\n",
        "# Obtenha o primeiro batch do train_loader\n",
        "inputs, targets = next(iter(train_loader))\n",
        "\n",
        "# Mova os inputs e targets para o dispositivo onde o modelo está\n",
        "inputs = inputs.to(device)\n",
        "targets = targets.to(device).view(-1)\n",
        "\n",
        "# Passe os inputs pelo modelo\n",
        "# Isso retorna os logits, que são os valores brutos de saída do modelo.\n",
        "# Como o modelo ainda não foi treinado, esses valores são inicialmente aleatórios.\n",
        "logits = model(inputs)\n",
        "\n",
        "# Aplique a função sigmoid aos logits\n",
        "# A função sigmoid mapeia qualquer número real para o intervalo (0, 1),\n",
        "# então as probabilidades resultantes serão valores entre 0 e 1.\n",
        "# Essas probabilidades representam a saída do modelo: a probabilidade prevista\n",
        "# de que cada exemplo de entrada pertença à classe positiva.\n",
        "probabilities = torch.sigmoid(logits).view(-1)\n",
        "\n",
        "predicted = torch.round(probabilities).view(-1)\n",
        "total = targets.size(0)\n",
        "\n",
        "correct = (predicted == targets)\n",
        "total_correct = correct.sum().item()\n",
        "accuracy = 100 * total_correct / total\n",
        "\n",
        "loss = criterion(logits.view(-1), targets.float())\n",
        "\n",
        "print(f'loss {loss.item()}')\n",
        "\n"
      ]
    },
    {
      "cell_type": "markdown",
      "metadata": {
        "id": "ex0eTKo-57xw"
      },
      "source": [
        "### **V.2 Exercícios:**\n"
      ]
    },
    {
      "cell_type": "markdown",
      "metadata": {
        "id": "F-jM9mwG57xw"
      },
      "source": [
        "#### **V.2.a)** Modifique a célula do laço de treinamento de modo que a primeira Loss a ser impressa seja a Loss com o modelo inicializado (isto é, sem nenhum treinamento), fornecendo a Loss esperada conforme os exercícios feitos anteriormente. Observe que desta forma, fica fácil verificar se o seu modelo está correto e a Loss está sendo calculada corretamente.\n"
      ]
    },
    {
      "cell_type": "markdown",
      "metadata": {
        "id": "7ivCoWApBNzw"
      },
      "source": [
        "Atenção: Mantenha esse código da impressão do valor da Loss inicial, antes do treinamento, nesta célula, pois ela é sempre útil para verificar se não tem nada errado, antes de começar o treinamento.\n",
        "\n"
      ]
    },
    {
      "cell_type": "code",
      "execution_count": null,
      "metadata": {
        "id": "0fL-0Rcz57xw",
        "outputId": "3ba9b589-43ac-41ee-a3d1-f71f5e88e3d2"
      },
      "outputs": [
        {
          "data": {
            "text/plain": [
              "{'training': True,\n",
              " '_parameters': OrderedDict(),\n",
              " '_buffers': OrderedDict([('weight', None), ('pos_weight', None)]),\n",
              " '_non_persistent_buffers_set': set(),\n",
              " '_backward_pre_hooks': OrderedDict(),\n",
              " '_backward_hooks': OrderedDict(),\n",
              " '_is_full_backward_hook': None,\n",
              " '_forward_hooks': OrderedDict(),\n",
              " '_forward_hooks_with_kwargs': OrderedDict(),\n",
              " '_forward_hooks_always_called': OrderedDict(),\n",
              " '_forward_pre_hooks': OrderedDict(),\n",
              " '_forward_pre_hooks_with_kwargs': OrderedDict(),\n",
              " '_state_dict_hooks': OrderedDict(),\n",
              " '_state_dict_pre_hooks': OrderedDict(),\n",
              " '_load_state_dict_pre_hooks': OrderedDict(),\n",
              " '_load_state_dict_post_hooks': OrderedDict(),\n",
              " '_modules': OrderedDict(),\n",
              " 'reduction': 'mean'}"
            ]
          },
          "execution_count": 382,
          "metadata": {},
          "output_type": "execute_result"
        }
      ],
      "source": [
        "criterion.__dict__"
      ]
    },
    {
      "cell_type": "code",
      "execution_count": null,
      "metadata": {
        "id": "TEyjtEgz57xw"
      },
      "outputs": [],
      "source": [
        "def validar_correcao_loss_esperada_xentropy(model, criterion, train_loader):\n",
        "\n",
        "    # Forward pass com o modelo inicializado\n",
        "    # Obtenha o primeiro batch do train_loader\n",
        "    inputs, targets = next(iter(train_loader))\n",
        "\n",
        "    # Mova os inputs e targets para o dispositivo onde o modelo está\n",
        "    inputs = inputs.to(device)\n",
        "    targets = targets.to(device).view(-1)\n",
        "\n",
        "    initial_outputs = model(inputs)  # Inputs devem ser do DataLoader de treinamento\n",
        "    loss = criterion(initial_outputs.view(-1), targets.float())\n",
        "\n",
        "    # Valor esperado da Loss\n",
        "    valor_esperado = 0.6931\n",
        "\n",
        "    diff = abs(loss.item()-valor_esperado)\n",
        "    # Verifique se a Loss inicial está próxima do valor esperado\n",
        "    if diff < 0.01:  # Considerando igualdade até 2 casas decimais\n",
        "        print(f\"A Loss inicial de cross entropy {loss} está correta! Diferença de {diff:.4f} (arredondamentos)\")\n",
        "        return True\n",
        "    else:\n",
        "        print(f\"A Loss inicial de cross entropy não corresponde ao valor esperado. Valor atual: {loss.item():.4f}. Valor esperado para loss: {valor_esperado:.4f}. Diferença de {diff:.4f}\")\n",
        "        return False\n",
        "\n"
      ]
    },
    {
      "cell_type": "code",
      "execution_count": null,
      "metadata": {
        "id": "GBb2K0p557xw",
        "outputId": "b86c4b84-4848-4298-96fe-db5ab525548e"
      },
      "outputs": [
        {
          "name": "stdout",
          "output_type": "stream",
          "text": [
            "A Loss inicial de cross entropy 0.693384051322937 está correta! Diferença de 0.0003 (arredondamentos)\n",
            "True\n"
          ]
        }
      ],
      "source": [
        "train_loader = DataLoader(train_data,\n",
        "                        batch_size= 128,\n",
        "                        shuffle=True,\n",
        "                        num_workers=0,\n",
        "                        pin_memory=True)\n",
        "# Model instantiation\n",
        "model = OneHotMLP(vocab_size)\n",
        "model = model.to(device)\n",
        "criterion = nn.BCEWithLogitsLoss()\n",
        "\n",
        "\n",
        "print(validar_correcao_loss_esperada_xentropy(model, criterion, train_loader))\n",
        "\n",
        "\n"
      ]
    },
    {
      "cell_type": "code",
      "execution_count": null,
      "metadata": {
        "id": "8rQEUDRx57xx"
      },
      "outputs": [],
      "source": [
        "def train_model(model, criterion, optimizer, num_epochs, train_loader, test_loader, verbose:bool=True):\n",
        "\n",
        "    if validar_correcao_loss_esperada_xentropy(model, criterion, train_loader):\n",
        "        # Training loop\n",
        "        for epoch in range(num_epochs):\n",
        "            epoch_start_time = time.time()  # Start time of the epoch\n",
        "            model.train()\n",
        "            for cnt_batch, (inputs, labels) in enumerate(train_loader):\n",
        "\n",
        "\n",
        "                # print(f\"Batch {cnt+1}\")\n",
        "                # mover para gpu\n",
        "                inputs = inputs.to(device)\n",
        "                labels = labels.to(device)\n",
        "                # Forward pass\n",
        "                outputs = model(inputs)\n",
        "                if verbose and cnt_batch==0:\n",
        "                    # Verifique as dimensões dos tensores\n",
        "                    print(\"Dimensões dos outputs:\", outputs.shape)\n",
        "                    print(\"Dimensões dos labels:\", labels.shape)\n",
        "                loss = criterion(outputs.view(-1), labels.view(-1).float())\n",
        "                # Backward and optimize\n",
        "                optimizer.zero_grad()\n",
        "                loss.backward()\n",
        "                optimizer.step()\n",
        "\n",
        "            epoch_duration = time.time() - epoch_start_time  # Duration of epoch\n",
        "\n",
        "            if verbose:\n",
        "                print(f'Epoch [{epoch+1}/{num_epochs}], \\\n",
        "                        Loss: {loss.item():.4f}, \\\n",
        "                        Elapsed Time: {epoch_duration:.2f} sec')\n",
        "\n",
        "        # Evaluate the model and record the test accuracy\n",
        "        test_accuracy = evaluate(model, test_loader)\n",
        "\n",
        "        return test_accuracy\n",
        "\n"
      ]
    },
    {
      "cell_type": "markdown",
      "metadata": {
        "id": "CqfRlLd-57xx"
      },
      "source": [
        "#### **V.2.b)** Execute a célula de treinamento por uma segunda vez e observe que a Loss continua diminuindo e o modelo está continuando a ser treinado. O que é necessário fazer para que o treinamento comece novamente do modelo aleatório? Qual(is) célula(s) é(são) preciso executar antes de executar o laço de treinamento novamente?\n"
      ]
    },
    {
      "cell_type": "code",
      "execution_count": null,
      "metadata": {
        "id": "f8I0NsRW57xx",
        "outputId": "0f965541-9705-494f-b13d-ec544777fcb0"
      },
      "outputs": [
        {
          "name": "stdout",
          "output_type": "stream",
          "text": [
            "A Loss inicial de cross entropy 0.6963748931884766 está correta! Diferença de 0.0033 (arredondamentos)\n",
            "A Loss inicial de cross entropy não corresponde ao valor esperado. Valor atual: 0.1784. Valor esperado para loss: 0.6931. Diferença de 0.5147\n"
          ]
        }
      ],
      "source": [
        "train_loader = DataLoader(train_data,\n",
        "                        batch_size= 8,\n",
        "                        shuffle=True,\n",
        "                        num_workers=0,\n",
        "                        pin_memory=True)\n",
        "# Model instantiation\n",
        "model = OneHotMLP(vocab_size)\n",
        "model = model.to(device)\n",
        "criterion = nn.BCEWithLogitsLoss()\n",
        "optimizer = optim.SGD(model.parameters(), lr=0.01)\n",
        "train_start_time = time.time()  # Start time of the epoch\n",
        "test_accuracy = train_model(model, criterion, optimizer, 1, train_loader, test_loader, verbose=False)\n",
        "test_accuracy = train_model(model, criterion, optimizer, 1, train_loader, test_loader, verbose=False)\n"
      ]
    },
    {
      "cell_type": "markdown",
      "metadata": {
        "id": "CVpy-_Uu57xx"
      },
      "source": [
        "Realmente não corresponde à inicial, pois os parâmetros do modelo fora atualizados e ela diminuiu (houve aprendizado).\n",
        "Para recomeçar em modo aleatório é necessário reiniciar os parâmetros, recriando-se o modelo com o comando model = OneHotMLP(vocab_size). Conforme abaixo:"
      ]
    },
    {
      "cell_type": "code",
      "execution_count": null,
      "metadata": {
        "id": "Y6Pncknz57xx",
        "outputId": "35d5fbde-c40c-438d-9bcf-ab13caca1b04"
      },
      "outputs": [
        {
          "name": "stdout",
          "output_type": "stream",
          "text": [
            "A Loss inicial de cross entropy 0.6940696239471436 está correta! Diferença de 0.0010 (arredondamentos)\n",
            "A Loss inicial de cross entropy 0.6977269053459167 está correta! Diferença de 0.0046 (arredondamentos)\n"
          ]
        }
      ],
      "source": [
        "train_loader = DataLoader(train_data,\n",
        "                        batch_size= 8,\n",
        "                        shuffle=True,\n",
        "                        num_workers=0,\n",
        "                        pin_memory=True)\n",
        "# Model instantiation\n",
        "model = OneHotMLP(vocab_size)\n",
        "model = model.to(device)\n",
        "criterion = nn.BCEWithLogitsLoss()\n",
        "optimizer = optim.SGD(model.parameters(), lr=0.01)\n",
        "train_start_time = time.time()  # Start time of the epoch\n",
        "test_accuracy = train_model(model, criterion, optimizer, 1, train_loader, test_loader, verbose=False)\n",
        "model = OneHotMLP(vocab_size)\n",
        "model = model.to(device)\n",
        "optimizer = optim.SGD(model.parameters(), lr=0.01)\n",
        "# optimizer = optim.SGD(model.parameters(), lr=0.01)\n",
        "test_accuracy = train_model(model, criterion, optimizer, 1, train_loader, test_loader, verbose=False)\n"
      ]
    },
    {
      "cell_type": "markdown",
      "metadata": {
        "id": "HE7uOAX457xx"
      },
      "source": [
        "### **V.3 Exercícios:**\n",
        "\n"
      ]
    },
    {
      "cell_type": "markdown",
      "metadata": {
        "id": "z_G2BGjh57xx"
      },
      "source": [
        "\n",
        "Modificando a rede para gerar dois logitos no lugar de 1\n",
        "\n",
        "Existe uma forma alternativa de implementar um modelo binário utilizando 2 logitos, um para dar a probabilidade da classe positiva e outro para a classe negativa. Para isso, modifique a camada de saída da rede para gerar 2 logitos no lugar de apenas 1 logito.\n",
        "Agora, para converter os logitos em probabilidade, é necessário utilizar a função Softmax, que é dada pela equação:\n",
        "\n",
        "A função Softmax é usada para prever mais de 2 classes, mas também pode ser usada para o nosso caso de 2 classes. Quando existem N classes, utiliza-se N logitos na saída da rede neural. O Softmax converte estes n logitos em N probabilidades de modo que a soma destas probabilidades é sempre igual a 1, não importando os valores dos logitos que podem assumir quaisquer valores, negativos ou positivos.\n",
        "\n",
        "O valor da Loss para o caso de N classes e M amostras no batch, é dado por fórmulas específicadas no material.\n",
        "\n",
        "\n"
      ]
    },
    {
      "cell_type": "markdown",
      "metadata": {
        "id": "qDElDtTz57xy"
      },
      "source": [
        "#### **V.3.a)** Repita o exercício V.1.a) porém agora utilizando a equação acima.\n",
        "\n"
      ]
    },
    {
      "cell_type": "code",
      "execution_count": null,
      "metadata": {
        "id": "vvW-945P57xy"
      },
      "outputs": [],
      "source": [
        "class OneHotMLPClasses(nn.Module):\n",
        "    def __init__(self, vocab_size, num_classes):\n",
        "        super(OneHotMLPClasses, self).__init__()\n",
        "        self.fc1 = nn.Linear(vocab_size + 1, 200)\n",
        "        self.fc2 = nn.Linear(200, num_classes)  # Duas saídas para as classes positiva e negativa\n",
        "        self.relu = nn.ReLU()\n",
        "\n",
        "    def forward(self, x):\n",
        "        o = self.fc1(x.float())\n",
        "        o = self.relu(o)\n",
        "        return self.fc2(o)"
      ]
    },
    {
      "cell_type": "code",
      "execution_count": null,
      "metadata": {
        "id": "XM28EFSa57xy",
        "outputId": "d5efd89b-e689-45aa-ac92-702b6f4478ee"
      },
      "outputs": [
        {
          "name": "stdout",
          "output_type": "stream",
          "text": [
            "loss 0.6964499950408936\n"
          ]
        }
      ],
      "source": [
        "# Suponha que você já tenha definido train_data, vocab_size e OneHotMLP\n",
        "\n",
        "train_loader = DataLoader(train_data,\n",
        "                          batch_size=128,\n",
        "                          shuffle=True,\n",
        "                          num_workers=0,\n",
        "                          pin_memory=True)\n",
        "\n",
        "# Instanciação do modelo\n",
        "model = OneHotMLPClasses(vocab_size,2)\n",
        "model = model.to(device)\n",
        "\n",
        "# Obtenha o primeiro batch do train_loader\n",
        "inputs, targets = next(iter(train_loader))\n",
        "\n",
        "# Mova os inputs e targets para o dispositivo onde o modelo está\n",
        "inputs = inputs.to(device)\n",
        "targets = targets.to(device)\n",
        "\n",
        "# Passe os inputs pelo modelo\n",
        "# Isso retorna os logits, que são os valores brutos de saída do modelo.\n",
        "# Como o modelo ainda não foi treinado, esses valores são inicialmente aleatórios.\n",
        "logits = model(inputs)\n",
        "\n",
        "# Calculate the softmax manually\n",
        "exp_logits = torch.exp(logits)\n",
        "sum_exp_logits = torch.sum(exp_logits, dim=1, keepdim=True)\n",
        "probabilities = exp_logits / sum_exp_logits\n",
        "\n",
        "\n",
        "#print(f'targets {targets}')\n",
        "#print(f'logits {logits}')\n",
        "#print(f'probabilities {probabilities}')\n",
        "\n",
        "\n",
        "# Calcule a entropia cruzada manualmente\n",
        "# A fórmula é: - (y * log(p) + (1 - y) * log(1 - p))\n",
        "# onde y é a classe real (0 ou 1) e p é a probabilidade prevista\n",
        "# loss = -(targets * torch.log(probabilities) + (1 - targets) * torch.log(1 - probabilities)).mean()\n",
        "\n",
        "\n",
        "\n",
        "# Convert targets to one-hot encoding\n",
        "targets_one_hot = torch.nn.functional.one_hot(targets)\n",
        "\n",
        "# Calculate the cross-entropy loss manually\n",
        "# torch.nn.functional.one_hot(targets) converte targets para a codificação one-hot.\n",
        "# A fórmula -(targets_one_hot * torch.log(probabilities)).sum() / targets.size(0)\n",
        "# calcula a entropia cruzada multiclasse, que é a soma negativa das probabilidades\n",
        "# logarítmicas previstas para as classes verdadeiras, dividida pelo número de amostras.\n",
        "\n",
        "# note que isso pressupõe que targets é um tensor de rótulos de classe e que probabilities\n",
        "# é um tensor de probabilidades previstas que soma 1 ao longo da dimensão das classes.\n",
        "loss = -(targets_one_hot * torch.log(probabilities)).sum() / targets.size(0)\n",
        "\n",
        "\n",
        "print(f'loss {loss.item()}')\n"
      ]
    },
    {
      "cell_type": "markdown",
      "metadata": {
        "id": "UeXQgzXh57xy"
      },
      "source": [
        "#### **V.3.b)** Modifique a camada de saída da rede para 2 logitos e utilize a função Softmax para converter os logitos em probabilidades. Repita o exercício V.1.b)\n",
        "\n"
      ]
    },
    {
      "cell_type": "code",
      "execution_count": null,
      "metadata": {
        "id": "FaLRAAnE57xy",
        "outputId": "819229ec-1d8e-4782-c1d0-e96f14525ecc"
      },
      "outputs": [
        {
          "name": "stdout",
          "output_type": "stream",
          "text": [
            "loss 0.6906419992446899\n"
          ]
        }
      ],
      "source": [
        "# Suponha que você já tenha definido train_data, vocab_size e OneHotMLP\n",
        "\n",
        "train_loader = DataLoader(train_data,\n",
        "                          batch_size=128,\n",
        "                          shuffle=True,\n",
        "                          num_workers=0,\n",
        "                          pin_memory=True)\n",
        "\n",
        "# Instanciação do modelo\n",
        "model = OneHotMLPClasses(vocab_size,2)\n",
        "model = model.to(device)\n",
        "\n",
        "# Obtenha o primeiro batch do train_loader\n",
        "inputs, targets = next(iter(train_loader))\n",
        "\n",
        "# Mova os inputs e targets para o dispositivo onde o modelo está\n",
        "inputs = inputs.to(device)\n",
        "targets = targets.to(device)\n",
        "\n",
        "# Passe os inputs pelo modelo\n",
        "# Isso retorna os logits, que são os valores brutos de saída do modelo.\n",
        "# Como o modelo ainda não foi treinado, esses valores são inicialmente aleatórios.\n",
        "logits = model(inputs)\n",
        "\n",
        "# A função softmax mapeia probabilidades\n",
        "probabilities = torch.softmax(logits, dim=1)\n",
        "\n",
        "#print(f'targets {targets}')\n",
        "#print(f'logits {logits}')\n",
        "#print(f'probabilities {probabilities}')\n",
        "\n",
        "\n",
        "# Calcule a entropia cruzada manualmente\n",
        "# A fórmula é: - (y * log(p) + (1 - y) * log(1 - p))\n",
        "# onde y é a classe real (0 ou 1) e p é a probabilidade prevista\n",
        "# loss = -(targets * torch.log(probabilities) + (1 - targets) * torch.log(1 - probabilities)).mean()\n",
        "\n",
        "\n",
        "\n",
        "# Convert targets to one-hot encoding\n",
        "targets_one_hot = torch.nn.functional.one_hot(targets)\n",
        "\n",
        "# Calculate the cross-entropy loss manually\n",
        "# torch.nn.functional.one_hot(targets) converte targets para a codificação one-hot.\n",
        "# A fórmula -(targets_one_hot * torch.log(probabilities)).sum() / targets.size(0)\n",
        "# calcula a entropia cruzada multiclasse, que é a soma negativa das probabilidades\n",
        "# logarítmicas previstas para as classes verdadeiras, dividida pelo número de amostras.\n",
        "\n",
        "# note que isso pressupõe que targets é um tensor de rótulos de classe e que probabilities\n",
        "# é um tensor de probabilidades previstas que soma 1 ao longo da dimensão das classes.\n",
        "loss = -(targets_one_hot * torch.log(probabilities)).sum() / targets.size(0)\n",
        "\n",
        "\n",
        "print(f'loss {loss.item()}')\n"
      ]
    },
    {
      "cell_type": "markdown",
      "metadata": {
        "id": "EAPIVu2757xy"
      },
      "source": [
        "#### **V.3.c)** Utilize agora a função nn.CrossEntropyLoss para calcular a Loss e verifique se os resultados são os mesmos que anteriormente.\n",
        "\n"
      ]
    },
    {
      "cell_type": "code",
      "execution_count": null,
      "metadata": {
        "id": "3veOw7Jh57xy",
        "outputId": "8f20890d-c136-43f1-b511-19a9993471d9"
      },
      "outputs": [
        {
          "name": "stdout",
          "output_type": "stream",
          "text": [
            "loss 0.6907879710197449\n"
          ]
        }
      ],
      "source": [
        "# Suponha que você já tenha definido train_data, vocab_size e OneHotMLP\n",
        "\n",
        "train_loader = DataLoader(train_data,\n",
        "                          batch_size=128,\n",
        "                          shuffle=True,\n",
        "                          num_workers=0,\n",
        "                          pin_memory=True)\n",
        "\n",
        "# Instanciação do modelo\n",
        "model = OneHotMLPClasses(vocab_size,2)\n",
        "model = model.to(device)\n",
        "\n",
        "# Obtenha o primeiro batch do train_loader\n",
        "inputs, targets = next(iter(train_loader))\n",
        "\n",
        "# Mova os inputs e targets para o dispositivo onde o modelo está\n",
        "inputs = inputs.to(device)\n",
        "targets = targets.to(device)\n",
        "\n",
        "# Passe os inputs pelo modelo\n",
        "# Isso retorna os logits, que são os valores brutos de saída do modelo.\n",
        "# Como o modelo ainda não foi treinado, esses valores são inicialmente aleatórios.\n",
        "logits = model(inputs)\n",
        "\n",
        "# A função softmax mapeia probabilidades\n",
        "probabilities = torch.softmax(logits, dim=1)\n",
        "\n",
        "# Instantiate the loss function\n",
        "criterion = nn.CrossEntropyLoss()\n",
        "\n",
        "# Calculate the loss\n",
        "loss = criterion(logits, targets)\n",
        "\n",
        "print(f'loss {loss.item()}')\n"
      ]
    },
    {
      "cell_type": "markdown",
      "metadata": {
        "id": "nDyp_3Gb57xz"
      },
      "source": [
        "#### **V.3.d)** Modifique as seções V e VI para que o notebook funcione com a saída da rede com 2 logitos. Há necessidade de alterar o laço de treinamento e o laço de cálculo da acurácia.\n",
        "\n"
      ]
    },
    {
      "cell_type": "code",
      "execution_count": null,
      "metadata": {
        "id": "nSaMtnHK57xz"
      },
      "outputs": [],
      "source": [
        "def evaluate(model, test_loader):\n",
        "    ## evaluation\n",
        "    model.eval()\n",
        "\n",
        "    with torch.no_grad():\n",
        "        correct = 0\n",
        "        total = 0\n",
        "        for inputs, labels in test_loader:\n",
        "            inputs = inputs.to(device)\n",
        "            labels = labels.to(device)\n",
        "            outputs = model(inputs)\n",
        "\n",
        "            if outputs.shape[1] == 1: # gera 1 logito\n",
        "                predicted = torch.round(torch.sigmoid(outputs)).view(-1)\n",
        "            else: # gera mais de um logito, um para cada classe\n",
        "                predicted = torch.argmax(outputs, dim=1).view(-1)\n",
        "            total += labels.size(0)\n",
        "            correct += (predicted == labels.view(-1)).sum().item()\n",
        "\n",
        "        test_accuracy = 100 * correct / total\n",
        "\n",
        "        return test_accuracy\n"
      ]
    },
    {
      "cell_type": "code",
      "execution_count": null,
      "metadata": {
        "id": "mZ-kS-nm57xz"
      },
      "outputs": [],
      "source": [
        "def validar_correcao_loss_esperada_xentropy(model, criterion, train_loader):\n",
        "\n",
        "    # Forward pass com o modelo inicializado\n",
        "    # Obtenha o primeiro batch do train_loader\n",
        "    inputs, targets = next(iter(train_loader))\n",
        "\n",
        "    # Mova os inputs e targets para o dispositivo onde o modelo está\n",
        "    inputs = inputs.to(device)\n",
        "    targets = targets.to(device).view(-1)\n",
        "\n",
        "    initial_outputs = model(inputs)  # Inputs devem ser do DataLoader de treinamento\n",
        "\n",
        "\n",
        "    if initial_outputs.shape[1] == 1: # gera 1 logito\n",
        "        loss = criterion(initial_outputs.view(-1), targets.view(-1).float())\n",
        "    else: # gera mais de um logito, um para cada classe\n",
        "        loss = criterion(nn.functional.softmax(initial_outputs, dim=1), targets)\n",
        "\n",
        "    # Valor esperado da Loss\n",
        "    valor_esperado = 0.6931\n",
        "\n",
        "    diff = abs(loss.item()-valor_esperado)\n",
        "    # Verifique se a Loss inicial está próxima do valor esperado\n",
        "    if diff < 0.01:  # Considerando igualdade até 2 casas decimais\n",
        "        print(f\"A Loss inicial de cross entropy {loss} está correta! Diferença de {diff:.4f} (arredondamentos)\")\n",
        "        return True\n",
        "    else:\n",
        "        print(f\"A Loss inicial de cross entropy não corresponde ao valor esperado. Valor atual: {loss.item():.4f}. Valor esperado para loss: {valor_esperado:.4f}. Diferença de {diff:.4f}\")\n",
        "        return False\n",
        "\n"
      ]
    },
    {
      "cell_type": "code",
      "execution_count": null,
      "metadata": {
        "id": "QSqldlYY57xz"
      },
      "outputs": [],
      "source": [
        "def train_model(model, criterion, optimizer, num_epochs, train_loader, test_loader, verbose:bool=True):\n",
        "\n",
        "    if validar_correcao_loss_esperada_xentropy(model, criterion, train_loader):\n",
        "        # Training loop\n",
        "        for epoch in range(num_epochs):\n",
        "            epoch_start_time = time.time()  # Start time of the epoch\n",
        "            model.train()\n",
        "            for cnt_batch, (inputs, labels) in enumerate(train_loader):\n",
        "                # print(f\"Batch {cnt+1}\")\n",
        "                # mover para gpu\n",
        "                inputs = inputs.to(device)\n",
        "                labels = labels.to(device)\n",
        "                # Forward pass\n",
        "                outputs = model(inputs)\n",
        "                if verbose and cnt_batch==0:\n",
        "                    # Verifique as dimensões dos tensores\n",
        "                    print(\"Dimensões dos outputs:\", outputs.shape)\n",
        "                    print(\"Dimensões dos labels:\", labels.shape)\n",
        "\n",
        "\n",
        "                if outputs.shape[1] == 1: # gera 1 logito\n",
        "                    loss = criterion(outputs.view(-1), labels.view(-1).float())\n",
        "                else:  # gera mais de um logito, um para cada classe\n",
        "                    loss = criterion(nn.functional.softmax(outputs, dim=1), labels)\n",
        "\n",
        "                # Backward and optimize\n",
        "                optimizer.zero_grad()\n",
        "                loss.backward()\n",
        "                optimizer.step()\n",
        "\n",
        "            epoch_duration = time.time() - epoch_start_time  # Duration of epoch\n",
        "\n",
        "            if verbose:\n",
        "                print(f'Epoch [{epoch+1}/{num_epochs}], \\\n",
        "                        Loss: {loss.item():.4f}, \\\n",
        "                        Elapsed Time: {epoch_duration:.2f} sec')\n",
        "\n",
        "        # Evaluate the model and record the test accuracy\n",
        "        test_accuracy = evaluate(model, test_loader)\n",
        "\n",
        "        return test_accuracy\n",
        "\n"
      ]
    },
    {
      "cell_type": "markdown",
      "metadata": {
        "id": "SjkYEH-o57xz"
      },
      "source": [
        "## **VI - Avaliação**\n"
      ]
    },
    {
      "cell_type": "markdown",
      "metadata": {
        "id": "6XBdEkHKAoa0"
      },
      "source": [
        "\n",
        "Observe que o módulo de avaliação utiliza o test_loader que foi carregado do dataset IMDB especialmente preparado para fazer a avaliação.\n",
        "\n"
      ]
    },
    {
      "cell_type": "markdown",
      "metadata": {
        "id": "GICsVyPj57xz"
      },
      "source": [
        "### **VI.1 Exercícios:**\n",
        "\n"
      ]
    },
    {
      "cell_type": "markdown",
      "metadata": {
        "id": "CqNN7BWS57xz"
      },
      "source": [
        "#### **VI.1.a)** Calcule o número de amostras que está sendo considerado na seção de avaliação.\n"
      ]
    },
    {
      "cell_type": "code",
      "execution_count": null,
      "metadata": {
        "id": "1ghFZ1MC57xz",
        "outputId": "3742c58e-5d0d-4e93-fb80-47524d9b625e"
      },
      "outputs": [
        {
          "name": "stdout",
          "output_type": "stream",
          "text": [
            "O total de amostras avaliadas em teste é: 25000 em 3125 batches\n"
          ]
        }
      ],
      "source": [
        "print(f'O total de amostras avaliadas em teste é: {len(test_loader.dataset)} em {len(test_loader)} batches')"
      ]
    },
    {
      "cell_type": "markdown",
      "metadata": {
        "id": "k8PZc_zl57x0"
      },
      "source": [
        "#### **VI.1.b)** Explique o que faz os comandos model.eval()e with torch.no_grad().\n"
      ]
    },
    {
      "cell_type": "markdown",
      "metadata": {
        "id": "WN0hMMT757x0"
      },
      "source": [
        "R.:\n",
        "\n",
        "1. **model.eval():** Quando você chama `model.eval()`, você está essencialmente definindo o modelo (nn.Module) para o modo de avaliação. Isso tem efeitos em certas camadas do seu modelo, como Dropout e BatchNorm, que se comportam de maneira diferente durante o treinamento e durante a avaliação. Por exemplo, durante o treinamento, a camada Dropout irá aleatoriamente zerar algumas das entradas, mas durante a avaliação (ou seja, quando o modelo está em modo `.eval()`), a camada Dropout não alterará suas entradas. Da mesma forma, a camada BatchNorm usará estatísticas de execução durante o treinamento, mas usará estatísticas acumuladas durante a avaliação. Embora o modelo possa não possuir essas camadas, há sempre a possibilidade de ele ser evoluído. Outra motivação é a legibilidade do código:  deixa claro para qualquer pessoa que esteja lendo o seu código que essa parte do código está fazendo a avaliação do modelo, não o treinamento. Tem também a compatibilidade com outras bibliotecas de aprendizado profundo ou funções do PyTorch que podem ser afetadas com essa informação do modelo.\n",
        "\n",
        "2. **with torch.no_grad():** Em PyTorch, cada operação em tensores que têm `requires_grad=True` irá criar um histórico de computação que permite calcular gradientes usando backpropagation. No entanto, durante a avaliação do modelo, você geralmente não precisa de gradientes, porque você não está atualizando os pesos do modelo. O uso de `with torch.no_grad():` desativa a criação desse histórico de computação, o que pode reduzir o uso de memória e acelerar os cálculos. Isso é especialmente útil durante a avaliação do modelo, quando você normalmente só precisa passar os dados através do modelo e calcular a perda ou as métricas de avaliação, sem precisar atualizar os pesos do modelo."
      ]
    },
    {
      "cell_type": "markdown",
      "metadata": {
        "id": "gMkrj9lY57x0"
      },
      "source": [
        "#### **VI.1.c)** Existe uma forma mais simples de calcular a classe predita na linha 11, sem a necessidade de usar a função torch.sigmoid?\n"
      ]
    },
    {
      "cell_type": "markdown",
      "metadata": {
        "id": "c_FEwsD357x0"
      },
      "source": [
        "**R.:**\n",
        "Sim, existe uma maneira mais simples de calcular a classe predita sem a necessidade de usar a função torch.sigmoid. A função torch.sigmoid é usada para mapear os valores de saída do modelo para o intervalo entre 0 e 1, que pode ser interpretado como a probabilidade da classe positiva. No entanto, se você está apenas interessado na classe predita e não na probabilidade, você pode simplesmente usar a função torch.round diretamente nos valores de saída do modelo.\n",
        "\n",
        "Aqui está como você pode fazer isso:\n",
        "\n",
        "```python\n",
        "        predicted = torch.round(outputs).view(-1)\n",
        "```\n",
        "\n",
        "Neste caso, os valores de saída do modelo que são maiores que 0 serão arredondados para 1 (classe positiva) e os valores que são menores ou iguais a 0 serão arredondados para 0 (classe negativa).\n",
        "\n",
        "No entanto, é importante notar que esta abordagem só é válida se você estiver usando uma função de perda que já inclua a função sigmoid, como a Binary Cross-Entropy with Logits Loss (BCEWithLogitsLoss) no PyTorch. Se você estiver usando uma função de perda que não inclui a função sigmoid, como a Binary Cross-Entropy Loss (BCELoss), você ainda precisará aplicar a função sigmoid aos valores de saída do modelo antes de arredondá-los."
      ]
    },
    {
      "cell_type": "markdown",
      "metadata": {
        "id": "10pqRzGM57x0"
      },
      "source": [
        "### **VI.2 Exercícios:**\n"
      ]
    },
    {
      "cell_type": "markdown",
      "metadata": {
        "id": "iah3eYrs57x0"
      },
      "source": [
        "\n",
        "Perplexidade como métrica de avaliação\n",
        "\n",
        "Em teoria da informação, a perplexidade (PPL) é dada por\n",
        "\n",
        "\n",
        "$\n",
        "PPL = e^{CE}\n",
        "$\n",
        "\n",
        "onde CE é a Cross Entropy, que utilizamos na Loss do treinamento. A base e utilizada para a exponenciação deve ser compatível com a base utilizado no logaritmo da cross entropia. Como utilizamos logaritmo natural para a entropia cruzada, devemos aqui usar o e. Se a entropia cruzada usasse a base 2, a perplexidade seria 2 elevado à entropia cruzada.\n",
        "\n",
        "Eu, particularmente gosto de usar a perplexidade em vez de usar a entropia cruzada pelo motivo que ficará explícito nos exercícios a seguir:\n",
        "\n"
      ]
    },
    {
      "cell_type": "markdown",
      "metadata": {
        "id": "q1djgwYO57x0"
      },
      "source": [
        "#### **VI.2.a)** Utilizando a resposta do exercício V.1.a, que é a Loss teórica de um modelo aleatório de 2 classes, qual é o valor da perplexidade?\n"
      ]
    },
    {
      "cell_type": "markdown",
      "metadata": {},
      "source": [
        "O Valor é 2"
      ]
    },
    {
      "cell_type": "code",
      "execution_count": null,
      "metadata": {
        "id": "FUpFJbSG57x0",
        "outputId": "e606e4e3-879e-45bb-90a8-e35b701b50fc"
      },
      "outputs": [
        {
          "data": {
            "text/plain": [
              "0.6931471805599453"
            ]
          },
          "execution_count": 469,
          "metadata": {},
          "output_type": "execute_result"
        }
      ],
      "source": [
        "np.log(2)"
      ]
    },
    {
      "cell_type": "code",
      "execution_count": null,
      "metadata": {
        "id": "aN3sJTsx57x0",
        "outputId": "aabf744e-d1b3-4ef6-d2f8-468de9f95040"
      },
      "outputs": [
        {
          "name": "stdout",
          "output_type": "stream",
          "text": [
            "O valor é 2.0\n"
          ]
        }
      ],
      "source": [
        "print(f'O valor é {round(math.e**np.log(2),3)}')"
      ]
    },
    {
      "cell_type": "markdown",
      "metadata": {
        "id": "15kto-k857x0"
      },
      "source": [
        "#### **VI.2.b)** E se o modelo agora fosse para classificar a amostra em N classes, qual seria o valor da perplexidade para o caso aleatório?\n"
      ]
    },
    {
      "cell_type": "markdown",
      "metadata": {
        "id": "_2IlJJV257x1"
      },
      "source": [
        "**R.:**\n",
        "Seria N.\n",
        "\n",
        "A perplexidade é uma medida comumente usada para avaliar modelos de linguagem. Ela é definida como a potência inversa da probabilidade média do modelo de prever a classe correta. Em outras palavras, a perplexidade de um modelo é o número de escolhas igualmente prováveis que ele efetivamente tem ao fazer uma previsão.\n",
        "\n",
        "Se um modelo está fazendo previsões aleatórias para um problema de classificação com N classes, então a probabilidade de prever a classe correta para qualquer amostra é 1/N. Portanto, a perplexidade para o caso aleatório seria N.\n",
        "\n",
        "Aqui está a justificativa matemática para isso:\n",
        "\n",
        "A perplexidade (PPL) é definida como a exponencial da entropia cruzada (CE), que é uma medida da diferença entre duas distribuições de probabilidade. A fórmula da perplexidade é:\n",
        "\n",
        "$PPL = e^{CE}$\n",
        "\n",
        "A entropia cruzada para o caso aleatório é:\n",
        "\n",
        "${CE} = - ∑ (1/N) log (1/N) = log N$\n",
        "\n",
        "Portanto, a perplexidade para o caso aleatório é:\n",
        "\n",
        "$PPL = e^{log N} = N$\n",
        "\n",
        "Isso significa que, para um modelo que faz previsões aleatórias para um problema de classificação com N classes, a perplexidade é N. Em outras palavras, o modelo tem efetivamente N escolhas igualmente prováveis ao fazer uma previsão."
      ]
    },
    {
      "cell_type": "markdown",
      "metadata": {
        "id": "Vd4N2g5T57x1"
      },
      "source": [
        "#### **VI.2.c)** Qual é o valor da perplexidade quando o modelo acerta todas as classes com 100% de probabilidade?\n",
        "\n",
        "Se você respondeu corretamente as 3 questões acima, já é possível entender que a perplexidade é muito mais fácil de entender o seu significado do que o valor da Loss como entropia cruzada.\n",
        "\n"
      ]
    },
    {
      "cell_type": "markdown",
      "metadata": {
        "id": "rb_8OdTW57x1"
      },
      "source": [
        "**R.:**\n",
        "Se um modelo de classificação é capaz de prever a classe correta para todas as amostras com 100% de probabilidade, então a perplexidade do modelo é 1.\n",
        "\n",
        "Aqui está a justificativa matemática.\n",
        "\n",
        "Se o modelo está prevendo a classe correta com 100% de probabilidade, então a distribuição de probabilidade prevista pelo modelo é a mesma que a distribuição de probabilidade verdadeira. Nesse caso, a entropia cruzada é 0, porque a entropia cruzada é mínima quando as duas distribuições p(x) e q(x) (calculada pelo modelo) são iguais.\n",
        "\n",
        "A entropia cruzada é definida como:\n",
        "\n",
        "${CE(p,q)} =  - ∑ p(x) log (q(x))$\n",
        "\n",
        "Nesse caso, para a classe correta, temos p(x) = 1 e q(x) = 1. Portanto, o termo correspondente na soma da entropia cruzada é -1 * log(1) = 0, porque o logaritmo de 1 é 0. Para todas as outras classes, temos p(x) = 0. Portanto, os termos correspondentes na soma da entropia cruzada são 0 * log(q(x)) = 0, porque qualquer número multiplicado por 0 é 0. Portanto, a entropia cruzada é a soma de muitos termos 0, o que resulta em 0.\n",
        "\n",
        "\n",
        "Portanto, a perplexidade quando o modelo acerta todas as classes com 100% de probabilidade é:\n",
        "\n",
        "$PPL = {CE}^0 = 1$\n",
        "\n",
        "Isso significa que, para um modelo perfeito que acerta todas as classes com 100% de probabilidade, a perplexidade é 1. Em outras palavras, o modelo tem efetivamente uma única escolha ao fazer uma previsão."
      ]
    },
    {
      "cell_type": "markdown",
      "metadata": {
        "id": "3i1AZivK57x1"
      },
      "source": [
        "### **VI.3 Exercícios:**\n"
      ]
    },
    {
      "cell_type": "markdown",
      "metadata": {
        "id": "7vQ69izw57x1"
      },
      "source": [
        "#### **VI.3.a)** Modifique o código da seção VI - Avaliação, para que além de calcular a acurácia, calcule também a perplexidade. lembrar que PPL = torch.exp(CE). Assim, será necessário calcular a entropia cruzada, como feito no laço de treinamento.\n"
      ]
    },
    {
      "cell_type": "code",
      "execution_count": null,
      "metadata": {
        "id": "Q1f1NSFD57x1"
      },
      "outputs": [],
      "source": [
        "def evaluate(model, test_loader, criterion):\n",
        "    ## evaluation\n",
        "    model.eval()\n",
        "\n",
        "    with torch.no_grad():\n",
        "        correct = 0\n",
        "        total = len(test_loader.dataset)\n",
        "        total_loss = 0\n",
        "        for inputs, labels in test_loader:\n",
        "            inputs = inputs.to(device)\n",
        "            labels = labels.to(device)\n",
        "            outputs = model(inputs)\n",
        "\n",
        "            if outputs.shape[1] == 1: # gera 1 logito\n",
        "                predicted = torch.round(torch.sigmoid(outputs)).view(-1)\n",
        "                loss = criterion(outputs.view(-1), labels.view(-1).float())\n",
        "            else: # gera mais de um logito, um para cada classe\n",
        "                predicted = torch.argmax(outputs, dim=1).view(-1)\n",
        "                loss = criterion(nn.functional.softmax(outputs, dim=1), labels)\n",
        "            total_loss += loss.item()\n",
        "            correct += (predicted == labels.view(-1)).sum().item()\n",
        "\n",
        "        test_accuracy = 100 * correct / total\n",
        "        test_loss = total_loss / len(test_loader)\n",
        "        test_perplexity = torch.exp(torch.tensor(test_loss))\n",
        "        return test_accuracy, test_perplexity\n"
      ]
    },
    {
      "cell_type": "markdown",
      "metadata": {
        "id": "LNNaOO-t57x1"
      },
      "source": [
        "### **VI.4 Último exercício:**\n"
      ]
    },
    {
      "cell_type": "markdown",
      "metadata": {
        "id": "AgIGxKDn57x1"
      },
      "source": [
        "\n",
        "Observando Overfitting\n",
        "\n",
        "Dizemos que o treinamento está overfitting quando treina-se tanto nas mesmas amostras, de modo quase a decorá-lo e quando o modelo fizer a predição em um outro conjunto de amostras, ele não consegue \"generalizar\" o conhecimento aprendido no treinamento. Uma forma de detectar se o treinamento está entrando no overfitting é calcular, durante o laço de treinamento, tanto a loss de minimização no conjunto de treino, porém ao final de cada época, calcular a loss ou alguma métrica relacionada ao conjunto de teste ou validação.\n",
        "\n"
      ]
    },
    {
      "cell_type": "markdown",
      "metadata": {
        "id": "6QheEgmB57x1"
      },
      "source": [
        "#### **VI.4.a)** Modifique o laço de treinamento\n",
        "\n",
        " para incorporar também o cálculo da avaliação ao final de cada época. Aproveite para reportar também a perplexidade, tanto do treinamento como da avaliação (observe que será mais fácil de interpretar). Essa é a forma usual de se fazer o treinamento, monitorando se o modelo não entra em overfitting. Por fim, como o dataset tem muitas amostras, ele é demorado de entrar em overfitting. Para ficar mais evidente, diminua novamente o número de amostras do dataset de treino de 25 mil para 1 mil amostras e aumente o número de épocas para ilustrar o caso do overfitting, em que a perplexidade de treinamento continua caindo, porém a perplexidade no conjunto de teste começa a aumentar.\n",
        "\n",
        "\n"
      ]
    },
    {
      "cell_type": "code",
      "execution_count": null,
      "metadata": {
        "id": "gFRs45bd57x2"
      },
      "outputs": [],
      "source": [
        "def train_model(model, criterion, optimizer, num_epochs, train_loader, test_loader, verbose:bool=True):\n",
        "\n",
        "    if validar_correcao_loss_esperada_xentropy(model, criterion, train_loader):\n",
        "        # Training loop\n",
        "        total_data = len(train_loader.dataset)\n",
        "        results = []\n",
        "\n",
        "        for cnt_epoch, epoch in enumerate(range(num_epochs)):\n",
        "            epoch_start_time = time.time()  # Start time of the epoch\n",
        "            model.train()\n",
        "\n",
        "            total_loss = 0\n",
        "            correct = 0\n",
        "\n",
        "            for cnt_batch, (inputs, labels) in enumerate(train_loader):\n",
        "                # print(f\"Batch {cnt+1}\")\n",
        "                # mover para gpu\n",
        "                inputs = inputs.to(device)\n",
        "                labels = labels.to(device)\n",
        "                # Forward pass\n",
        "                outputs = model(inputs)\n",
        "                if verbose and cnt_epoch == 0 and cnt_batch==0:\n",
        "                    # Verifique as dimensões dos tensores\n",
        "                    print(\"Dimensões dos outputs:\", outputs.shape)\n",
        "                    print(\"Dimensões dos labels:\", labels.shape)\n",
        "\n",
        "\n",
        "\n",
        "                if outputs.shape[1] == 1: # gera 1 logito\n",
        "                    predicted = torch.round(torch.sigmoid(outputs)).view(-1)\n",
        "                    loss = criterion(outputs.view(-1), labels.view(-1).float())\n",
        "                else: # gera mais de um logito, um para cada classe\n",
        "                    predicted = torch.argmax(outputs, dim=1).view(-1)\n",
        "                    loss = criterion(nn.functional.softmax(outputs, dim=1), labels)\n",
        "\n",
        "                # Backward and optimize\n",
        "                optimizer.zero_grad()\n",
        "                loss.backward()\n",
        "                optimizer.step()\n",
        "\n",
        "\n",
        "                # acumulando por batch\n",
        "                total_loss += loss.item()\n",
        "                correct += (predicted == labels.view(-1)).sum().item()\n",
        "\n",
        "\n",
        "            epoch_train_accuracy = 100 * correct / total_data\n",
        "            epoch_train_loss = total_loss / len(train_loader)\n",
        "            epoch_train_perplexity = torch.exp(torch.tensor(epoch_train_loss))\n",
        "\n",
        "\n",
        "            epoch_duration = time.time() - epoch_start_time  # Duration of epoch\n",
        "\n",
        "            # Evaluate the model and record the test accuracy\n",
        "            test_accuracy, test_perplexity = evaluate(model, test_loader, criterion)\n",
        "\n",
        "            if verbose:\n",
        "                print(f'Epoch [{epoch+1}/{num_epochs}], '\n",
        "                        f'train loss: {loss.item():.4f}, '\n",
        "                        f'train accuracy: {epoch_train_accuracy:.4f}, '\n",
        "                        f'train perplexity: {epoch_train_perplexity.item():.4f}, '\n",
        "                        f'test accuracy: {test_accuracy:.4f}, '\n",
        "                        f'test perplexity: {test_perplexity.item():.4f}, '\n",
        "                        f'Elapsed Time: {epoch_duration:.2f} sec')\n",
        "\n",
        "\n",
        "\n",
        "            # Adicionar os resultados da época à lista de resultados\n",
        "            results.append({\n",
        "                'epoch': epoch + 1,\n",
        "                'train_accuracy': epoch_train_accuracy,\n",
        "                'train_loss': epoch_train_loss,\n",
        "                'train_perplexity': epoch_train_perplexity.item(),\n",
        "                'test_accuracy': test_accuracy,\n",
        "                'test_perplexity': test_perplexity.item()\n",
        "            })\n",
        "\n",
        "        return results\n",
        "\n"
      ]
    },
    {
      "cell_type": "code",
      "execution_count": null,
      "metadata": {
        "id": "UXxM0uH757x2"
      },
      "outputs": [],
      "source": [
        "def print_train_results(train_results,metric_name):\n",
        "    # Extrair os valores de test_accuracy e train_accuracy\n",
        "    epochs = [result['epoch'] for result in train_results]\n",
        "\n",
        "    test_accuracies = [result['test_'+metric_name] for result in train_results]\n",
        "    train_accuracies = [result['train_'+metric_name] for result in train_results]\n",
        "\n",
        "    # Criar o gráfico\n",
        "    plt.figure(figsize=(10, 5))\n",
        "    plt.plot(epochs, test_accuracies, label='Test '+metric_name)\n",
        "    plt.plot(epochs, train_accuracies, label='Train '+metric_name)\n",
        "    plt.xlabel('Epoch')\n",
        "    plt.ylabel(metric_name.capitalize())\n",
        "    plt.title(metric_name.capitalize() + ' Test vs Train ')\n",
        "    plt.legend()\n",
        "    plt.grid(True)\n",
        "    plt.show()"
      ]
    },
    {
      "cell_type": "code",
      "execution_count": null,
      "metadata": {
        "id": "Cmz_cOp357x2",
        "outputId": "95fe15c3-6f1e-413b-e266-c65da18891ea"
      },
      "outputs": [
        {
          "name": "stdout",
          "output_type": "stream",
          "text": [
            "test_loader tem 1563 batches\n",
            "train_loader tem 1563 batches\n"
          ]
        }
      ],
      "source": [
        "test_loader = DataLoader(test_data,\n",
        "                          batch_size= 16,\n",
        "                          shuffle=False,\n",
        "                          num_workers=0,\n",
        "                          pin_memory=True)\n",
        "print(f\"test_loader tem {len(test_loader)} batches\")\n",
        "\n",
        "train_loader = DataLoader(train_data,\n",
        "                        batch_size= 16,\n",
        "                        shuffle=True,\n",
        "                        num_workers=0,\n",
        "                        pin_memory=True)\n",
        "print(f\"train_loader tem {len(train_loader)} batches\")\n"
      ]
    },
    {
      "cell_type": "code",
      "execution_count": null,
      "metadata": {
        "id": "HCZqQ2CX57x2",
        "outputId": "2412b5cd-0765-4f34-a710-79bef86629e7"
      },
      "outputs": [
        {
          "name": "stdout",
          "output_type": "stream",
          "text": [
            "A Loss inicial de cross entropy 0.6915335059165955 está correta! Diferença de 0.0016 (arredondamentos)\n",
            "Dimensões dos outputs: torch.Size([16, 1])\n",
            "Dimensões dos labels: torch.Size([16])\n",
            "Epoch [1/20], train loss: 0.3140, train accuracy: 77.5600, train perplexity: 1.7316, test accuracy: 84.1800, test perplexity: 1.4926, Elapsed Time: 3.09 sec\n",
            "Epoch [2/20], train loss: 0.2274, train accuracy: 86.3000, train perplexity: 1.4073, test accuracy: 86.7920, test perplexity: 1.3809, Elapsed Time: 3.07 sec\n",
            "Epoch [3/20], train loss: 0.2168, train accuracy: 88.7560, train perplexity: 1.3252, test accuracy: 87.8480, test perplexity: 1.3474, Elapsed Time: 3.02 sec\n",
            "Epoch [4/20], train loss: 0.2547, train accuracy: 90.3520, train perplexity: 1.2820, test accuracy: 88.3000, test perplexity: 1.3336, Elapsed Time: 2.98 sec\n",
            "Epoch [5/20], train loss: 0.2032, train accuracy: 91.5680, train perplexity: 1.2515, test accuracy: 88.2560, test perplexity: 1.3318, Elapsed Time: 3.03 sec\n",
            "Epoch [6/20], train loss: 0.0511, train accuracy: 92.3200, train perplexity: 1.2266, test accuracy: 88.3680, test perplexity: 1.3325, Elapsed Time: 3.02 sec\n",
            "Epoch [7/20], train loss: 0.1377, train accuracy: 93.0640, train perplexity: 1.2078, test accuracy: 88.1040, test perplexity: 1.3390, Elapsed Time: 3.02 sec\n",
            "Epoch [8/20], train loss: 0.1034, train accuracy: 93.6640, train perplexity: 1.1893, test accuracy: 88.2120, test perplexity: 1.3383, Elapsed Time: 3.06 sec\n",
            "Epoch [9/20], train loss: 0.0838, train accuracy: 94.1320, train perplexity: 1.1759, test accuracy: 88.0320, test perplexity: 1.3466, Elapsed Time: 3.09 sec\n",
            "Epoch [10/20], train loss: 0.0174, train accuracy: 94.6920, train perplexity: 1.1606, test accuracy: 87.5320, test perplexity: 1.3669, Elapsed Time: 3.08 sec\n",
            "Epoch [11/20], train loss: 0.0737, train accuracy: 95.1320, train perplexity: 1.1488, test accuracy: 87.7000, test perplexity: 1.3698, Elapsed Time: 3.03 sec\n",
            "Epoch [12/20], train loss: 0.1002, train accuracy: 95.5160, train perplexity: 1.1382, test accuracy: 87.8800, test perplexity: 1.3704, Elapsed Time: 2.99 sec\n",
            "Epoch [13/20], train loss: 0.0756, train accuracy: 96.0360, train perplexity: 1.1277, test accuracy: 87.6920, test perplexity: 1.3853, Elapsed Time: 3.08 sec\n",
            "Epoch [14/20], train loss: 0.0048, train accuracy: 96.2960, train perplexity: 1.1195, test accuracy: 87.5440, test perplexity: 1.3927, Elapsed Time: 3.03 sec\n",
            "Epoch [15/20], train loss: 0.2453, train accuracy: 96.5840, train perplexity: 1.1104, test accuracy: 86.3800, test perplexity: 1.4538, Elapsed Time: 3.12 sec\n",
            "Epoch [16/20], train loss: 0.0604, train accuracy: 97.0560, train perplexity: 1.1023, test accuracy: 87.3800, test perplexity: 1.4170, Elapsed Time: 3.13 sec\n",
            "Epoch [17/20], train loss: 0.2016, train accuracy: 97.2680, train perplexity: 1.0954, test accuracy: 86.7600, test perplexity: 1.4509, Elapsed Time: 3.07 sec\n",
            "Epoch [18/20], train loss: 0.0362, train accuracy: 97.5840, train perplexity: 1.0886, test accuracy: 87.2040, test perplexity: 1.4394, Elapsed Time: 3.08 sec\n",
            "Epoch [19/20], train loss: 0.0167, train accuracy: 97.8520, train perplexity: 1.0828, test accuracy: 87.2840, test perplexity: 1.4507, Elapsed Time: 2.99 sec\n",
            "Epoch [20/20], train loss: 0.0672, train accuracy: 98.0480, train perplexity: 1.0766, test accuracy: 87.0800, test perplexity: 1.4590, Elapsed Time: 3.07 sec\n"
          ]
        }
      ],
      "source": [
        "# Model instantiation\n",
        "model = OneHotMLP(vocab_size)\n",
        "model = model.to(device)\n",
        "criterion = nn.BCEWithLogitsLoss()\n",
        "optimizer = optim.SGD(model.parameters(), lr=0.01)\n",
        "train_results = train_model(model, criterion, optimizer, 20, train_loader, test_loader, verbose=True)\n"
      ]
    },
    {
      "cell_type": "code",
      "execution_count": null,
      "metadata": {
        "id": "jO11R7hU57x2",
        "outputId": "2ea04816-a16f-444f-f756-52235604866c"
      },
      "outputs": [
        {
          "data": {
            "image/png": "[encoded data removed]",
            "text/plain": [
              "<Figure size 1000x500 with 1 Axes>"
            ]
          },
          "metadata": {},
          "output_type": "display_data"
        }
      ],
      "source": [
        "print_train_results(train_results,'accuracy')"
      ]
    },
    {
      "cell_type": "code",
      "execution_count": null,
      "metadata": {
        "id": "Fz8B5wRt57x2",
        "outputId": "4829dbaf-b9ab-424b-e182-638f52c72bea"
      },
      "outputs": [
        {
          "data": {
            "image/png": "[encoded data removed]",
            "text/plain": [
              "<Figure size 1000x500 with 1 Axes>"
            ]
          },
          "metadata": {},
          "output_type": "display_data"
        }
      ],
      "source": [
        "print_train_results(train_results,'perplexity')"
      ]
    },
    {
      "cell_type": "markdown",
      "metadata": {
        "id": "4_0UlVIq57x2"
      },
      "source": [
        "Experimentando o código com o modelo que gera 2 classes (para validação do código e vizualização do overfitting nesse caso também). Com 'verbose=False\" para não imprimir os valores durante o treinamento."
      ]
    },
    {
      "cell_type": "code",
      "execution_count": null,
      "metadata": {
        "id": "snwVXqGM57x3",
        "outputId": "797b2619-d098-4bc6-db07-a1b1ebfee770"
      },
      "outputs": [
        {
          "name": "stdout",
          "output_type": "stream",
          "text": [
            "A Loss inicial de cross entropy 0.6912642121315002 está correta! Diferença de 0.0018 (arredondamentos)\n"
          ]
        }
      ],
      "source": [
        "\n",
        "model = OneHotMLPClasses(vocab_size,2)\n",
        "model = model.to(device)\n",
        "criterion = nn.CrossEntropyLoss()\n",
        "optimizer = optim.SGD(model.parameters(), lr=0.01)\n",
        "train_results = train_model(model, criterion, optimizer, 20, train_loader, test_loader, verbose=False)\n"
      ]
    },
    {
      "cell_type": "code",
      "execution_count": null,
      "metadata": {
        "id": "F1oBSVE257x3",
        "outputId": "b0d9bfd5-fdce-4e88-b7cb-3f06827c20fb"
      },
      "outputs": [
        {
          "data": {
            "image/png": "[encoded data removed]",
            "text/plain": [
              "<Figure size 1000x500 with 1 Axes>"
            ]
          },
          "metadata": {},
          "output_type": "display_data"
        }
      ],
      "source": [
        "print_train_results(train_results,'accuracy')"
      ]
    },
    {
      "cell_type": "code",
      "execution_count": null,
      "metadata": {
        "id": "8aEqQpWz57x3",
        "outputId": "e587d233-eca4-4599-81a4-8a8ac78e613d"
      },
      "outputs": [
        {
          "data": {
            "image/png": "[encoded data removed]",
            "text/plain": [
              "<Figure size 1000x500 with 1 Axes>"
            ]
          },
          "metadata": {},
          "output_type": "display_data"
        }
      ],
      "source": [
        "print_train_results(train_results,'perplexity')"
      ]
    },
    {
      "cell_type": "markdown",
      "metadata": {
        "id": "tEKnQAYa57x3"
      },
      "source": [
        "**Visualizando o overfit**"
      ]
    },
    {
      "cell_type": "markdown",
      "metadata": {
        "id": "fpvekSs057x3"
      },
      "source": [
        "Uma forma de validar o modelo é ver se ele está diminuindo a loss para um batch apenas.\n",
        "Se considerarmos como teste todos os dados, o overfit será logo percebido.\n"
      ]
    },
    {
      "cell_type": "code",
      "execution_count": null,
      "metadata": {
        "id": "azvkfav857x3"
      },
      "outputs": [],
      "source": [
        "def create_dataloader_getting_records(data_loader, num_records):\n",
        "    \"\"\"\n",
        "    Retorna um novo DataLoader que contém apenas os primeiros num_records de data_loader.dataset\n",
        "    \"\"\"\n",
        "    # Cria um subconjunto do conjunto de dados original\n",
        "    subset = Subset(data_loader.dataset, indices=range(num_records))\n",
        "\n",
        "    # Cria um novo DataLoader a partir do subconjunto\n",
        "    new_data_loader = DataLoader(subset, batch_size=data_loader.batch_size, shuffle=False)\n",
        "\n",
        "    return new_data_loader\n"
      ]
    },
    {
      "cell_type": "code",
      "execution_count": null,
      "metadata": {
        "id": "xwZ11IDi57x3"
      },
      "outputs": [],
      "source": [
        "train_loader_1000 = create_dataloader_getting_records(train_loader,1000)"
      ]
    },
    {
      "cell_type": "code",
      "execution_count": null,
      "metadata": {
        "id": "L_Gpa-JB57x3",
        "outputId": "c75bd578-da31-4b9f-f61b-a2224e772514"
      },
      "outputs": [
        {
          "name": "stdout",
          "output_type": "stream",
          "text": [
            "train_loader_1000 tem 63 batches e 1000 records\n"
          ]
        }
      ],
      "source": [
        "print(f'train_loader_1000 tem {len(train_loader_1000)} batches e {len(train_loader_1000.dataset)} records')"
      ]
    },
    {
      "cell_type": "code",
      "execution_count": null,
      "metadata": {
        "id": "mO6pT84l57x3",
        "outputId": "47f1760f-6766-472f-fe5c-206071a88326"
      },
      "outputs": [
        {
          "name": "stdout",
          "output_type": "stream",
          "text": [
            "A Loss inicial de cross entropy 0.6932174563407898 está correta! Diferença de 0.0001 (arredondamentos)\n",
            "Dimensões dos outputs: torch.Size([16, 2])\n",
            "Dimensões dos labels: torch.Size([16])\n",
            "Epoch [1/10], train loss: 0.4418, train accuracy: 98.5000, train perplexity: 1.7234, test accuracy: 50.0000, test perplexity: 2.0923, Elapsed Time: 0.11 sec\n",
            "Epoch [2/10], train loss: 0.3635, train accuracy: 100.0000, train perplexity: 1.4644, test accuracy: 50.0000, test perplexity: 2.1747, Elapsed Time: 0.11 sec\n",
            "Epoch [3/10], train loss: 0.3410, train accuracy: 100.0000, train perplexity: 1.4110, test accuracy: 50.0000, test perplexity: 2.2057, Elapsed Time: 0.11 sec\n",
            "Epoch [4/10], train loss: 0.3315, train accuracy: 100.0000, train perplexity: 1.3940, test accuracy: 50.0000, test perplexity: 2.2203, Elapsed Time: 0.11 sec\n",
            "Epoch [5/10], train loss: 0.3265, train accuracy: 100.0000, train perplexity: 1.3863, test accuracy: 50.0000, test perplexity: 2.2286, Elapsed Time: 0.11 sec\n",
            "Epoch [6/10], train loss: 0.3235, train accuracy: 100.0000, train perplexity: 1.3819, test accuracy: 50.0000, test perplexity: 2.2338, Elapsed Time: 0.11 sec\n",
            "Epoch [7/10], train loss: 0.3215, train accuracy: 100.0000, train perplexity: 1.3792, test accuracy: 50.0000, test perplexity: 2.2373, Elapsed Time: 0.11 sec\n",
            "Epoch [8/10], train loss: 0.3201, train accuracy: 100.0000, train perplexity: 1.3773, test accuracy: 50.0000, test perplexity: 2.2399, Elapsed Time: 0.11 sec\n",
            "Epoch [9/10], train loss: 0.3191, train accuracy: 100.0000, train perplexity: 1.3759, test accuracy: 50.0000, test perplexity: 2.2419, Elapsed Time: 0.11 sec\n",
            "Epoch [10/10], train loss: 0.3183, train accuracy: 100.0000, train perplexity: 1.3749, test accuracy: 50.0000, test perplexity: 2.2434, Elapsed Time: 0.13 sec\n"
          ]
        }
      ],
      "source": [
        "model = OneHotMLPClasses(vocab_size,2)\n",
        "model = model.to(device)\n",
        "criterion = nn.CrossEntropyLoss()\n",
        "optimizer = optim.SGD(model.parameters(), lr=0.01)\n",
        "train_results = train_model(model, criterion, optimizer, 10, train_loader_1000, test_loader, verbose=True)\n"
      ]
    },
    {
      "cell_type": "code",
      "execution_count": null,
      "metadata": {
        "id": "t_y7j-Br57x4",
        "outputId": "17f46267-ef4b-41aa-997b-84aa9ed70d73"
      },
      "outputs": [
        {
          "data": {
            "image/png": "[encoded data removed]",
            "text/plain": [
              "<Figure size 1000x500 with 1 Axes>"
            ]
          },
          "metadata": {},
          "output_type": "display_data"
        }
      ],
      "source": [
        "print_train_results(train_results,'accuracy')"
      ]
    },
    {
      "cell_type": "code",
      "execution_count": null,
      "metadata": {
        "id": "J6clll1_57x4",
        "outputId": "b6c37ca5-f464-4dc9-f7d8-89032d3f74e5"
      },
      "outputs": [
        {
          "data": {
            "image/png": "[encoded data removed]",
            "text/plain": [
              "<Figure size 1000x500 with 1 Axes>"
            ]
          },
          "metadata": {},
          "output_type": "display_data"
        }
      ],
      "source": [
        "print_train_results(train_results,'perplexity')"
      ]
    },
    {
      "cell_type": "markdown",
      "metadata": {
        "id": "NdqqHZ2C57x4"
      },
      "source": [
        "Pelos gráficos, percebe-se que o modelo está aprendendo (métricas melhoram nos dados de treinamento), mas está \"overfitando\". Ele está como que se especializando nos dados de treinamento. E como os dados de teste são genéricos, ele não alcança bons reultados em teste."
      ]
    },
    {
      "cell_type": "markdown",
      "metadata": {
        "id": "Q9mcnHlw57x4"
      },
      "source": [
        "## **Comentários finais:**\n",
        "Se você conseguiu chegar até aqui, fazendo todos os exercícios, parabéns. Espero que você tenha aprendido vários conceitos importantes de treinamento de redes neurais. O valioso é que tudo o que foi visto aqui é válido tanto para modelos de alguns milhares de parâmetros como visto aqui até os modelos LLM da ordem de bilhões de parâmetros.\n",
        "Dominar técnicas de treinamento de modelos deep learning é possível apenas com muita experiência de programação e conceitos sólidos da teoria, que não é muita. É a teoria de minimização de funções pelo método do gradiente descendente. Ficou faltando entender como o gradiente é calculado, que é algo que o pytorch e outros ambientes similares conseguiram simplificar e deixá-lo quase imperceptível para o programador.\n",
        "Espero que você tenha aprendido com esses exercícios. Eles são uma amostra do que estudaremos e da forma como estudaremos no curso IA-024.\n",
        "Existem vários conceitos muito importantes que não tratamos aqui. Conceito de embedding,\n",
        "Nesse curso não aceitamos alunos ouvintes, apenas alunos comprometidos com os exercícios e o aprendizado colaborativo com os colegas. Assim, a participação de todos será fundamental para o sucesso do curso.\n",
        "\n",
        "Formas da Entrega\n",
        "\n",
        "Os exercícios devem ser entregues em arquivo PDF junto com um notebook com a versão final do código, comentada e com um desempenho bem melhor, ainda utilizando a mesma técnica (BagOfWords) e rede neural de 2 camadas e mesmo número de neurônios.\n",
        "\n",
        "Os links do arquivo PDF e do Google colab notebook deve ser entregues neste formulário: https://forms.gle/xAGtt55fYpHW23eZA  \n",
        "Entregue a versão final do Google colab, contendo as modificações sugeridas ao longo dos exercícios que você conseguiu fazer.\n",
        "\n",
        "Avaliação:\n",
        "\n",
        "Esse é um processo seletivo para escolher alunos especiais para o curso IA-024 onde existem 50 candidatos inscritos. Serão selecionados os alunos que obtiverem as melhores avaliações nas respostas dos exercícios. É esperado que sejam selecionados da ordem de 10 a 15 alunos especiais.\n",
        "\n",
        "\n",
        "\n"
      ]
    }
  ],
  "metadata": {
    "accelerator": "GPU",
    "colab": {
      "gpuType": "T4",
      "provenance": []
    },
    "kernelspec": {
      "display_name": "unicamp",
      "language": "python",
      "name": "python3"
    },
    "language_info": {
      "codemirror_mode": {
        "name": "ipython",
        "version": 3
      },
      "file_extension": ".py",
      "mimetype": "text/x-python",
      "name": "python",
      "nbconvert_exporter": "python",
      "pygments_lexer": "ipython3",
      "version": "3.10.12"
    }
  },
  "nbformat": 4,
  "nbformat_minor": 0
}
